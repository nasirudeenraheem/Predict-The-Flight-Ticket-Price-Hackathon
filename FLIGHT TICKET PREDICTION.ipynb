{
 "cells": [
  {
   "cell_type": "code",
   "execution_count": 2,
   "metadata": {
    "collapsed": true
   },
   "outputs": [],
   "source": [
    "import pandas as pd #for data reading and manupulation\n",
    "import numpy as np # for data manupulation\n",
    "import matplotlib.pyplot as plt # for data Visualization\n",
    "import seaborn as sns # for data Visualization\n",
    "%matplotlib inline\n",
    "from sklearn.preprocessing import StandardScaler # for data scaling\n",
    "from sklearn.decomposition import PCA # for dimentionality  reduction\n",
    "from sklearn.cluster import KMeans # for clustering"
   ]
  },
  {
   "cell_type": "code",
   "execution_count": 3,
   "metadata": {
    "collapsed": true
   },
   "outputs": [],
   "source": [
    "sns.set_style()"
   ]
  },
  {
   "cell_type": "code",
   "execution_count": 4,
   "metadata": {
    "collapsed": true
   },
   "outputs": [],
   "source": [
    "train = pd.read_excel('train_ticket.xlsx')\n",
    "test = pd.read_excel('test_ticket.xlsx')"
   ]
  },
  {
   "cell_type": "code",
   "execution_count": 5,
   "metadata": {
    "collapsed": false
   },
   "outputs": [
    {
     "data": {
      "text/html": [
       "<div>\n",
       "<table border=\"1\" class=\"dataframe\">\n",
       "  <thead>\n",
       "    <tr style=\"text-align: right;\">\n",
       "      <th></th>\n",
       "      <th>Airline</th>\n",
       "      <th>Date_of_Journey</th>\n",
       "      <th>Source</th>\n",
       "      <th>Destination</th>\n",
       "      <th>Route</th>\n",
       "      <th>Dep_Time</th>\n",
       "      <th>Arrival_Time</th>\n",
       "      <th>Duration</th>\n",
       "      <th>Total_Stops</th>\n",
       "      <th>Additional_Info</th>\n",
       "      <th>Price</th>\n",
       "    </tr>\n",
       "  </thead>\n",
       "  <tbody>\n",
       "    <tr>\n",
       "      <th>0</th>\n",
       "      <td>IndiGo</td>\n",
       "      <td>24/03/2019</td>\n",
       "      <td>Banglore</td>\n",
       "      <td>New Delhi</td>\n",
       "      <td>BLR → DEL</td>\n",
       "      <td>22:20</td>\n",
       "      <td>01:10 22 Mar</td>\n",
       "      <td>2h 50m</td>\n",
       "      <td>non-stop</td>\n",
       "      <td>No info</td>\n",
       "      <td>3897</td>\n",
       "    </tr>\n",
       "    <tr>\n",
       "      <th>1</th>\n",
       "      <td>Air India</td>\n",
       "      <td>1/05/2019</td>\n",
       "      <td>Kolkata</td>\n",
       "      <td>Banglore</td>\n",
       "      <td>CCU → IXR → BBI → BLR</td>\n",
       "      <td>05:50</td>\n",
       "      <td>13:15</td>\n",
       "      <td>7h 25m</td>\n",
       "      <td>2 stops</td>\n",
       "      <td>No info</td>\n",
       "      <td>7662</td>\n",
       "    </tr>\n",
       "    <tr>\n",
       "      <th>2</th>\n",
       "      <td>Jet Airways</td>\n",
       "      <td>9/06/2019</td>\n",
       "      <td>Delhi</td>\n",
       "      <td>Cochin</td>\n",
       "      <td>DEL → LKO → BOM → COK</td>\n",
       "      <td>09:25</td>\n",
       "      <td>04:25 10 Jun</td>\n",
       "      <td>19h</td>\n",
       "      <td>2 stops</td>\n",
       "      <td>No info</td>\n",
       "      <td>13882</td>\n",
       "    </tr>\n",
       "    <tr>\n",
       "      <th>3</th>\n",
       "      <td>IndiGo</td>\n",
       "      <td>12/05/2019</td>\n",
       "      <td>Kolkata</td>\n",
       "      <td>Banglore</td>\n",
       "      <td>CCU → NAG → BLR</td>\n",
       "      <td>18:05</td>\n",
       "      <td>23:30</td>\n",
       "      <td>5h 25m</td>\n",
       "      <td>1 stop</td>\n",
       "      <td>No info</td>\n",
       "      <td>6218</td>\n",
       "    </tr>\n",
       "    <tr>\n",
       "      <th>4</th>\n",
       "      <td>IndiGo</td>\n",
       "      <td>01/03/2019</td>\n",
       "      <td>Banglore</td>\n",
       "      <td>New Delhi</td>\n",
       "      <td>BLR → NAG → DEL</td>\n",
       "      <td>16:50</td>\n",
       "      <td>21:35</td>\n",
       "      <td>4h 45m</td>\n",
       "      <td>1 stop</td>\n",
       "      <td>No info</td>\n",
       "      <td>13302</td>\n",
       "    </tr>\n",
       "  </tbody>\n",
       "</table>\n",
       "</div>"
      ],
      "text/plain": [
       "       Airline Date_of_Journey    Source Destination                  Route  \\\n",
       "0       IndiGo      24/03/2019  Banglore   New Delhi              BLR → DEL   \n",
       "1    Air India       1/05/2019   Kolkata    Banglore  CCU → IXR → BBI → BLR   \n",
       "2  Jet Airways       9/06/2019     Delhi      Cochin  DEL → LKO → BOM → COK   \n",
       "3       IndiGo      12/05/2019   Kolkata    Banglore        CCU → NAG → BLR   \n",
       "4       IndiGo      01/03/2019  Banglore   New Delhi        BLR → NAG → DEL   \n",
       "\n",
       "  Dep_Time  Arrival_Time Duration Total_Stops Additional_Info  Price  \n",
       "0    22:20  01:10 22 Mar   2h 50m    non-stop         No info   3897  \n",
       "1    05:50         13:15   7h 25m     2 stops         No info   7662  \n",
       "2    09:25  04:25 10 Jun      19h     2 stops         No info  13882  \n",
       "3    18:05         23:30   5h 25m      1 stop         No info   6218  \n",
       "4    16:50         21:35   4h 45m      1 stop         No info  13302  "
      ]
     },
     "execution_count": 5,
     "metadata": {},
     "output_type": "execute_result"
    }
   ],
   "source": [
    "train.head()"
   ]
  },
  {
   "cell_type": "code",
   "execution_count": 6,
   "metadata": {
    "collapsed": false
   },
   "outputs": [
    {
     "data": {
      "text/html": [
       "<div>\n",
       "<table border=\"1\" class=\"dataframe\">\n",
       "  <thead>\n",
       "    <tr style=\"text-align: right;\">\n",
       "      <th></th>\n",
       "      <th>Airline</th>\n",
       "      <th>Date_of_Journey</th>\n",
       "      <th>Source</th>\n",
       "      <th>Destination</th>\n",
       "      <th>Route</th>\n",
       "      <th>Dep_Time</th>\n",
       "      <th>Arrival_Time</th>\n",
       "      <th>Duration</th>\n",
       "      <th>Total_Stops</th>\n",
       "      <th>Additional_Info</th>\n",
       "    </tr>\n",
       "  </thead>\n",
       "  <tbody>\n",
       "    <tr>\n",
       "      <th>0</th>\n",
       "      <td>Jet Airways</td>\n",
       "      <td>6/06/2019</td>\n",
       "      <td>Delhi</td>\n",
       "      <td>Cochin</td>\n",
       "      <td>DEL → BOM → COK</td>\n",
       "      <td>17:30</td>\n",
       "      <td>04:25 07 Jun</td>\n",
       "      <td>10h 55m</td>\n",
       "      <td>1 stop</td>\n",
       "      <td>No info</td>\n",
       "    </tr>\n",
       "    <tr>\n",
       "      <th>1</th>\n",
       "      <td>IndiGo</td>\n",
       "      <td>12/05/2019</td>\n",
       "      <td>Kolkata</td>\n",
       "      <td>Banglore</td>\n",
       "      <td>CCU → MAA → BLR</td>\n",
       "      <td>06:20</td>\n",
       "      <td>10:20</td>\n",
       "      <td>4h</td>\n",
       "      <td>1 stop</td>\n",
       "      <td>No info</td>\n",
       "    </tr>\n",
       "    <tr>\n",
       "      <th>2</th>\n",
       "      <td>Jet Airways</td>\n",
       "      <td>21/05/2019</td>\n",
       "      <td>Delhi</td>\n",
       "      <td>Cochin</td>\n",
       "      <td>DEL → BOM → COK</td>\n",
       "      <td>19:15</td>\n",
       "      <td>19:00 22 May</td>\n",
       "      <td>23h 45m</td>\n",
       "      <td>1 stop</td>\n",
       "      <td>In-flight meal not included</td>\n",
       "    </tr>\n",
       "    <tr>\n",
       "      <th>3</th>\n",
       "      <td>Multiple carriers</td>\n",
       "      <td>21/05/2019</td>\n",
       "      <td>Delhi</td>\n",
       "      <td>Cochin</td>\n",
       "      <td>DEL → BOM → COK</td>\n",
       "      <td>08:00</td>\n",
       "      <td>21:00</td>\n",
       "      <td>13h</td>\n",
       "      <td>1 stop</td>\n",
       "      <td>No info</td>\n",
       "    </tr>\n",
       "    <tr>\n",
       "      <th>4</th>\n",
       "      <td>Air Asia</td>\n",
       "      <td>24/06/2019</td>\n",
       "      <td>Banglore</td>\n",
       "      <td>Delhi</td>\n",
       "      <td>BLR → DEL</td>\n",
       "      <td>23:55</td>\n",
       "      <td>02:45 25 Jun</td>\n",
       "      <td>2h 50m</td>\n",
       "      <td>non-stop</td>\n",
       "      <td>No info</td>\n",
       "    </tr>\n",
       "  </tbody>\n",
       "</table>\n",
       "</div>"
      ],
      "text/plain": [
       "             Airline Date_of_Journey    Source Destination            Route  \\\n",
       "0        Jet Airways       6/06/2019     Delhi      Cochin  DEL → BOM → COK   \n",
       "1             IndiGo      12/05/2019   Kolkata    Banglore  CCU → MAA → BLR   \n",
       "2        Jet Airways      21/05/2019     Delhi      Cochin  DEL → BOM → COK   \n",
       "3  Multiple carriers      21/05/2019     Delhi      Cochin  DEL → BOM → COK   \n",
       "4           Air Asia      24/06/2019  Banglore       Delhi        BLR → DEL   \n",
       "\n",
       "  Dep_Time  Arrival_Time Duration Total_Stops              Additional_Info  \n",
       "0    17:30  04:25 07 Jun  10h 55m      1 stop                      No info  \n",
       "1    06:20         10:20       4h      1 stop                      No info  \n",
       "2    19:15  19:00 22 May  23h 45m      1 stop  In-flight meal not included  \n",
       "3    08:00         21:00      13h      1 stop                      No info  \n",
       "4    23:55  02:45 25 Jun   2h 50m    non-stop                      No info  "
      ]
     },
     "execution_count": 6,
     "metadata": {},
     "output_type": "execute_result"
    }
   ],
   "source": [
    "test.head()"
   ]
  },
  {
   "cell_type": "markdown",
   "metadata": {},
   "source": [
    "## checking through the datatype"
   ]
  },
  {
   "cell_type": "code",
   "execution_count": 7,
   "metadata": {
    "collapsed": false
   },
   "outputs": [
    {
     "name": "stdout",
     "output_type": "stream",
     "text": [
      "<class 'pandas.core.frame.DataFrame'>\n",
      "RangeIndex: 10683 entries, 0 to 10682\n",
      "Data columns (total 11 columns):\n",
      "Airline            10683 non-null object\n",
      "Date_of_Journey    10683 non-null object\n",
      "Source             10683 non-null object\n",
      "Destination        10683 non-null object\n",
      "Route              10682 non-null object\n",
      "Dep_Time           10683 non-null object\n",
      "Arrival_Time       10683 non-null object\n",
      "Duration           10683 non-null object\n",
      "Total_Stops        10682 non-null object\n",
      "Additional_Info    10683 non-null object\n",
      "Price              10683 non-null int64\n",
      "dtypes: int64(1), object(10)\n",
      "memory usage: 918.1+ KB\n"
     ]
    }
   ],
   "source": [
    "train.info()"
   ]
  },
  {
   "cell_type": "markdown",
   "metadata": {
    "collapsed": true
   },
   "source": [
    "## explanatory analysis"
   ]
  },
  {
   "cell_type": "code",
   "execution_count": 8,
   "metadata": {
    "collapsed": false
   },
   "outputs": [
    {
     "data": {
      "text/plain": [
       "<matplotlib.axes._subplots.AxesSubplot at 0x1c1a9d7b198>"
      ]
     },
     "execution_count": 8,
     "metadata": {},
     "output_type": "execute_result"
    },
    {
     "data": {
      "image/png": "[encoded data removed]",
      "text/plain": [
       "<matplotlib.figure.Figure at 0x1c1a9b74860>"
      ]
     },
     "metadata": {},
     "output_type": "display_data"
    }
   ],
   "source": [
    "train['Airline'].value_counts().plot(kind='bar')"
   ]
  },
  {
   "cell_type": "code",
   "execution_count": 9,
   "metadata": {
    "collapsed": false
   },
   "outputs": [
    {
     "data": {
      "text/plain": [
       "<matplotlib.axes._subplots.AxesSubplot at 0x1c1a9d7b0f0>"
      ]
     },
     "execution_count": 9,
     "metadata": {},
     "output_type": "execute_result"
    },
    {
     "data": {
      "image/png": "[encoded data removed]",
      "text/plain": [
       "<matplotlib.figure.Figure at 0x1c1a9cb9ac8>"
      ]
     },
     "metadata": {},
     "output_type": "display_data"
    }
   ],
   "source": [
    "train['Source'].value_counts().plot(kind='bar')"
   ]
  },
  {
   "cell_type": "code",
   "execution_count": 10,
   "metadata": {
    "collapsed": false
   },
   "outputs": [
    {
     "data": {
      "text/plain": [
       "<matplotlib.axes._subplots.AxesSubplot at 0x1c1a9d57a90>"
      ]
     },
     "execution_count": 10,
     "metadata": {},
     "output_type": "execute_result"
    },
    {
     "data": {
      "image/png": "[encoded data removed]",
      "text/plain": [
       "<matplotlib.figure.Figure at 0x1c1a9ae0ef0>"
      ]
     },
     "metadata": {},
     "output_type": "display_data"
    }
   ],
   "source": [
    "train['Destination'].value_counts().plot(kind='bar')"
   ]
  },
  {
   "cell_type": "code",
   "execution_count": 11,
   "metadata": {
    "collapsed": false
   },
   "outputs": [
    {
     "data": {
      "text/plain": [
       "<matplotlib.axes._subplots.AxesSubplot at 0x1c1a9b83a58>"
      ]
     },
     "execution_count": 11,
     "metadata": {},
     "output_type": "execute_result"
    },
    {
     "data": {
      "image/png": "[encoded data removed]",
      "text/plain": [
       "<matplotlib.figure.Figure at 0x1c1a9a8aba8>"
      ]
     },
     "metadata": {},
     "output_type": "display_data"
    }
   ],
   "source": [
    "train['Additional_Info'].value_counts().plot(kind='bar')"
   ]
  },
  {
   "cell_type": "code",
   "execution_count": 12,
   "metadata": {
    "collapsed": false
   },
   "outputs": [
    {
     "data": {
      "text/plain": [
       "No info                         8345\n",
       "In-flight meal not included     1982\n",
       "No check-in baggage included     320\n",
       "1 Long layover                    19\n",
       "Change airports                    7\n",
       "Business class                     4\n",
       "No Info                            3\n",
       "1 Short layover                    1\n",
       "Red-eye flight                     1\n",
       "2 Long layover                     1\n",
       "Name: Additional_Info, dtype: int64"
      ]
     },
     "execution_count": 12,
     "metadata": {},
     "output_type": "execute_result"
    }
   ],
   "source": [
    "train['Additional_Info'].value_counts()"
   ]
  },
  {
   "cell_type": "markdown",
   "metadata": {},
   "source": [
    "## datetime datatypes"
   ]
  },
  {
   "cell_type": "markdown",
   "metadata": {},
   "source": [
    "I have to clean both train and test object at a time for save my time "
   ]
  },
  {
   "cell_type": "code",
   "execution_count": 13,
   "metadata": {
    "collapsed": false
   },
   "outputs": [],
   "source": [
    "train['Date_of_Journey'] = pd.to_datetime(train['Date_of_Journey'], infer_datetime_format=True)\n",
    "test['Date_of_Journey'] = pd.to_datetime(test['Date_of_Journey'], infer_datetime_format=True)"
   ]
  },
  {
   "cell_type": "code",
   "execution_count": 14,
   "metadata": {
    "collapsed": false
   },
   "outputs": [],
   "source": [
    "train['year_of_journey'] = train['Date_of_Journey'].dt.year\n",
    "train['days_of_journey'] = train['Date_of_Journey'].dt.dayofweek\n",
    "train['month_of_journey'] = train['Date_of_Journey'].dt.month"
   ]
  },
  {
   "cell_type": "code",
   "execution_count": 15,
   "metadata": {
    "collapsed": false
   },
   "outputs": [],
   "source": [
    "test['year_of_journey'] = test['Date_of_Journey'].dt.year\n",
    "test['days_of_journey'] = test['Date_of_Journey'].dt.dayofweek\n",
    "test['month_of_journey'] = test['Date_of_Journey'].dt.month"
   ]
  },
  {
   "cell_type": "code",
   "execution_count": 16,
   "metadata": {
    "collapsed": true
   },
   "outputs": [],
   "source": [
    "# converting DEP_Time to minutes\n",
    "train[\"Dep_Time\"] = train[\"Dep_Time\"].str.split(':').apply(lambda x: int(x[0]) * 60 + int(x[1]))\n",
    "test[\"Dep_Time\"] = test[\"Dep_Time\"].str.split(':').apply(lambda x: int(x[0]) * 60 + int(x[1]))"
   ]
  },
  {
   "cell_type": "markdown",
   "metadata": {},
   "source": [
    "## dealing with duration and arrival time\n",
    "\n",
    "The error has to be split for better preprocessing of both columns"
   ]
  },
  {
   "cell_type": "code",
   "execution_count": 17,
   "metadata": {
    "collapsed": false
   },
   "outputs": [],
   "source": [
    "# new data frame with split value columns \n",
    "new = train[\"Duration\"].str.split(\" \", n = 1, expand = True) "
   ]
  },
  {
   "cell_type": "code",
   "execution_count": 18,
   "metadata": {
    "collapsed": true
   },
   "outputs": [],
   "source": [
    "train['Duration_hour'] = new[0]"
   ]
  },
  {
   "cell_type": "code",
   "execution_count": 19,
   "metadata": {
    "collapsed": true
   },
   "outputs": [],
   "source": [
    "train['Duration_minute'] = new[1]"
   ]
  },
  {
   "cell_type": "code",
   "execution_count": 20,
   "metadata": {
    "collapsed": true
   },
   "outputs": [],
   "source": [
    "new_test = test[\"Duration\"].str.split(\" \", n = 1, expand = True) \n",
    "test[\"Duration_hour\"] = new_test[0]\n",
    "test[\"Duration_minute\"] = new_test[1]"
   ]
  },
  {
   "cell_type": "code",
   "execution_count": null,
   "metadata": {
    "collapsed": true
   },
   "outputs": [],
   "source": []
  },
  {
   "cell_type": "code",
   "execution_count": 21,
   "metadata": {
    "collapsed": false
   },
   "outputs": [],
   "source": [
    "new1 = train[\"Arrival_Time\"].str.split(\" \", n = 1, expand =True) "
   ]
  },
  {
   "cell_type": "code",
   "execution_count": 22,
   "metadata": {
    "collapsed": false
   },
   "outputs": [],
   "source": [
    "train['Arrival_time'] = new1[0]\n",
    "train['Arrival_date'] = new1[1]"
   ]
  },
  {
   "cell_type": "code",
   "execution_count": 23,
   "metadata": {
    "collapsed": false
   },
   "outputs": [],
   "source": [
    "train['Arrival_time'] = train['Arrival_time'].astype('object')"
   ]
  },
  {
   "cell_type": "code",
   "execution_count": 24,
   "metadata": {
    "collapsed": true
   },
   "outputs": [],
   "source": [
    "train['Arrival_date'] = train['Arrival_date'].astype('object')"
   ]
  },
  {
   "cell_type": "code",
   "execution_count": 25,
   "metadata": {
    "collapsed": false
   },
   "outputs": [],
   "source": [
    "train[\"Arrival_time\"] = train[\"Arrival_time\"].str.split(':').apply(lambda x: int(x[0]) * 60 + int(x[1]))"
   ]
  },
  {
   "cell_type": "code",
   "execution_count": 26,
   "metadata": {
    "collapsed": true
   },
   "outputs": [],
   "source": [
    "new1_test = test[\"Arrival_Time\"].str.split(\" \", n = 1, expand =True) \n",
    "test['Arrival_time'] = new1_test[0]\n",
    "test['Arrival_date'] = new1_test[1]"
   ]
  },
  {
   "cell_type": "code",
   "execution_count": 27,
   "metadata": {
    "collapsed": true
   },
   "outputs": [],
   "source": [
    "test['Arrival_time'] = test['Arrival_time'].astype('object')\n",
    "test['Arrival_date'] = test['Arrival_date'].astype('object')"
   ]
  },
  {
   "cell_type": "code",
   "execution_count": 28,
   "metadata": {
    "collapsed": true
   },
   "outputs": [],
   "source": [
    "test[\"Arrival_time\"] = test[\"Arrival_time\"].str.split(':').apply(lambda x: int(x[0]) * 60 + int(x[1]))"
   ]
  },
  {
   "cell_type": "markdown",
   "metadata": {},
   "source": [
    "I have been able to clean the Arrival Time to minutes both training and test set"
   ]
  },
  {
   "cell_type": "code",
   "execution_count": 29,
   "metadata": {
    "collapsed": false
   },
   "outputs": [
    {
     "data": {
      "text/html": [
       "<div>\n",
       "<table border=\"1\" class=\"dataframe\">\n",
       "  <thead>\n",
       "    <tr style=\"text-align: right;\">\n",
       "      <th></th>\n",
       "      <th>Airline</th>\n",
       "      <th>Date_of_Journey</th>\n",
       "      <th>Source</th>\n",
       "      <th>Destination</th>\n",
       "      <th>Route</th>\n",
       "      <th>Dep_Time</th>\n",
       "      <th>Arrival_Time</th>\n",
       "      <th>Duration</th>\n",
       "      <th>Total_Stops</th>\n",
       "      <th>Additional_Info</th>\n",
       "      <th>Price</th>\n",
       "      <th>year_of_journey</th>\n",
       "      <th>days_of_journey</th>\n",
       "      <th>month_of_journey</th>\n",
       "      <th>Duration_hour</th>\n",
       "      <th>Duration_minute</th>\n",
       "      <th>Arrival_time</th>\n",
       "      <th>Arrival_date</th>\n",
       "    </tr>\n",
       "  </thead>\n",
       "  <tbody>\n",
       "    <tr>\n",
       "      <th>0</th>\n",
       "      <td>IndiGo</td>\n",
       "      <td>2019-03-24</td>\n",
       "      <td>Banglore</td>\n",
       "      <td>New Delhi</td>\n",
       "      <td>BLR → DEL</td>\n",
       "      <td>1340</td>\n",
       "      <td>01:10 22 Mar</td>\n",
       "      <td>2h 50m</td>\n",
       "      <td>non-stop</td>\n",
       "      <td>No info</td>\n",
       "      <td>3897</td>\n",
       "      <td>2019</td>\n",
       "      <td>6</td>\n",
       "      <td>3</td>\n",
       "      <td>2h</td>\n",
       "      <td>50m</td>\n",
       "      <td>70</td>\n",
       "      <td>22 Mar</td>\n",
       "    </tr>\n",
       "    <tr>\n",
       "      <th>1</th>\n",
       "      <td>Air India</td>\n",
       "      <td>2019-05-01</td>\n",
       "      <td>Kolkata</td>\n",
       "      <td>Banglore</td>\n",
       "      <td>CCU → IXR → BBI → BLR</td>\n",
       "      <td>350</td>\n",
       "      <td>13:15</td>\n",
       "      <td>7h 25m</td>\n",
       "      <td>2 stops</td>\n",
       "      <td>No info</td>\n",
       "      <td>7662</td>\n",
       "      <td>2019</td>\n",
       "      <td>2</td>\n",
       "      <td>5</td>\n",
       "      <td>7h</td>\n",
       "      <td>25m</td>\n",
       "      <td>795</td>\n",
       "      <td>None</td>\n",
       "    </tr>\n",
       "    <tr>\n",
       "      <th>2</th>\n",
       "      <td>Jet Airways</td>\n",
       "      <td>2019-06-09</td>\n",
       "      <td>Delhi</td>\n",
       "      <td>Cochin</td>\n",
       "      <td>DEL → LKO → BOM → COK</td>\n",
       "      <td>565</td>\n",
       "      <td>04:25 10 Jun</td>\n",
       "      <td>19h</td>\n",
       "      <td>2 stops</td>\n",
       "      <td>No info</td>\n",
       "      <td>13882</td>\n",
       "      <td>2019</td>\n",
       "      <td>6</td>\n",
       "      <td>6</td>\n",
       "      <td>19h</td>\n",
       "      <td>None</td>\n",
       "      <td>265</td>\n",
       "      <td>10 Jun</td>\n",
       "    </tr>\n",
       "    <tr>\n",
       "      <th>3</th>\n",
       "      <td>IndiGo</td>\n",
       "      <td>2019-05-12</td>\n",
       "      <td>Kolkata</td>\n",
       "      <td>Banglore</td>\n",
       "      <td>CCU → NAG → BLR</td>\n",
       "      <td>1085</td>\n",
       "      <td>23:30</td>\n",
       "      <td>5h 25m</td>\n",
       "      <td>1 stop</td>\n",
       "      <td>No info</td>\n",
       "      <td>6218</td>\n",
       "      <td>2019</td>\n",
       "      <td>6</td>\n",
       "      <td>5</td>\n",
       "      <td>5h</td>\n",
       "      <td>25m</td>\n",
       "      <td>1410</td>\n",
       "      <td>None</td>\n",
       "    </tr>\n",
       "    <tr>\n",
       "      <th>4</th>\n",
       "      <td>IndiGo</td>\n",
       "      <td>2019-03-01</td>\n",
       "      <td>Banglore</td>\n",
       "      <td>New Delhi</td>\n",
       "      <td>BLR → NAG → DEL</td>\n",
       "      <td>1010</td>\n",
       "      <td>21:35</td>\n",
       "      <td>4h 45m</td>\n",
       "      <td>1 stop</td>\n",
       "      <td>No info</td>\n",
       "      <td>13302</td>\n",
       "      <td>2019</td>\n",
       "      <td>4</td>\n",
       "      <td>3</td>\n",
       "      <td>4h</td>\n",
       "      <td>45m</td>\n",
       "      <td>1295</td>\n",
       "      <td>None</td>\n",
       "    </tr>\n",
       "  </tbody>\n",
       "</table>\n",
       "</div>"
      ],
      "text/plain": [
       "       Airline Date_of_Journey    Source Destination                  Route  \\\n",
       "0       IndiGo      2019-03-24  Banglore   New Delhi              BLR → DEL   \n",
       "1    Air India      2019-05-01   Kolkata    Banglore  CCU → IXR → BBI → BLR   \n",
       "2  Jet Airways      2019-06-09     Delhi      Cochin  DEL → LKO → BOM → COK   \n",
       "3       IndiGo      2019-05-12   Kolkata    Banglore        CCU → NAG → BLR   \n",
       "4       IndiGo      2019-03-01  Banglore   New Delhi        BLR → NAG → DEL   \n",
       "\n",
       "   Dep_Time  Arrival_Time Duration Total_Stops Additional_Info  Price  \\\n",
       "0      1340  01:10 22 Mar   2h 50m    non-stop         No info   3897   \n",
       "1       350         13:15   7h 25m     2 stops         No info   7662   \n",
       "2       565  04:25 10 Jun      19h     2 stops         No info  13882   \n",
       "3      1085         23:30   5h 25m      1 stop         No info   6218   \n",
       "4      1010         21:35   4h 45m      1 stop         No info  13302   \n",
       "\n",
       "   year_of_journey  days_of_journey  month_of_journey Duration_hour  \\\n",
       "0             2019                6                 3            2h   \n",
       "1             2019                2                 5            7h   \n",
       "2             2019                6                 6           19h   \n",
       "3             2019                6                 5            5h   \n",
       "4             2019                4                 3            4h   \n",
       "\n",
       "  Duration_minute  Arrival_time Arrival_date  \n",
       "0             50m            70       22 Mar  \n",
       "1             25m           795         None  \n",
       "2            None           265       10 Jun  \n",
       "3             25m          1410         None  \n",
       "4             45m          1295         None  "
      ]
     },
     "execution_count": 29,
     "metadata": {},
     "output_type": "execute_result"
    }
   ],
   "source": [
    "train.head()"
   ]
  },
  {
   "cell_type": "markdown",
   "metadata": {},
   "source": [
    "Now to clean duration minute"
   ]
  },
  {
   "cell_type": "code",
   "execution_count": 30,
   "metadata": {
    "collapsed": false
   },
   "outputs": [],
   "source": [
    "train['Duration_hour'] = train['Duration_hour'].astype('object')\n",
    "train['Duration_minute'] = train['Duration_minute'].astype('object')\n",
    "# for test data\n",
    "test['Duration_hour'] = test['Duration_hour'].astype('object')\n",
    "test['Duration_minute'] = test['Duration_minute'].astype('object')"
   ]
  },
  {
   "cell_type": "code",
   "execution_count": 31,
   "metadata": {
    "collapsed": false
   },
   "outputs": [],
   "source": [
    "train['Duration_hour'] = train['Duration_hour'].replace({'2h':'02', '7h':'07', '19h':'19', '5h':'05', '4h':'04', '15h':'15', '21h':'21', '25h':'25'\n",
    "                                , '13h':'13', '12h':'12',\n",
    "       '26h':'26', '22h':'22', '23h':'23', '20h':'20', '10h':'10', '6h':'06', '11h':'11', '8h':'08', '16h':'16', '3h':'03',\n",
    "       '27h':'27', '1h':'01', '14h':'14', '9h':'09', '18h':'18', '17h':'17', '24h':\"24\", '30h':\"30\", '28h':\"28\", '29h':\"29\",\n",
    "       '37h':\"37\", '34h':\"34\", '38h':\"38\", '35h':\"35\", '36h':\"36\", '47h':\"47\", '33h':\"33\", '32h':\"32\", '31h':\"31\",\n",
    "       '42h':\"42\", '39h':\"39\", '5m':\"05\", '41h':\"41\", '40h':\"40\"})"
   ]
  },
  {
   "cell_type": "code",
   "execution_count": 32,
   "metadata": {
    "collapsed": false
   },
   "outputs": [],
   "source": [
    "train['Duration_minute'] = train['Duration_minute'].replace({'50m':\"50\", '25m':\"25\", None:'00', '45m':\"45\", '30m':\"30\", '5m':\"05\", '15m':\"15\", '35m':\"35\", '10m':\"10\", \n",
    "                                  '20m':\"20\",\n",
    "                                '55m':\"55\", '40m':\"40\"})"
   ]
  },
  {
   "cell_type": "code",
   "execution_count": 33,
   "metadata": {
    "collapsed": false
   },
   "outputs": [],
   "source": [
    "test['Duration_hour'] = test['Duration_hour'].replace({'10h':'10', '4h':'04', '23h':'23', '13h':'13', '2h':'02', '18h':'18', '15h':'15', '5h':'05', '6h':'06', '28h':'28',\n",
    "                                                    '9h':'09','17h':'17','12h':'12', '14h':'14', '11h':'11', '25h':'25', '19h':'19', '7h':'07', '3h':'03', '1h':'01',\n",
    "                                                      '27h':'27', '26h':'26', '8h':'08', '21h':'21', '16h':'16', '22h':'22', '33h':'33', '24h':'24', '38h':'38', '20h':'20',\n",
    "                                                      '35h':'35', '31h':'31', '34h':'34', '29h':'29', '30h':'30', '37h':'37', '36h':'36', '39h':'39', '32h':'32',\n",
    "                                                      '40h':'40', '5m':'05'})"
   ]
  },
  {
   "cell_type": "code",
   "execution_count": 34,
   "metadata": {
    "collapsed": true
   },
   "outputs": [],
   "source": [
    "test['Duration_minute'] = test['Duration_minute'].replace({'55m':'55', None:'00', '45m':'45', '50m':'50', '20m':'20', '5m':'05', '15m':'15',\n",
    "                                                          '40m':'40', '10m':'10', '35m':'35',\n",
    "                                                          '30m':'30', '25m':'25'})"
   ]
  },
  {
   "cell_type": "markdown",
   "metadata": {},
   "source": [
    "checking head DataFrame"
   ]
  },
  {
   "cell_type": "code",
   "execution_count": 35,
   "metadata": {
    "collapsed": false
   },
   "outputs": [
    {
     "data": {
      "text/html": [
       "<div>\n",
       "<table border=\"1\" class=\"dataframe\">\n",
       "  <thead>\n",
       "    <tr style=\"text-align: right;\">\n",
       "      <th></th>\n",
       "      <th>Airline</th>\n",
       "      <th>Date_of_Journey</th>\n",
       "      <th>Source</th>\n",
       "      <th>Destination</th>\n",
       "      <th>Route</th>\n",
       "      <th>Dep_Time</th>\n",
       "      <th>Arrival_Time</th>\n",
       "      <th>Duration</th>\n",
       "      <th>Total_Stops</th>\n",
       "      <th>Additional_Info</th>\n",
       "      <th>Price</th>\n",
       "      <th>year_of_journey</th>\n",
       "      <th>days_of_journey</th>\n",
       "      <th>month_of_journey</th>\n",
       "      <th>Duration_hour</th>\n",
       "      <th>Duration_minute</th>\n",
       "      <th>Arrival_time</th>\n",
       "      <th>Arrival_date</th>\n",
       "    </tr>\n",
       "  </thead>\n",
       "  <tbody>\n",
       "    <tr>\n",
       "      <th>0</th>\n",
       "      <td>IndiGo</td>\n",
       "      <td>2019-03-24</td>\n",
       "      <td>Banglore</td>\n",
       "      <td>New Delhi</td>\n",
       "      <td>BLR → DEL</td>\n",
       "      <td>1340</td>\n",
       "      <td>01:10 22 Mar</td>\n",
       "      <td>2h 50m</td>\n",
       "      <td>non-stop</td>\n",
       "      <td>No info</td>\n",
       "      <td>3897</td>\n",
       "      <td>2019</td>\n",
       "      <td>6</td>\n",
       "      <td>3</td>\n",
       "      <td>02</td>\n",
       "      <td>50</td>\n",
       "      <td>70</td>\n",
       "      <td>22 Mar</td>\n",
       "    </tr>\n",
       "    <tr>\n",
       "      <th>1</th>\n",
       "      <td>Air India</td>\n",
       "      <td>2019-05-01</td>\n",
       "      <td>Kolkata</td>\n",
       "      <td>Banglore</td>\n",
       "      <td>CCU → IXR → BBI → BLR</td>\n",
       "      <td>350</td>\n",
       "      <td>13:15</td>\n",
       "      <td>7h 25m</td>\n",
       "      <td>2 stops</td>\n",
       "      <td>No info</td>\n",
       "      <td>7662</td>\n",
       "      <td>2019</td>\n",
       "      <td>2</td>\n",
       "      <td>5</td>\n",
       "      <td>07</td>\n",
       "      <td>25</td>\n",
       "      <td>795</td>\n",
       "      <td>None</td>\n",
       "    </tr>\n",
       "    <tr>\n",
       "      <th>2</th>\n",
       "      <td>Jet Airways</td>\n",
       "      <td>2019-06-09</td>\n",
       "      <td>Delhi</td>\n",
       "      <td>Cochin</td>\n",
       "      <td>DEL → LKO → BOM → COK</td>\n",
       "      <td>565</td>\n",
       "      <td>04:25 10 Jun</td>\n",
       "      <td>19h</td>\n",
       "      <td>2 stops</td>\n",
       "      <td>No info</td>\n",
       "      <td>13882</td>\n",
       "      <td>2019</td>\n",
       "      <td>6</td>\n",
       "      <td>6</td>\n",
       "      <td>19</td>\n",
       "      <td>00</td>\n",
       "      <td>265</td>\n",
       "      <td>10 Jun</td>\n",
       "    </tr>\n",
       "    <tr>\n",
       "      <th>3</th>\n",
       "      <td>IndiGo</td>\n",
       "      <td>2019-05-12</td>\n",
       "      <td>Kolkata</td>\n",
       "      <td>Banglore</td>\n",
       "      <td>CCU → NAG → BLR</td>\n",
       "      <td>1085</td>\n",
       "      <td>23:30</td>\n",
       "      <td>5h 25m</td>\n",
       "      <td>1 stop</td>\n",
       "      <td>No info</td>\n",
       "      <td>6218</td>\n",
       "      <td>2019</td>\n",
       "      <td>6</td>\n",
       "      <td>5</td>\n",
       "      <td>05</td>\n",
       "      <td>25</td>\n",
       "      <td>1410</td>\n",
       "      <td>None</td>\n",
       "    </tr>\n",
       "    <tr>\n",
       "      <th>4</th>\n",
       "      <td>IndiGo</td>\n",
       "      <td>2019-03-01</td>\n",
       "      <td>Banglore</td>\n",
       "      <td>New Delhi</td>\n",
       "      <td>BLR → NAG → DEL</td>\n",
       "      <td>1010</td>\n",
       "      <td>21:35</td>\n",
       "      <td>4h 45m</td>\n",
       "      <td>1 stop</td>\n",
       "      <td>No info</td>\n",
       "      <td>13302</td>\n",
       "      <td>2019</td>\n",
       "      <td>4</td>\n",
       "      <td>3</td>\n",
       "      <td>04</td>\n",
       "      <td>45</td>\n",
       "      <td>1295</td>\n",
       "      <td>None</td>\n",
       "    </tr>\n",
       "  </tbody>\n",
       "</table>\n",
       "</div>"
      ],
      "text/plain": [
       "       Airline Date_of_Journey    Source Destination                  Route  \\\n",
       "0       IndiGo      2019-03-24  Banglore   New Delhi              BLR → DEL   \n",
       "1    Air India      2019-05-01   Kolkata    Banglore  CCU → IXR → BBI → BLR   \n",
       "2  Jet Airways      2019-06-09     Delhi      Cochin  DEL → LKO → BOM → COK   \n",
       "3       IndiGo      2019-05-12   Kolkata    Banglore        CCU → NAG → BLR   \n",
       "4       IndiGo      2019-03-01  Banglore   New Delhi        BLR → NAG → DEL   \n",
       "\n",
       "   Dep_Time  Arrival_Time Duration Total_Stops Additional_Info  Price  \\\n",
       "0      1340  01:10 22 Mar   2h 50m    non-stop         No info   3897   \n",
       "1       350         13:15   7h 25m     2 stops         No info   7662   \n",
       "2       565  04:25 10 Jun      19h     2 stops         No info  13882   \n",
       "3      1085         23:30   5h 25m      1 stop         No info   6218   \n",
       "4      1010         21:35   4h 45m      1 stop         No info  13302   \n",
       "\n",
       "   year_of_journey  days_of_journey  month_of_journey Duration_hour  \\\n",
       "0             2019                6                 3            02   \n",
       "1             2019                2                 5            07   \n",
       "2             2019                6                 6            19   \n",
       "3             2019                6                 5            05   \n",
       "4             2019                4                 3            04   \n",
       "\n",
       "  Duration_minute  Arrival_time Arrival_date  \n",
       "0              50            70       22 Mar  \n",
       "1              25           795         None  \n",
       "2              00           265       10 Jun  \n",
       "3              25          1410         None  \n",
       "4              45          1295         None  "
      ]
     },
     "execution_count": 35,
     "metadata": {},
     "output_type": "execute_result"
    }
   ],
   "source": [
    "train.head()"
   ]
  },
  {
   "cell_type": "code",
   "execution_count": 36,
   "metadata": {
    "collapsed": true
   },
   "outputs": [],
   "source": [
    "# concating\n",
    "train['duration'] = train['Duration_hour'] + ':' + train['Duration_minute']\n",
    "test['duration'] = test['Duration_hour'] + ':' + test['Duration_minute']"
   ]
  },
  {
   "cell_type": "code",
   "execution_count": 37,
   "metadata": {
    "collapsed": false
   },
   "outputs": [
    {
     "data": {
      "text/html": [
       "<div>\n",
       "<table border=\"1\" class=\"dataframe\">\n",
       "  <thead>\n",
       "    <tr style=\"text-align: right;\">\n",
       "      <th></th>\n",
       "      <th>Airline</th>\n",
       "      <th>Date_of_Journey</th>\n",
       "      <th>Source</th>\n",
       "      <th>Destination</th>\n",
       "      <th>Route</th>\n",
       "      <th>Dep_Time</th>\n",
       "      <th>Arrival_Time</th>\n",
       "      <th>Duration</th>\n",
       "      <th>Total_Stops</th>\n",
       "      <th>Additional_Info</th>\n",
       "      <th>Price</th>\n",
       "      <th>year_of_journey</th>\n",
       "      <th>days_of_journey</th>\n",
       "      <th>month_of_journey</th>\n",
       "      <th>Duration_hour</th>\n",
       "      <th>Duration_minute</th>\n",
       "      <th>Arrival_time</th>\n",
       "      <th>Arrival_date</th>\n",
       "      <th>duration</th>\n",
       "    </tr>\n",
       "  </thead>\n",
       "  <tbody>\n",
       "    <tr>\n",
       "      <th>0</th>\n",
       "      <td>IndiGo</td>\n",
       "      <td>2019-03-24</td>\n",
       "      <td>Banglore</td>\n",
       "      <td>New Delhi</td>\n",
       "      <td>BLR → DEL</td>\n",
       "      <td>1340</td>\n",
       "      <td>01:10 22 Mar</td>\n",
       "      <td>2h 50m</td>\n",
       "      <td>non-stop</td>\n",
       "      <td>No info</td>\n",
       "      <td>3897</td>\n",
       "      <td>2019</td>\n",
       "      <td>6</td>\n",
       "      <td>3</td>\n",
       "      <td>02</td>\n",
       "      <td>50</td>\n",
       "      <td>70</td>\n",
       "      <td>22 Mar</td>\n",
       "      <td>02:50</td>\n",
       "    </tr>\n",
       "    <tr>\n",
       "      <th>1</th>\n",
       "      <td>Air India</td>\n",
       "      <td>2019-05-01</td>\n",
       "      <td>Kolkata</td>\n",
       "      <td>Banglore</td>\n",
       "      <td>CCU → IXR → BBI → BLR</td>\n",
       "      <td>350</td>\n",
       "      <td>13:15</td>\n",
       "      <td>7h 25m</td>\n",
       "      <td>2 stops</td>\n",
       "      <td>No info</td>\n",
       "      <td>7662</td>\n",
       "      <td>2019</td>\n",
       "      <td>2</td>\n",
       "      <td>5</td>\n",
       "      <td>07</td>\n",
       "      <td>25</td>\n",
       "      <td>795</td>\n",
       "      <td>None</td>\n",
       "      <td>07:25</td>\n",
       "    </tr>\n",
       "    <tr>\n",
       "      <th>2</th>\n",
       "      <td>Jet Airways</td>\n",
       "      <td>2019-06-09</td>\n",
       "      <td>Delhi</td>\n",
       "      <td>Cochin</td>\n",
       "      <td>DEL → LKO → BOM → COK</td>\n",
       "      <td>565</td>\n",
       "      <td>04:25 10 Jun</td>\n",
       "      <td>19h</td>\n",
       "      <td>2 stops</td>\n",
       "      <td>No info</td>\n",
       "      <td>13882</td>\n",
       "      <td>2019</td>\n",
       "      <td>6</td>\n",
       "      <td>6</td>\n",
       "      <td>19</td>\n",
       "      <td>00</td>\n",
       "      <td>265</td>\n",
       "      <td>10 Jun</td>\n",
       "      <td>19:00</td>\n",
       "    </tr>\n",
       "    <tr>\n",
       "      <th>3</th>\n",
       "      <td>IndiGo</td>\n",
       "      <td>2019-05-12</td>\n",
       "      <td>Kolkata</td>\n",
       "      <td>Banglore</td>\n",
       "      <td>CCU → NAG → BLR</td>\n",
       "      <td>1085</td>\n",
       "      <td>23:30</td>\n",
       "      <td>5h 25m</td>\n",
       "      <td>1 stop</td>\n",
       "      <td>No info</td>\n",
       "      <td>6218</td>\n",
       "      <td>2019</td>\n",
       "      <td>6</td>\n",
       "      <td>5</td>\n",
       "      <td>05</td>\n",
       "      <td>25</td>\n",
       "      <td>1410</td>\n",
       "      <td>None</td>\n",
       "      <td>05:25</td>\n",
       "    </tr>\n",
       "    <tr>\n",
       "      <th>4</th>\n",
       "      <td>IndiGo</td>\n",
       "      <td>2019-03-01</td>\n",
       "      <td>Banglore</td>\n",
       "      <td>New Delhi</td>\n",
       "      <td>BLR → NAG → DEL</td>\n",
       "      <td>1010</td>\n",
       "      <td>21:35</td>\n",
       "      <td>4h 45m</td>\n",
       "      <td>1 stop</td>\n",
       "      <td>No info</td>\n",
       "      <td>13302</td>\n",
       "      <td>2019</td>\n",
       "      <td>4</td>\n",
       "      <td>3</td>\n",
       "      <td>04</td>\n",
       "      <td>45</td>\n",
       "      <td>1295</td>\n",
       "      <td>None</td>\n",
       "      <td>04:45</td>\n",
       "    </tr>\n",
       "  </tbody>\n",
       "</table>\n",
       "</div>"
      ],
      "text/plain": [
       "       Airline Date_of_Journey    Source Destination                  Route  \\\n",
       "0       IndiGo      2019-03-24  Banglore   New Delhi              BLR → DEL   \n",
       "1    Air India      2019-05-01   Kolkata    Banglore  CCU → IXR → BBI → BLR   \n",
       "2  Jet Airways      2019-06-09     Delhi      Cochin  DEL → LKO → BOM → COK   \n",
       "3       IndiGo      2019-05-12   Kolkata    Banglore        CCU → NAG → BLR   \n",
       "4       IndiGo      2019-03-01  Banglore   New Delhi        BLR → NAG → DEL   \n",
       "\n",
       "   Dep_Time  Arrival_Time Duration Total_Stops Additional_Info  Price  \\\n",
       "0      1340  01:10 22 Mar   2h 50m    non-stop         No info   3897   \n",
       "1       350         13:15   7h 25m     2 stops         No info   7662   \n",
       "2       565  04:25 10 Jun      19h     2 stops         No info  13882   \n",
       "3      1085         23:30   5h 25m      1 stop         No info   6218   \n",
       "4      1010         21:35   4h 45m      1 stop         No info  13302   \n",
       "\n",
       "   year_of_journey  days_of_journey  month_of_journey Duration_hour  \\\n",
       "0             2019                6                 3            02   \n",
       "1             2019                2                 5            07   \n",
       "2             2019                6                 6            19   \n",
       "3             2019                6                 5            05   \n",
       "4             2019                4                 3            04   \n",
       "\n",
       "  Duration_minute  Arrival_time Arrival_date duration  \n",
       "0              50            70       22 Mar    02:50  \n",
       "1              25           795         None    07:25  \n",
       "2              00           265       10 Jun    19:00  \n",
       "3              25          1410         None    05:25  \n",
       "4              45          1295         None    04:45  "
      ]
     },
     "execution_count": 37,
     "metadata": {},
     "output_type": "execute_result"
    }
   ],
   "source": [
    "train.head()"
   ]
  },
  {
   "cell_type": "code",
   "execution_count": 38,
   "metadata": {
    "collapsed": false
   },
   "outputs": [],
   "source": [
    "train[\"duration\"] = train[\"duration\"].str.split(':').apply(lambda x: int(x[0]) * 60 + int(x[1]))\n",
    "test[\"duration\"] = test[\"duration\"].str.split(':').apply(lambda x: int(x[0]) * 60 + int(x[1]))"
   ]
  },
  {
   "cell_type": "code",
   "execution_count": 39,
   "metadata": {
    "collapsed": false
   },
   "outputs": [
    {
     "data": {
      "text/html": [
       "<div>\n",
       "<table border=\"1\" class=\"dataframe\">\n",
       "  <thead>\n",
       "    <tr style=\"text-align: right;\">\n",
       "      <th></th>\n",
       "      <th>Airline</th>\n",
       "      <th>Date_of_Journey</th>\n",
       "      <th>Source</th>\n",
       "      <th>Destination</th>\n",
       "      <th>Route</th>\n",
       "      <th>Dep_Time</th>\n",
       "      <th>Arrival_Time</th>\n",
       "      <th>Duration</th>\n",
       "      <th>Total_Stops</th>\n",
       "      <th>Additional_Info</th>\n",
       "      <th>Price</th>\n",
       "      <th>year_of_journey</th>\n",
       "      <th>days_of_journey</th>\n",
       "      <th>month_of_journey</th>\n",
       "      <th>Duration_hour</th>\n",
       "      <th>Duration_minute</th>\n",
       "      <th>Arrival_time</th>\n",
       "      <th>Arrival_date</th>\n",
       "      <th>duration</th>\n",
       "    </tr>\n",
       "  </thead>\n",
       "  <tbody>\n",
       "    <tr>\n",
       "      <th>0</th>\n",
       "      <td>IndiGo</td>\n",
       "      <td>2019-03-24</td>\n",
       "      <td>Banglore</td>\n",
       "      <td>New Delhi</td>\n",
       "      <td>BLR → DEL</td>\n",
       "      <td>1340</td>\n",
       "      <td>01:10 22 Mar</td>\n",
       "      <td>2h 50m</td>\n",
       "      <td>non-stop</td>\n",
       "      <td>No info</td>\n",
       "      <td>3897</td>\n",
       "      <td>2019</td>\n",
       "      <td>6</td>\n",
       "      <td>3</td>\n",
       "      <td>02</td>\n",
       "      <td>50</td>\n",
       "      <td>70</td>\n",
       "      <td>22 Mar</td>\n",
       "      <td>170</td>\n",
       "    </tr>\n",
       "    <tr>\n",
       "      <th>1</th>\n",
       "      <td>Air India</td>\n",
       "      <td>2019-05-01</td>\n",
       "      <td>Kolkata</td>\n",
       "      <td>Banglore</td>\n",
       "      <td>CCU → IXR → BBI → BLR</td>\n",
       "      <td>350</td>\n",
       "      <td>13:15</td>\n",
       "      <td>7h 25m</td>\n",
       "      <td>2 stops</td>\n",
       "      <td>No info</td>\n",
       "      <td>7662</td>\n",
       "      <td>2019</td>\n",
       "      <td>2</td>\n",
       "      <td>5</td>\n",
       "      <td>07</td>\n",
       "      <td>25</td>\n",
       "      <td>795</td>\n",
       "      <td>None</td>\n",
       "      <td>445</td>\n",
       "    </tr>\n",
       "    <tr>\n",
       "      <th>2</th>\n",
       "      <td>Jet Airways</td>\n",
       "      <td>2019-06-09</td>\n",
       "      <td>Delhi</td>\n",
       "      <td>Cochin</td>\n",
       "      <td>DEL → LKO → BOM → COK</td>\n",
       "      <td>565</td>\n",
       "      <td>04:25 10 Jun</td>\n",
       "      <td>19h</td>\n",
       "      <td>2 stops</td>\n",
       "      <td>No info</td>\n",
       "      <td>13882</td>\n",
       "      <td>2019</td>\n",
       "      <td>6</td>\n",
       "      <td>6</td>\n",
       "      <td>19</td>\n",
       "      <td>00</td>\n",
       "      <td>265</td>\n",
       "      <td>10 Jun</td>\n",
       "      <td>1140</td>\n",
       "    </tr>\n",
       "    <tr>\n",
       "      <th>3</th>\n",
       "      <td>IndiGo</td>\n",
       "      <td>2019-05-12</td>\n",
       "      <td>Kolkata</td>\n",
       "      <td>Banglore</td>\n",
       "      <td>CCU → NAG → BLR</td>\n",
       "      <td>1085</td>\n",
       "      <td>23:30</td>\n",
       "      <td>5h 25m</td>\n",
       "      <td>1 stop</td>\n",
       "      <td>No info</td>\n",
       "      <td>6218</td>\n",
       "      <td>2019</td>\n",
       "      <td>6</td>\n",
       "      <td>5</td>\n",
       "      <td>05</td>\n",
       "      <td>25</td>\n",
       "      <td>1410</td>\n",
       "      <td>None</td>\n",
       "      <td>325</td>\n",
       "    </tr>\n",
       "    <tr>\n",
       "      <th>4</th>\n",
       "      <td>IndiGo</td>\n",
       "      <td>2019-03-01</td>\n",
       "      <td>Banglore</td>\n",
       "      <td>New Delhi</td>\n",
       "      <td>BLR → NAG → DEL</td>\n",
       "      <td>1010</td>\n",
       "      <td>21:35</td>\n",
       "      <td>4h 45m</td>\n",
       "      <td>1 stop</td>\n",
       "      <td>No info</td>\n",
       "      <td>13302</td>\n",
       "      <td>2019</td>\n",
       "      <td>4</td>\n",
       "      <td>3</td>\n",
       "      <td>04</td>\n",
       "      <td>45</td>\n",
       "      <td>1295</td>\n",
       "      <td>None</td>\n",
       "      <td>285</td>\n",
       "    </tr>\n",
       "  </tbody>\n",
       "</table>\n",
       "</div>"
      ],
      "text/plain": [
       "       Airline Date_of_Journey    Source Destination                  Route  \\\n",
       "0       IndiGo      2019-03-24  Banglore   New Delhi              BLR → DEL   \n",
       "1    Air India      2019-05-01   Kolkata    Banglore  CCU → IXR → BBI → BLR   \n",
       "2  Jet Airways      2019-06-09     Delhi      Cochin  DEL → LKO → BOM → COK   \n",
       "3       IndiGo      2019-05-12   Kolkata    Banglore        CCU → NAG → BLR   \n",
       "4       IndiGo      2019-03-01  Banglore   New Delhi        BLR → NAG → DEL   \n",
       "\n",
       "   Dep_Time  Arrival_Time Duration Total_Stops Additional_Info  Price  \\\n",
       "0      1340  01:10 22 Mar   2h 50m    non-stop         No info   3897   \n",
       "1       350         13:15   7h 25m     2 stops         No info   7662   \n",
       "2       565  04:25 10 Jun      19h     2 stops         No info  13882   \n",
       "3      1085         23:30   5h 25m      1 stop         No info   6218   \n",
       "4      1010         21:35   4h 45m      1 stop         No info  13302   \n",
       "\n",
       "   year_of_journey  days_of_journey  month_of_journey Duration_hour  \\\n",
       "0             2019                6                 3            02   \n",
       "1             2019                2                 5            07   \n",
       "2             2019                6                 6            19   \n",
       "3             2019                6                 5            05   \n",
       "4             2019                4                 3            04   \n",
       "\n",
       "  Duration_minute  Arrival_time Arrival_date  duration  \n",
       "0              50            70       22 Mar       170  \n",
       "1              25           795         None       445  \n",
       "2              00           265       10 Jun      1140  \n",
       "3              25          1410         None       325  \n",
       "4              45          1295         None       285  "
      ]
     },
     "execution_count": 39,
     "metadata": {},
     "output_type": "execute_result"
    }
   ],
   "source": [
    "train.head()"
   ]
  },
  {
   "cell_type": "markdown",
   "metadata": {},
   "source": [
    "Cleaning the data into minute"
   ]
  },
  {
   "cell_type": "code",
   "execution_count": 40,
   "metadata": {
    "collapsed": false
   },
   "outputs": [
    {
     "name": "stdout",
     "output_type": "stream",
     "text": [
      "<class 'pandas.core.frame.DataFrame'>\n",
      "RangeIndex: 10683 entries, 0 to 10682\n",
      "Data columns (total 19 columns):\n",
      "Airline             10683 non-null object\n",
      "Date_of_Journey     10683 non-null datetime64[ns]\n",
      "Source              10683 non-null object\n",
      "Destination         10683 non-null object\n",
      "Route               10682 non-null object\n",
      "Dep_Time            10683 non-null int64\n",
      "Arrival_Time        10683 non-null object\n",
      "Duration            10683 non-null object\n",
      "Total_Stops         10682 non-null object\n",
      "Additional_Info     10683 non-null object\n",
      "Price               10683 non-null int64\n",
      "year_of_journey     10683 non-null int64\n",
      "days_of_journey     10683 non-null int64\n",
      "month_of_journey    10683 non-null int64\n",
      "Duration_hour       10683 non-null object\n",
      "Duration_minute     10683 non-null object\n",
      "Arrival_time        10683 non-null int64\n",
      "Arrival_date        4335 non-null object\n",
      "duration            10683 non-null int64\n",
      "dtypes: datetime64[ns](1), int64(7), object(11)\n",
      "memory usage: 1.5+ MB\n"
     ]
    }
   ],
   "source": [
    "train.info()"
   ]
  },
  {
   "cell_type": "markdown",
   "metadata": {},
   "source": [
    "## droping uneccessary column"
   ]
  },
  {
   "cell_type": "code",
   "execution_count": 41,
   "metadata": {
    "collapsed": false
   },
   "outputs": [
    {
     "data": {
      "text/plain": [
       "Index(['Airline', 'Date_of_Journey', 'Source', 'Destination', 'Route',\n",
       "       'Dep_Time', 'Arrival_Time', 'Duration', 'Total_Stops',\n",
       "       'Additional_Info', 'Price', 'year_of_journey', 'days_of_journey',\n",
       "       'month_of_journey', 'Duration_hour', 'Duration_minute', 'Arrival_time',\n",
       "       'Arrival_date', 'duration'],\n",
       "      dtype='object')"
      ]
     },
     "execution_count": 41,
     "metadata": {},
     "output_type": "execute_result"
    }
   ],
   "source": [
    "train.columns"
   ]
  },
  {
   "cell_type": "code",
   "execution_count": 42,
   "metadata": {
    "collapsed": false
   },
   "outputs": [],
   "source": [
    "train.drop(['Arrival_date','Arrival_Time', 'Duration','Duration_hour', 'Duration_minute'], axis=1, inplace=True)"
   ]
  },
  {
   "cell_type": "code",
   "execution_count": 43,
   "metadata": {
    "collapsed": false
   },
   "outputs": [],
   "source": [
    "test.drop(['Arrival_date','Arrival_Time', 'Duration','Duration_hour', 'Duration_minute'], axis=1, inplace=True)"
   ]
  },
  {
   "cell_type": "markdown",
   "metadata": {},
   "source": [
    "## checking the clean data"
   ]
  },
  {
   "cell_type": "code",
   "execution_count": 44,
   "metadata": {
    "collapsed": true
   },
   "outputs": [],
   "source": [
    "# import the data to my csv file\n",
    "#train.to_csv('India_flight_train.csv', index=False)#\n",
    "#test.to_csv('India_flight_test.csv', index=False)"
   ]
  },
  {
   "cell_type": "markdown",
   "metadata": {},
   "source": [
    "## data exploration"
   ]
  },
  {
   "cell_type": "code",
   "execution_count": 45,
   "metadata": {
    "collapsed": false
   },
   "outputs": [
    {
     "data": {
      "text/html": [
       "<div>\n",
       "<table border=\"1\" class=\"dataframe\">\n",
       "  <thead>\n",
       "    <tr style=\"text-align: right;\">\n",
       "      <th></th>\n",
       "      <th>Airline</th>\n",
       "      <th>Date_of_Journey</th>\n",
       "      <th>Source</th>\n",
       "      <th>Destination</th>\n",
       "      <th>Route</th>\n",
       "      <th>Dep_Time</th>\n",
       "      <th>Total_Stops</th>\n",
       "      <th>Additional_Info</th>\n",
       "      <th>Price</th>\n",
       "      <th>year_of_journey</th>\n",
       "      <th>days_of_journey</th>\n",
       "      <th>month_of_journey</th>\n",
       "      <th>Arrival_time</th>\n",
       "      <th>duration</th>\n",
       "    </tr>\n",
       "  </thead>\n",
       "  <tbody>\n",
       "    <tr>\n",
       "      <th>0</th>\n",
       "      <td>IndiGo</td>\n",
       "      <td>2019-03-24</td>\n",
       "      <td>Banglore</td>\n",
       "      <td>New Delhi</td>\n",
       "      <td>BLR → DEL</td>\n",
       "      <td>1340</td>\n",
       "      <td>non-stop</td>\n",
       "      <td>No info</td>\n",
       "      <td>3897</td>\n",
       "      <td>2019</td>\n",
       "      <td>6</td>\n",
       "      <td>3</td>\n",
       "      <td>70</td>\n",
       "      <td>170</td>\n",
       "    </tr>\n",
       "    <tr>\n",
       "      <th>1</th>\n",
       "      <td>Air India</td>\n",
       "      <td>2019-05-01</td>\n",
       "      <td>Kolkata</td>\n",
       "      <td>Banglore</td>\n",
       "      <td>CCU → IXR → BBI → BLR</td>\n",
       "      <td>350</td>\n",
       "      <td>2 stops</td>\n",
       "      <td>No info</td>\n",
       "      <td>7662</td>\n",
       "      <td>2019</td>\n",
       "      <td>2</td>\n",
       "      <td>5</td>\n",
       "      <td>795</td>\n",
       "      <td>445</td>\n",
       "    </tr>\n",
       "    <tr>\n",
       "      <th>2</th>\n",
       "      <td>Jet Airways</td>\n",
       "      <td>2019-06-09</td>\n",
       "      <td>Delhi</td>\n",
       "      <td>Cochin</td>\n",
       "      <td>DEL → LKO → BOM → COK</td>\n",
       "      <td>565</td>\n",
       "      <td>2 stops</td>\n",
       "      <td>No info</td>\n",
       "      <td>13882</td>\n",
       "      <td>2019</td>\n",
       "      <td>6</td>\n",
       "      <td>6</td>\n",
       "      <td>265</td>\n",
       "      <td>1140</td>\n",
       "    </tr>\n",
       "    <tr>\n",
       "      <th>3</th>\n",
       "      <td>IndiGo</td>\n",
       "      <td>2019-05-12</td>\n",
       "      <td>Kolkata</td>\n",
       "      <td>Banglore</td>\n",
       "      <td>CCU → NAG → BLR</td>\n",
       "      <td>1085</td>\n",
       "      <td>1 stop</td>\n",
       "      <td>No info</td>\n",
       "      <td>6218</td>\n",
       "      <td>2019</td>\n",
       "      <td>6</td>\n",
       "      <td>5</td>\n",
       "      <td>1410</td>\n",
       "      <td>325</td>\n",
       "    </tr>\n",
       "    <tr>\n",
       "      <th>4</th>\n",
       "      <td>IndiGo</td>\n",
       "      <td>2019-03-01</td>\n",
       "      <td>Banglore</td>\n",
       "      <td>New Delhi</td>\n",
       "      <td>BLR → NAG → DEL</td>\n",
       "      <td>1010</td>\n",
       "      <td>1 stop</td>\n",
       "      <td>No info</td>\n",
       "      <td>13302</td>\n",
       "      <td>2019</td>\n",
       "      <td>4</td>\n",
       "      <td>3</td>\n",
       "      <td>1295</td>\n",
       "      <td>285</td>\n",
       "    </tr>\n",
       "  </tbody>\n",
       "</table>\n",
       "</div>"
      ],
      "text/plain": [
       "       Airline Date_of_Journey    Source Destination                  Route  \\\n",
       "0       IndiGo      2019-03-24  Banglore   New Delhi              BLR → DEL   \n",
       "1    Air India      2019-05-01   Kolkata    Banglore  CCU → IXR → BBI → BLR   \n",
       "2  Jet Airways      2019-06-09     Delhi      Cochin  DEL → LKO → BOM → COK   \n",
       "3       IndiGo      2019-05-12   Kolkata    Banglore        CCU → NAG → BLR   \n",
       "4       IndiGo      2019-03-01  Banglore   New Delhi        BLR → NAG → DEL   \n",
       "\n",
       "   Dep_Time Total_Stops Additional_Info  Price  year_of_journey  \\\n",
       "0      1340    non-stop         No info   3897             2019   \n",
       "1       350     2 stops         No info   7662             2019   \n",
       "2       565     2 stops         No info  13882             2019   \n",
       "3      1085      1 stop         No info   6218             2019   \n",
       "4      1010      1 stop         No info  13302             2019   \n",
       "\n",
       "   days_of_journey  month_of_journey  Arrival_time  duration  \n",
       "0                6                 3            70       170  \n",
       "1                2                 5           795       445  \n",
       "2                6                 6           265      1140  \n",
       "3                6                 5          1410       325  \n",
       "4                4                 3          1295       285  "
      ]
     },
     "execution_count": 45,
     "metadata": {},
     "output_type": "execute_result"
    }
   ],
   "source": [
    "train.head()"
   ]
  },
  {
   "cell_type": "code",
   "execution_count": 46,
   "metadata": {
    "collapsed": false
   },
   "outputs": [
    {
     "data": {
      "text/plain": [
       "<matplotlib.axes._subplots.AxesSubplot at 0x1c1a9fe4eb8>"
      ]
     },
     "execution_count": 46,
     "metadata": {},
     "output_type": "execute_result"
    },
    {
     "data": {
      "image/png": "[encoded data removed]",
      "text/plain": [
       "<matplotlib.figure.Figure at 0x1c1aa2c3860>"
      ]
     },
     "metadata": {},
     "output_type": "display_data"
    }
   ],
   "source": [
    "train['Total_Stops'].value_counts().plot(kind='bar')"
   ]
  },
  {
   "cell_type": "code",
   "execution_count": 47,
   "metadata": {
    "collapsed": false
   },
   "outputs": [
    {
     "data": {
      "text/plain": [
       "<matplotlib.axes._subplots.AxesSubplot at 0x1c1a9f62d68>"
      ]
     },
     "execution_count": 47,
     "metadata": {},
     "output_type": "execute_result"
    },
    {
     "data": {
      "image/png": "[encoded data removed]",
      "text/plain": [
       "<matplotlib.figure.Figure at 0x1c1a9f84358>"
      ]
     },
     "metadata": {},
     "output_type": "display_data"
    }
   ],
   "source": [
    "train['Additional_Info'].value_counts().plot(kind='bar')"
   ]
  },
  {
   "cell_type": "code",
   "execution_count": 48,
   "metadata": {
    "collapsed": false
   },
   "outputs": [
    {
     "data": {
      "text/plain": [
       "No info                         8345\n",
       "In-flight meal not included     1982\n",
       "No check-in baggage included     320\n",
       "1 Long layover                    19\n",
       "Change airports                    7\n",
       "Business class                     4\n",
       "No Info                            3\n",
       "1 Short layover                    1\n",
       "Red-eye flight                     1\n",
       "2 Long layover                     1\n",
       "Name: Additional_Info, dtype: int64"
      ]
     },
     "execution_count": 48,
     "metadata": {},
     "output_type": "execute_result"
    }
   ],
   "source": [
    "train['Additional_Info'].value_counts()"
   ]
  },
  {
   "cell_type": "code",
   "execution_count": 49,
   "metadata": {
    "collapsed": true
   },
   "outputs": [],
   "source": [
    "# Aditional info has To be Argumented\n",
    "train['Additional_Info'] = train['Additional_Info'].replace({'No Info':'No info'})"
   ]
  },
  {
   "cell_type": "code",
   "execution_count": 50,
   "metadata": {
    "collapsed": false
   },
   "outputs": [
    {
     "data": {
      "text/plain": [
       "No info                         2148\n",
       "In-flight meal not included      444\n",
       "No check-in baggage included      76\n",
       "Business class                     1\n",
       "Change airports                    1\n",
       "1 Long layover                     1\n",
       "Name: Additional_Info, dtype: int64"
      ]
     },
     "execution_count": 50,
     "metadata": {},
     "output_type": "execute_result"
    }
   ],
   "source": [
    "test['Additional_Info'].value_counts()"
   ]
  },
  {
   "cell_type": "code",
   "execution_count": 51,
   "metadata": {
    "collapsed": true
   },
   "outputs": [],
   "source": [
    "test['Additional_Info'] = [1 if values == 'No info' else 0 for values in test['Additional_Info']]"
   ]
  },
  {
   "cell_type": "code",
   "execution_count": 52,
   "metadata": {
    "collapsed": false
   },
   "outputs": [],
   "source": [
    "# list comprehension to argument\n",
    "train['Additional_Info'] = [1 if values == 'No info' else 0 for values in train['Additional_Info']]"
   ]
  },
  {
   "cell_type": "code",
   "execution_count": 53,
   "metadata": {
    "collapsed": false
   },
   "outputs": [
    {
     "data": {
      "text/plain": [
       "1    8348\n",
       "0    2335\n",
       "Name: Additional_Info, dtype: int64"
      ]
     },
     "execution_count": 53,
     "metadata": {},
     "output_type": "execute_result"
    }
   ],
   "source": [
    "train['Additional_Info'].value_counts()"
   ]
  },
  {
   "cell_type": "code",
   "execution_count": 54,
   "metadata": {
    "collapsed": false
   },
   "outputs": [],
   "source": [
    "#train['Price'].describe()"
   ]
  },
  {
   "cell_type": "markdown",
   "metadata": {},
   "source": [
    "## digging insight Explanatory Data Analysis"
   ]
  },
  {
   "cell_type": "code",
   "execution_count": 55,
   "metadata": {
    "collapsed": false
   },
   "outputs": [
    {
     "data": {
      "text/plain": [
       "<matplotlib.axes._subplots.AxesSubplot at 0x1c1a9f74630>"
      ]
     },
     "execution_count": 55,
     "metadata": {},
     "output_type": "execute_result"
    },
    {
     "data": {
      "image/png": "[encoded data removed]",
      "text/plain": [
       "<matplotlib.figure.Figure at 0x1c1aa04c7f0>"
      ]
     },
     "metadata": {},
     "output_type": "display_data"
    }
   ],
   "source": [
    "train['days_of_journey'].value_counts().plot(kind='bar')"
   ]
  },
  {
   "cell_type": "code",
   "execution_count": 56,
   "metadata": {
    "collapsed": false
   },
   "outputs": [
    {
     "data": {
      "text/plain": [
       "Index(['Airline', 'Date_of_Journey', 'Source', 'Destination', 'Route',\n",
       "       'Dep_Time', 'Total_Stops', 'Additional_Info', 'Price',\n",
       "       'year_of_journey', 'days_of_journey', 'month_of_journey',\n",
       "       'Arrival_time', 'duration'],\n",
       "      dtype='object')"
      ]
     },
     "execution_count": 56,
     "metadata": {},
     "output_type": "execute_result"
    }
   ],
   "source": [
    "train.columns"
   ]
  },
  {
   "cell_type": "code",
   "execution_count": 57,
   "metadata": {
    "collapsed": false
   },
   "outputs": [
    {
     "data": {
      "text/plain": [
       "<matplotlib.axes._subplots.AxesSubplot at 0x1c1aa0fa0f0>"
      ]
     },
     "execution_count": 57,
     "metadata": {},
     "output_type": "execute_result"
    },
    {
     "data": {
      "image/png": "[encoded data removed]",
      "text/plain": [
       "<matplotlib.figure.Figure at 0x1c1aa105208>"
      ]
     },
     "metadata": {},
     "output_type": "display_data"
    }
   ],
   "source": [
    "train['Airline'].value_counts().plot(kind='bar')"
   ]
  },
  {
   "cell_type": "code",
   "execution_count": 58,
   "metadata": {
    "collapsed": false
   },
   "outputs": [
    {
     "data": {
      "text/plain": [
       "<matplotlib.axes._subplots.AxesSubplot at 0x1c1aa1ecf98>"
      ]
     },
     "execution_count": 58,
     "metadata": {},
     "output_type": "execute_result"
    },
    {
     "data": {
      "image/png": "[encoded data removed]",
      "text/plain": [
       "<matplotlib.figure.Figure at 0x1c1aa027828>"
      ]
     },
     "metadata": {},
     "output_type": "display_data"
    }
   ],
   "source": [
    "train['Source'].value_counts().plot(kind='bar')"
   ]
  },
  {
   "cell_type": "code",
   "execution_count": 59,
   "metadata": {
    "collapsed": false
   },
   "outputs": [
    {
     "data": {
      "text/plain": [
       "<matplotlib.axes._subplots.AxesSubplot at 0x1c1aa21b390>"
      ]
     },
     "execution_count": 59,
     "metadata": {},
     "output_type": "execute_result"
    },
    {
     "data": {
      "image/png": "[encoded data removed]",
      "text/plain": [
       "<matplotlib.figure.Figure at 0x1c1aa11fbe0>"
      ]
     },
     "metadata": {},
     "output_type": "display_data"
    }
   ],
   "source": [
    "train['Destination'].value_counts().plot(kind='bar')"
   ]
  },
  {
   "cell_type": "code",
   "execution_count": 60,
   "metadata": {
    "collapsed": false
   },
   "outputs": [],
   "source": [
    "#train['Route'].value_counts()"
   ]
  },
  {
   "cell_type": "markdown",
   "metadata": {},
   "source": [
    "## using crosstab"
   ]
  },
  {
   "cell_type": "code",
   "execution_count": 61,
   "metadata": {
    "collapsed": false
   },
   "outputs": [],
   "source": [
    "#pd.crosstab(train['days_of_journey'], train['Airline'], margins=True)"
   ]
  },
  {
   "cell_type": "code",
   "execution_count": 62,
   "metadata": {
    "collapsed": false
   },
   "outputs": [
    {
     "data": {
      "text/html": [
       "<div>\n",
       "<table border=\"1\" class=\"dataframe\">\n",
       "  <thead>\n",
       "    <tr style=\"text-align: right;\">\n",
       "      <th>days_of_journey</th>\n",
       "      <th>0</th>\n",
       "      <th>1</th>\n",
       "      <th>2</th>\n",
       "      <th>3</th>\n",
       "      <th>4</th>\n",
       "      <th>5</th>\n",
       "      <th>6</th>\n",
       "      <th>All</th>\n",
       "    </tr>\n",
       "    <tr>\n",
       "      <th>Airline</th>\n",
       "      <th></th>\n",
       "      <th></th>\n",
       "      <th></th>\n",
       "      <th></th>\n",
       "      <th></th>\n",
       "      <th></th>\n",
       "      <th></th>\n",
       "      <th></th>\n",
       "    </tr>\n",
       "  </thead>\n",
       "  <tbody>\n",
       "    <tr>\n",
       "      <th>Air Asia</th>\n",
       "      <td>50</td>\n",
       "      <td>26</td>\n",
       "      <td>59</td>\n",
       "      <td>47</td>\n",
       "      <td>32</td>\n",
       "      <td>56</td>\n",
       "      <td>49</td>\n",
       "      <td>319</td>\n",
       "    </tr>\n",
       "    <tr>\n",
       "      <th>Air India</th>\n",
       "      <td>270</td>\n",
       "      <td>162</td>\n",
       "      <td>348</td>\n",
       "      <td>285</td>\n",
       "      <td>178</td>\n",
       "      <td>249</td>\n",
       "      <td>260</td>\n",
       "      <td>1752</td>\n",
       "    </tr>\n",
       "    <tr>\n",
       "      <th>GoAir</th>\n",
       "      <td>35</td>\n",
       "      <td>10</td>\n",
       "      <td>38</td>\n",
       "      <td>22</td>\n",
       "      <td>21</td>\n",
       "      <td>33</td>\n",
       "      <td>35</td>\n",
       "      <td>194</td>\n",
       "    </tr>\n",
       "    <tr>\n",
       "      <th>IndiGo</th>\n",
       "      <td>349</td>\n",
       "      <td>140</td>\n",
       "      <td>384</td>\n",
       "      <td>304</td>\n",
       "      <td>218</td>\n",
       "      <td>355</td>\n",
       "      <td>303</td>\n",
       "      <td>2053</td>\n",
       "    </tr>\n",
       "    <tr>\n",
       "      <th>Jet Airways</th>\n",
       "      <td>698</td>\n",
       "      <td>344</td>\n",
       "      <td>730</td>\n",
       "      <td>711</td>\n",
       "      <td>286</td>\n",
       "      <td>562</td>\n",
       "      <td>518</td>\n",
       "      <td>3849</td>\n",
       "    </tr>\n",
       "    <tr>\n",
       "      <th>Jet Airways Business</th>\n",
       "      <td>0</td>\n",
       "      <td>0</td>\n",
       "      <td>1</td>\n",
       "      <td>0</td>\n",
       "      <td>4</td>\n",
       "      <td>0</td>\n",
       "      <td>1</td>\n",
       "      <td>6</td>\n",
       "    </tr>\n",
       "    <tr>\n",
       "      <th>Multiple carriers</th>\n",
       "      <td>221</td>\n",
       "      <td>81</td>\n",
       "      <td>283</td>\n",
       "      <td>265</td>\n",
       "      <td>11</td>\n",
       "      <td>228</td>\n",
       "      <td>107</td>\n",
       "      <td>1196</td>\n",
       "    </tr>\n",
       "    <tr>\n",
       "      <th>Multiple carriers Premium economy</th>\n",
       "      <td>0</td>\n",
       "      <td>0</td>\n",
       "      <td>0</td>\n",
       "      <td>13</td>\n",
       "      <td>0</td>\n",
       "      <td>0</td>\n",
       "      <td>0</td>\n",
       "      <td>13</td>\n",
       "    </tr>\n",
       "    <tr>\n",
       "      <th>SpiceJet</th>\n",
       "      <td>147</td>\n",
       "      <td>67</td>\n",
       "      <td>138</td>\n",
       "      <td>122</td>\n",
       "      <td>109</td>\n",
       "      <td>123</td>\n",
       "      <td>112</td>\n",
       "      <td>818</td>\n",
       "    </tr>\n",
       "    <tr>\n",
       "      <th>Trujet</th>\n",
       "      <td>0</td>\n",
       "      <td>0</td>\n",
       "      <td>1</td>\n",
       "      <td>0</td>\n",
       "      <td>0</td>\n",
       "      <td>0</td>\n",
       "      <td>0</td>\n",
       "      <td>1</td>\n",
       "    </tr>\n",
       "    <tr>\n",
       "      <th>Vistara</th>\n",
       "      <td>80</td>\n",
       "      <td>39</td>\n",
       "      <td>97</td>\n",
       "      <td>63</td>\n",
       "      <td>49</td>\n",
       "      <td>63</td>\n",
       "      <td>88</td>\n",
       "      <td>479</td>\n",
       "    </tr>\n",
       "    <tr>\n",
       "      <th>Vistara Premium economy</th>\n",
       "      <td>0</td>\n",
       "      <td>0</td>\n",
       "      <td>0</td>\n",
       "      <td>0</td>\n",
       "      <td>1</td>\n",
       "      <td>1</td>\n",
       "      <td>1</td>\n",
       "      <td>3</td>\n",
       "    </tr>\n",
       "    <tr>\n",
       "      <th>All</th>\n",
       "      <td>1850</td>\n",
       "      <td>869</td>\n",
       "      <td>2079</td>\n",
       "      <td>1832</td>\n",
       "      <td>909</td>\n",
       "      <td>1670</td>\n",
       "      <td>1474</td>\n",
       "      <td>10683</td>\n",
       "    </tr>\n",
       "  </tbody>\n",
       "</table>\n",
       "</div>"
      ],
      "text/plain": [
       "days_of_journey                       0    1     2     3    4     5     6  \\\n",
       "Airline                                                                     \n",
       "Air Asia                             50   26    59    47   32    56    49   \n",
       "Air India                           270  162   348   285  178   249   260   \n",
       "GoAir                                35   10    38    22   21    33    35   \n",
       "IndiGo                              349  140   384   304  218   355   303   \n",
       "Jet Airways                         698  344   730   711  286   562   518   \n",
       "Jet Airways Business                  0    0     1     0    4     0     1   \n",
       "Multiple carriers                   221   81   283   265   11   228   107   \n",
       "Multiple carriers Premium economy     0    0     0    13    0     0     0   \n",
       "SpiceJet                            147   67   138   122  109   123   112   \n",
       "Trujet                                0    0     1     0    0     0     0   \n",
       "Vistara                              80   39    97    63   49    63    88   \n",
       "Vistara Premium economy               0    0     0     0    1     1     1   \n",
       "All                                1850  869  2079  1832  909  1670  1474   \n",
       "\n",
       "days_of_journey                      All  \n",
       "Airline                                   \n",
       "Air Asia                             319  \n",
       "Air India                           1752  \n",
       "GoAir                                194  \n",
       "IndiGo                              2053  \n",
       "Jet Airways                         3849  \n",
       "Jet Airways Business                   6  \n",
       "Multiple carriers                   1196  \n",
       "Multiple carriers Premium economy     13  \n",
       "SpiceJet                             818  \n",
       "Trujet                                 1  \n",
       "Vistara                              479  \n",
       "Vistara Premium economy                3  \n",
       "All                                10683  "
      ]
     },
     "execution_count": 62,
     "metadata": {},
     "output_type": "execute_result"
    }
   ],
   "source": [
    "pd.crosstab(train['Airline'],train['days_of_journey'], margins=True)"
   ]
  },
  {
   "cell_type": "code",
   "execution_count": 63,
   "metadata": {
    "collapsed": false
   },
   "outputs": [
    {
     "data": {
      "text/html": [
       "<div>\n",
       "<table border=\"1\" class=\"dataframe\">\n",
       "  <thead>\n",
       "    <tr style=\"text-align: right;\">\n",
       "      <th>Destination</th>\n",
       "      <th>Banglore</th>\n",
       "      <th>Cochin</th>\n",
       "      <th>Delhi</th>\n",
       "      <th>Hyderabad</th>\n",
       "      <th>Kolkata</th>\n",
       "      <th>New Delhi</th>\n",
       "      <th>All</th>\n",
       "    </tr>\n",
       "    <tr>\n",
       "      <th>Source</th>\n",
       "      <th></th>\n",
       "      <th></th>\n",
       "      <th></th>\n",
       "      <th></th>\n",
       "      <th></th>\n",
       "      <th></th>\n",
       "      <th></th>\n",
       "    </tr>\n",
       "  </thead>\n",
       "  <tbody>\n",
       "    <tr>\n",
       "      <th>Banglore</th>\n",
       "      <td>0</td>\n",
       "      <td>0</td>\n",
       "      <td>1265</td>\n",
       "      <td>0</td>\n",
       "      <td>0</td>\n",
       "      <td>932</td>\n",
       "      <td>2197</td>\n",
       "    </tr>\n",
       "    <tr>\n",
       "      <th>Chennai</th>\n",
       "      <td>0</td>\n",
       "      <td>0</td>\n",
       "      <td>0</td>\n",
       "      <td>0</td>\n",
       "      <td>381</td>\n",
       "      <td>0</td>\n",
       "      <td>381</td>\n",
       "    </tr>\n",
       "    <tr>\n",
       "      <th>Delhi</th>\n",
       "      <td>0</td>\n",
       "      <td>4537</td>\n",
       "      <td>0</td>\n",
       "      <td>0</td>\n",
       "      <td>0</td>\n",
       "      <td>0</td>\n",
       "      <td>4537</td>\n",
       "    </tr>\n",
       "    <tr>\n",
       "      <th>Kolkata</th>\n",
       "      <td>2871</td>\n",
       "      <td>0</td>\n",
       "      <td>0</td>\n",
       "      <td>0</td>\n",
       "      <td>0</td>\n",
       "      <td>0</td>\n",
       "      <td>2871</td>\n",
       "    </tr>\n",
       "    <tr>\n",
       "      <th>Mumbai</th>\n",
       "      <td>0</td>\n",
       "      <td>0</td>\n",
       "      <td>0</td>\n",
       "      <td>697</td>\n",
       "      <td>0</td>\n",
       "      <td>0</td>\n",
       "      <td>697</td>\n",
       "    </tr>\n",
       "    <tr>\n",
       "      <th>All</th>\n",
       "      <td>2871</td>\n",
       "      <td>4537</td>\n",
       "      <td>1265</td>\n",
       "      <td>697</td>\n",
       "      <td>381</td>\n",
       "      <td>932</td>\n",
       "      <td>10683</td>\n",
       "    </tr>\n",
       "  </tbody>\n",
       "</table>\n",
       "</div>"
      ],
      "text/plain": [
       "Destination  Banglore  Cochin  Delhi  Hyderabad  Kolkata  New Delhi    All\n",
       "Source                                                                    \n",
       "Banglore            0       0   1265          0        0        932   2197\n",
       "Chennai             0       0      0          0      381          0    381\n",
       "Delhi               0    4537      0          0        0          0   4537\n",
       "Kolkata          2871       0      0          0        0          0   2871\n",
       "Mumbai              0       0      0        697        0          0    697\n",
       "All              2871    4537   1265        697      381        932  10683"
      ]
     },
     "execution_count": 63,
     "metadata": {},
     "output_type": "execute_result"
    }
   ],
   "source": [
    "pd.crosstab(train['Source'],train['Destination'], margins=True)"
   ]
  },
  {
   "cell_type": "code",
   "execution_count": 64,
   "metadata": {
    "collapsed": false
   },
   "outputs": [
    {
     "data": {
      "text/html": [
       "<div>\n",
       "<table border=\"1\" class=\"dataframe\">\n",
       "  <thead>\n",
       "    <tr style=\"text-align: right;\">\n",
       "      <th>Destination</th>\n",
       "      <th>Banglore</th>\n",
       "      <th>Cochin</th>\n",
       "      <th>Delhi</th>\n",
       "      <th>Hyderabad</th>\n",
       "      <th>Kolkata</th>\n",
       "      <th>New Delhi</th>\n",
       "      <th>All</th>\n",
       "    </tr>\n",
       "    <tr>\n",
       "      <th>Airline</th>\n",
       "      <th></th>\n",
       "      <th></th>\n",
       "      <th></th>\n",
       "      <th></th>\n",
       "      <th></th>\n",
       "      <th></th>\n",
       "      <th></th>\n",
       "    </tr>\n",
       "  </thead>\n",
       "  <tbody>\n",
       "    <tr>\n",
       "      <th>Air Asia</th>\n",
       "      <td>150</td>\n",
       "      <td>80</td>\n",
       "      <td>71</td>\n",
       "      <td>0</td>\n",
       "      <td>0</td>\n",
       "      <td>18</td>\n",
       "      <td>319</td>\n",
       "    </tr>\n",
       "    <tr>\n",
       "      <th>Air India</th>\n",
       "      <td>512</td>\n",
       "      <td>747</td>\n",
       "      <td>120</td>\n",
       "      <td>136</td>\n",
       "      <td>25</td>\n",
       "      <td>212</td>\n",
       "      <td>1752</td>\n",
       "    </tr>\n",
       "    <tr>\n",
       "      <th>GoAir</th>\n",
       "      <td>25</td>\n",
       "      <td>76</td>\n",
       "      <td>69</td>\n",
       "      <td>0</td>\n",
       "      <td>0</td>\n",
       "      <td>24</td>\n",
       "      <td>194</td>\n",
       "    </tr>\n",
       "    <tr>\n",
       "      <th>IndiGo</th>\n",
       "      <td>445</td>\n",
       "      <td>705</td>\n",
       "      <td>366</td>\n",
       "      <td>196</td>\n",
       "      <td>184</td>\n",
       "      <td>157</td>\n",
       "      <td>2053</td>\n",
       "    </tr>\n",
       "    <tr>\n",
       "      <th>Jet Airways</th>\n",
       "      <td>1256</td>\n",
       "      <td>1586</td>\n",
       "      <td>370</td>\n",
       "      <td>219</td>\n",
       "      <td>0</td>\n",
       "      <td>418</td>\n",
       "      <td>3849</td>\n",
       "    </tr>\n",
       "    <tr>\n",
       "      <th>Jet Airways Business</th>\n",
       "      <td>0</td>\n",
       "      <td>2</td>\n",
       "      <td>0</td>\n",
       "      <td>0</td>\n",
       "      <td>0</td>\n",
       "      <td>4</td>\n",
       "      <td>6</td>\n",
       "    </tr>\n",
       "    <tr>\n",
       "      <th>Multiple carriers</th>\n",
       "      <td>0</td>\n",
       "      <td>1196</td>\n",
       "      <td>0</td>\n",
       "      <td>0</td>\n",
       "      <td>0</td>\n",
       "      <td>0</td>\n",
       "      <td>1196</td>\n",
       "    </tr>\n",
       "    <tr>\n",
       "      <th>Multiple carriers Premium economy</th>\n",
       "      <td>0</td>\n",
       "      <td>13</td>\n",
       "      <td>0</td>\n",
       "      <td>0</td>\n",
       "      <td>0</td>\n",
       "      <td>0</td>\n",
       "      <td>13</td>\n",
       "    </tr>\n",
       "    <tr>\n",
       "      <th>SpiceJet</th>\n",
       "      <td>300</td>\n",
       "      <td>87</td>\n",
       "      <td>137</td>\n",
       "      <td>122</td>\n",
       "      <td>128</td>\n",
       "      <td>44</td>\n",
       "      <td>818</td>\n",
       "    </tr>\n",
       "    <tr>\n",
       "      <th>Trujet</th>\n",
       "      <td>0</td>\n",
       "      <td>0</td>\n",
       "      <td>0</td>\n",
       "      <td>1</td>\n",
       "      <td>0</td>\n",
       "      <td>0</td>\n",
       "      <td>1</td>\n",
       "    </tr>\n",
       "    <tr>\n",
       "      <th>Vistara</th>\n",
       "      <td>183</td>\n",
       "      <td>45</td>\n",
       "      <td>131</td>\n",
       "      <td>23</td>\n",
       "      <td>43</td>\n",
       "      <td>54</td>\n",
       "      <td>479</td>\n",
       "    </tr>\n",
       "    <tr>\n",
       "      <th>Vistara Premium economy</th>\n",
       "      <td>0</td>\n",
       "      <td>0</td>\n",
       "      <td>1</td>\n",
       "      <td>0</td>\n",
       "      <td>1</td>\n",
       "      <td>1</td>\n",
       "      <td>3</td>\n",
       "    </tr>\n",
       "    <tr>\n",
       "      <th>All</th>\n",
       "      <td>2871</td>\n",
       "      <td>4537</td>\n",
       "      <td>1265</td>\n",
       "      <td>697</td>\n",
       "      <td>381</td>\n",
       "      <td>932</td>\n",
       "      <td>10683</td>\n",
       "    </tr>\n",
       "  </tbody>\n",
       "</table>\n",
       "</div>"
      ],
      "text/plain": [
       "Destination                        Banglore  Cochin  Delhi  Hyderabad  \\\n",
       "Airline                                                                 \n",
       "Air Asia                                150      80     71          0   \n",
       "Air India                               512     747    120        136   \n",
       "GoAir                                    25      76     69          0   \n",
       "IndiGo                                  445     705    366        196   \n",
       "Jet Airways                            1256    1586    370        219   \n",
       "Jet Airways Business                      0       2      0          0   \n",
       "Multiple carriers                         0    1196      0          0   \n",
       "Multiple carriers Premium economy         0      13      0          0   \n",
       "SpiceJet                                300      87    137        122   \n",
       "Trujet                                    0       0      0          1   \n",
       "Vistara                                 183      45    131         23   \n",
       "Vistara Premium economy                   0       0      1          0   \n",
       "All                                    2871    4537   1265        697   \n",
       "\n",
       "Destination                        Kolkata  New Delhi    All  \n",
       "Airline                                                       \n",
       "Air Asia                                 0         18    319  \n",
       "Air India                               25        212   1752  \n",
       "GoAir                                    0         24    194  \n",
       "IndiGo                                 184        157   2053  \n",
       "Jet Airways                              0        418   3849  \n",
       "Jet Airways Business                     0          4      6  \n",
       "Multiple carriers                        0          0   1196  \n",
       "Multiple carriers Premium economy        0          0     13  \n",
       "SpiceJet                               128         44    818  \n",
       "Trujet                                   0          0      1  \n",
       "Vistara                                 43         54    479  \n",
       "Vistara Premium economy                  1          1      3  \n",
       "All                                    381        932  10683  "
      ]
     },
     "execution_count": 64,
     "metadata": {},
     "output_type": "execute_result"
    }
   ],
   "source": [
    "pd.crosstab(train['Airline'],train['Destination'], margins=True)"
   ]
  },
  {
   "cell_type": "code",
   "execution_count": 65,
   "metadata": {
    "collapsed": false
   },
   "outputs": [
    {
     "data": {
      "text/html": [
       "<div>\n",
       "<table border=\"1\" class=\"dataframe\">\n",
       "  <thead>\n",
       "    <tr style=\"text-align: right;\">\n",
       "      <th>Source</th>\n",
       "      <th>Banglore</th>\n",
       "      <th>Chennai</th>\n",
       "      <th>Delhi</th>\n",
       "      <th>Kolkata</th>\n",
       "      <th>Mumbai</th>\n",
       "      <th>All</th>\n",
       "    </tr>\n",
       "    <tr>\n",
       "      <th>Airline</th>\n",
       "      <th></th>\n",
       "      <th></th>\n",
       "      <th></th>\n",
       "      <th></th>\n",
       "      <th></th>\n",
       "      <th></th>\n",
       "    </tr>\n",
       "  </thead>\n",
       "  <tbody>\n",
       "    <tr>\n",
       "      <th>Air Asia</th>\n",
       "      <td>89</td>\n",
       "      <td>0</td>\n",
       "      <td>80</td>\n",
       "      <td>150</td>\n",
       "      <td>0</td>\n",
       "      <td>319</td>\n",
       "    </tr>\n",
       "    <tr>\n",
       "      <th>Air India</th>\n",
       "      <td>332</td>\n",
       "      <td>25</td>\n",
       "      <td>747</td>\n",
       "      <td>512</td>\n",
       "      <td>136</td>\n",
       "      <td>1752</td>\n",
       "    </tr>\n",
       "    <tr>\n",
       "      <th>GoAir</th>\n",
       "      <td>93</td>\n",
       "      <td>0</td>\n",
       "      <td>76</td>\n",
       "      <td>25</td>\n",
       "      <td>0</td>\n",
       "      <td>194</td>\n",
       "    </tr>\n",
       "    <tr>\n",
       "      <th>IndiGo</th>\n",
       "      <td>523</td>\n",
       "      <td>184</td>\n",
       "      <td>705</td>\n",
       "      <td>445</td>\n",
       "      <td>196</td>\n",
       "      <td>2053</td>\n",
       "    </tr>\n",
       "    <tr>\n",
       "      <th>Jet Airways</th>\n",
       "      <td>788</td>\n",
       "      <td>0</td>\n",
       "      <td>1586</td>\n",
       "      <td>1256</td>\n",
       "      <td>219</td>\n",
       "      <td>3849</td>\n",
       "    </tr>\n",
       "    <tr>\n",
       "      <th>Jet Airways Business</th>\n",
       "      <td>4</td>\n",
       "      <td>0</td>\n",
       "      <td>2</td>\n",
       "      <td>0</td>\n",
       "      <td>0</td>\n",
       "      <td>6</td>\n",
       "    </tr>\n",
       "    <tr>\n",
       "      <th>Multiple carriers</th>\n",
       "      <td>0</td>\n",
       "      <td>0</td>\n",
       "      <td>1196</td>\n",
       "      <td>0</td>\n",
       "      <td>0</td>\n",
       "      <td>1196</td>\n",
       "    </tr>\n",
       "    <tr>\n",
       "      <th>Multiple carriers Premium economy</th>\n",
       "      <td>0</td>\n",
       "      <td>0</td>\n",
       "      <td>13</td>\n",
       "      <td>0</td>\n",
       "      <td>0</td>\n",
       "      <td>13</td>\n",
       "    </tr>\n",
       "    <tr>\n",
       "      <th>SpiceJet</th>\n",
       "      <td>181</td>\n",
       "      <td>128</td>\n",
       "      <td>87</td>\n",
       "      <td>300</td>\n",
       "      <td>122</td>\n",
       "      <td>818</td>\n",
       "    </tr>\n",
       "    <tr>\n",
       "      <th>Trujet</th>\n",
       "      <td>0</td>\n",
       "      <td>0</td>\n",
       "      <td>0</td>\n",
       "      <td>0</td>\n",
       "      <td>1</td>\n",
       "      <td>1</td>\n",
       "    </tr>\n",
       "    <tr>\n",
       "      <th>Vistara</th>\n",
       "      <td>185</td>\n",
       "      <td>43</td>\n",
       "      <td>45</td>\n",
       "      <td>183</td>\n",
       "      <td>23</td>\n",
       "      <td>479</td>\n",
       "    </tr>\n",
       "    <tr>\n",
       "      <th>Vistara Premium economy</th>\n",
       "      <td>2</td>\n",
       "      <td>1</td>\n",
       "      <td>0</td>\n",
       "      <td>0</td>\n",
       "      <td>0</td>\n",
       "      <td>3</td>\n",
       "    </tr>\n",
       "    <tr>\n",
       "      <th>All</th>\n",
       "      <td>2197</td>\n",
       "      <td>381</td>\n",
       "      <td>4537</td>\n",
       "      <td>2871</td>\n",
       "      <td>697</td>\n",
       "      <td>10683</td>\n",
       "    </tr>\n",
       "  </tbody>\n",
       "</table>\n",
       "</div>"
      ],
      "text/plain": [
       "Source                             Banglore  Chennai  Delhi  Kolkata  Mumbai  \\\n",
       "Airline                                                                        \n",
       "Air Asia                                 89        0     80      150       0   \n",
       "Air India                               332       25    747      512     136   \n",
       "GoAir                                    93        0     76       25       0   \n",
       "IndiGo                                  523      184    705      445     196   \n",
       "Jet Airways                             788        0   1586     1256     219   \n",
       "Jet Airways Business                      4        0      2        0       0   \n",
       "Multiple carriers                         0        0   1196        0       0   \n",
       "Multiple carriers Premium economy         0        0     13        0       0   \n",
       "SpiceJet                                181      128     87      300     122   \n",
       "Trujet                                    0        0      0        0       1   \n",
       "Vistara                                 185       43     45      183      23   \n",
       "Vistara Premium economy                   2        1      0        0       0   \n",
       "All                                    2197      381   4537     2871     697   \n",
       "\n",
       "Source                               All  \n",
       "Airline                                   \n",
       "Air Asia                             319  \n",
       "Air India                           1752  \n",
       "GoAir                                194  \n",
       "IndiGo                              2053  \n",
       "Jet Airways                         3849  \n",
       "Jet Airways Business                   6  \n",
       "Multiple carriers                   1196  \n",
       "Multiple carriers Premium economy     13  \n",
       "SpiceJet                             818  \n",
       "Trujet                                 1  \n",
       "Vistara                              479  \n",
       "Vistara Premium economy                3  \n",
       "All                                10683  "
      ]
     },
     "execution_count": 65,
     "metadata": {},
     "output_type": "execute_result"
    }
   ],
   "source": [
    "pd.crosstab(train['Airline'],train['Source'], margins=True)"
   ]
  },
  {
   "cell_type": "code",
   "execution_count": 66,
   "metadata": {
    "collapsed": true
   },
   "outputs": [],
   "source": [
    "#train.groupby('Airline')['Price'].plot(kind='bar')"
   ]
  },
  {
   "cell_type": "code",
   "execution_count": 67,
   "metadata": {
    "collapsed": false
   },
   "outputs": [
    {
     "data": {
      "text/plain": [
       "<matplotlib.axes._subplots.AxesSubplot at 0x1c1aa369278>"
      ]
     },
     "execution_count": 67,
     "metadata": {},
     "output_type": "execute_result"
    },
    {
     "data": {
      "image/png": "[encoded data removed]",
      "text/plain": [
       "<matplotlib.figure.Figure at 0x1c1aa282cc0>"
      ]
     },
     "metadata": {},
     "output_type": "display_data"
    }
   ],
   "source": [
    "train.groupby('Airline')['Price'].mean().plot(kind='bar')"
   ]
  },
  {
   "cell_type": "code",
   "execution_count": 68,
   "metadata": {
    "collapsed": false
   },
   "outputs": [
    {
     "data": {
      "text/plain": [
       "<matplotlib.axes._subplots.AxesSubplot at 0x1c1ab422588>"
      ]
     },
     "execution_count": 68,
     "metadata": {},
     "output_type": "execute_result"
    },
    {
     "data": {
      "image/png": "[encoded data removed]",
      "text/plain": [
       "<matplotlib.figure.Figure at 0x1c1ab430668>"
      ]
     },
     "metadata": {},
     "output_type": "display_data"
    }
   ],
   "source": [
    "train.groupby('Airline')['Price'].sum().plot(kind='bar')"
   ]
  },
  {
   "cell_type": "markdown",
   "metadata": {},
   "source": [
    "Cleaning the data"
   ]
  },
  {
   "cell_type": "code",
   "execution_count": 69,
   "metadata": {
    "collapsed": false
   },
   "outputs": [
    {
     "data": {
      "text/plain": [
       "Index(['Airline', 'Date_of_Journey', 'Source', 'Destination', 'Route',\n",
       "       'Dep_Time', 'Total_Stops', 'Additional_Info', 'Price',\n",
       "       'year_of_journey', 'days_of_journey', 'month_of_journey',\n",
       "       'Arrival_time', 'duration'],\n",
       "      dtype='object')"
      ]
     },
     "execution_count": 69,
     "metadata": {},
     "output_type": "execute_result"
    }
   ],
   "source": [
    "train.columns"
   ]
  },
  {
   "cell_type": "code",
   "execution_count": 70,
   "metadata": {
    "collapsed": true
   },
   "outputs": [],
   "source": [
    "# list comprehension to argument\n",
    "train['Total_Stops'] = [1 if values == 'non-stop' else 0 for values in train['Total_Stops']]"
   ]
  },
  {
   "cell_type": "code",
   "execution_count": 71,
   "metadata": {
    "collapsed": true
   },
   "outputs": [],
   "source": [
    "# list comprehension to argument\n",
    "test['Total_Stops'] = [1 if values == 'non-stop' else 0 for values in test['Total_Stops']]"
   ]
  },
  {
   "cell_type": "code",
   "execution_count": 72,
   "metadata": {
    "collapsed": true
   },
   "outputs": [],
   "source": [
    "train['Airline'] = train['Airline'].astype('category')\n",
    "# for test data\n",
    "test['Airline'] = test['Airline'].astype('category')"
   ]
  },
  {
   "cell_type": "code",
   "execution_count": 73,
   "metadata": {
    "collapsed": true
   },
   "outputs": [],
   "source": [
    "train['Airline'] = train['Airline'].cat.codes\n",
    "# for test data\n",
    "test['Airline'] = test['Airline'].cat.codes"
   ]
  },
  {
   "cell_type": "code",
   "execution_count": 74,
   "metadata": {
    "collapsed": false
   },
   "outputs": [
    {
     "data": {
      "text/html": [
       "<div>\n",
       "<table border=\"1\" class=\"dataframe\">\n",
       "  <thead>\n",
       "    <tr style=\"text-align: right;\">\n",
       "      <th></th>\n",
       "      <th>Airline</th>\n",
       "      <th>Date_of_Journey</th>\n",
       "      <th>Source</th>\n",
       "      <th>Destination</th>\n",
       "      <th>Route</th>\n",
       "      <th>Dep_Time</th>\n",
       "      <th>Total_Stops</th>\n",
       "      <th>Additional_Info</th>\n",
       "      <th>Price</th>\n",
       "      <th>year_of_journey</th>\n",
       "      <th>days_of_journey</th>\n",
       "      <th>month_of_journey</th>\n",
       "      <th>Arrival_time</th>\n",
       "      <th>duration</th>\n",
       "    </tr>\n",
       "  </thead>\n",
       "  <tbody>\n",
       "    <tr>\n",
       "      <th>0</th>\n",
       "      <td>3</td>\n",
       "      <td>2019-03-24</td>\n",
       "      <td>Banglore</td>\n",
       "      <td>New Delhi</td>\n",
       "      <td>BLR → DEL</td>\n",
       "      <td>1340</td>\n",
       "      <td>1</td>\n",
       "      <td>1</td>\n",
       "      <td>3897</td>\n",
       "      <td>2019</td>\n",
       "      <td>6</td>\n",
       "      <td>3</td>\n",
       "      <td>70</td>\n",
       "      <td>170</td>\n",
       "    </tr>\n",
       "    <tr>\n",
       "      <th>1</th>\n",
       "      <td>1</td>\n",
       "      <td>2019-05-01</td>\n",
       "      <td>Kolkata</td>\n",
       "      <td>Banglore</td>\n",
       "      <td>CCU → IXR → BBI → BLR</td>\n",
       "      <td>350</td>\n",
       "      <td>0</td>\n",
       "      <td>1</td>\n",
       "      <td>7662</td>\n",
       "      <td>2019</td>\n",
       "      <td>2</td>\n",
       "      <td>5</td>\n",
       "      <td>795</td>\n",
       "      <td>445</td>\n",
       "    </tr>\n",
       "    <tr>\n",
       "      <th>2</th>\n",
       "      <td>4</td>\n",
       "      <td>2019-06-09</td>\n",
       "      <td>Delhi</td>\n",
       "      <td>Cochin</td>\n",
       "      <td>DEL → LKO → BOM → COK</td>\n",
       "      <td>565</td>\n",
       "      <td>0</td>\n",
       "      <td>1</td>\n",
       "      <td>13882</td>\n",
       "      <td>2019</td>\n",
       "      <td>6</td>\n",
       "      <td>6</td>\n",
       "      <td>265</td>\n",
       "      <td>1140</td>\n",
       "    </tr>\n",
       "    <tr>\n",
       "      <th>3</th>\n",
       "      <td>3</td>\n",
       "      <td>2019-05-12</td>\n",
       "      <td>Kolkata</td>\n",
       "      <td>Banglore</td>\n",
       "      <td>CCU → NAG → BLR</td>\n",
       "      <td>1085</td>\n",
       "      <td>0</td>\n",
       "      <td>1</td>\n",
       "      <td>6218</td>\n",
       "      <td>2019</td>\n",
       "      <td>6</td>\n",
       "      <td>5</td>\n",
       "      <td>1410</td>\n",
       "      <td>325</td>\n",
       "    </tr>\n",
       "    <tr>\n",
       "      <th>4</th>\n",
       "      <td>3</td>\n",
       "      <td>2019-03-01</td>\n",
       "      <td>Banglore</td>\n",
       "      <td>New Delhi</td>\n",
       "      <td>BLR → NAG → DEL</td>\n",
       "      <td>1010</td>\n",
       "      <td>0</td>\n",
       "      <td>1</td>\n",
       "      <td>13302</td>\n",
       "      <td>2019</td>\n",
       "      <td>4</td>\n",
       "      <td>3</td>\n",
       "      <td>1295</td>\n",
       "      <td>285</td>\n",
       "    </tr>\n",
       "  </tbody>\n",
       "</table>\n",
       "</div>"
      ],
      "text/plain": [
       "   Airline Date_of_Journey    Source Destination                  Route  \\\n",
       "0        3      2019-03-24  Banglore   New Delhi              BLR → DEL   \n",
       "1        1      2019-05-01   Kolkata    Banglore  CCU → IXR → BBI → BLR   \n",
       "2        4      2019-06-09     Delhi      Cochin  DEL → LKO → BOM → COK   \n",
       "3        3      2019-05-12   Kolkata    Banglore        CCU → NAG → BLR   \n",
       "4        3      2019-03-01  Banglore   New Delhi        BLR → NAG → DEL   \n",
       "\n",
       "   Dep_Time  Total_Stops  Additional_Info  Price  year_of_journey  \\\n",
       "0      1340            1                1   3897             2019   \n",
       "1       350            0                1   7662             2019   \n",
       "2       565            0                1  13882             2019   \n",
       "3      1085            0                1   6218             2019   \n",
       "4      1010            0                1  13302             2019   \n",
       "\n",
       "   days_of_journey  month_of_journey  Arrival_time  duration  \n",
       "0                6                 3            70       170  \n",
       "1                2                 5           795       445  \n",
       "2                6                 6           265      1140  \n",
       "3                6                 5          1410       325  \n",
       "4                4                 3          1295       285  "
      ]
     },
     "execution_count": 74,
     "metadata": {},
     "output_type": "execute_result"
    }
   ],
   "source": [
    "train.head()"
   ]
  },
  {
   "cell_type": "code",
   "execution_count": 75,
   "metadata": {
    "collapsed": false
   },
   "outputs": [
    {
     "data": {
      "text/plain": [
       "Airline            -0.039520\n",
       "Dep_Time            0.005485\n",
       "Total_Stops        -0.613760\n",
       "Additional_Info     0.022086\n",
       "Price               1.000000\n",
       "year_of_journey          NaN\n",
       "days_of_journey     0.051613\n",
       "month_of_journey   -0.103651\n",
       "Arrival_time        0.020921\n",
       "duration            0.506495\n",
       "Name: Price, dtype: float64"
      ]
     },
     "execution_count": 75,
     "metadata": {},
     "output_type": "execute_result"
    }
   ],
   "source": [
    "train.corr()['Price']"
   ]
  },
  {
   "cell_type": "code",
   "execution_count": 76,
   "metadata": {
    "collapsed": false
   },
   "outputs": [
    {
     "data": {
      "text/plain": [
       "<matplotlib.axes._subplots.AxesSubplot at 0x1c1ab4cc9e8>"
      ]
     },
     "execution_count": 76,
     "metadata": {},
     "output_type": "execute_result"
    },
    {
     "data": {
      "image/png": "[encoded data removed]",
      "text/plain": [
       "<matplotlib.figure.Figure at 0x1c1aa1f65c0>"
      ]
     },
     "metadata": {},
     "output_type": "display_data"
    }
   ],
   "source": [
    "train.groupby(['Source', 'Destination'])['Price'].sum().plot(kind='bar')"
   ]
  },
  {
   "cell_type": "code",
   "execution_count": 77,
   "metadata": {
    "collapsed": false
   },
   "outputs": [
    {
     "data": {
      "text/plain": [
       "<matplotlib.axes._subplots.AxesSubplot at 0x1c1ab3b2748>"
      ]
     },
     "execution_count": 77,
     "metadata": {},
     "output_type": "execute_result"
    },
    {
     "data": {
      "image/png": "[encoded data removed]",
      "text/plain": [
       "<matplotlib.figure.Figure at 0x1c1ab568198>"
      ]
     },
     "metadata": {},
     "output_type": "display_data"
    }
   ],
   "source": [
    "train.groupby(['Source', 'Destination', 'Total_Stops'])['Price'].sum().plot(kind='bar')"
   ]
  },
  {
   "cell_type": "code",
   "execution_count": 78,
   "metadata": {
    "collapsed": false
   },
   "outputs": [],
   "source": [
    "te = train.groupby(['Source', 'Destination', 'Total_Stops'])['Price'].agg(['mean'])"
   ]
  },
  {
   "cell_type": "code",
   "execution_count": 79,
   "metadata": {
    "collapsed": false
   },
   "outputs": [],
   "source": [
    "te.columns = ['mean_price_DST']"
   ]
  },
  {
   "cell_type": "markdown",
   "metadata": {},
   "source": [
    "## Little Feature Engineering"
   ]
  },
  {
   "cell_type": "code",
   "execution_count": 80,
   "metadata": {
    "collapsed": false
   },
   "outputs": [
    {
     "data": {
      "text/plain": [
       "count    10683.000000\n",
       "mean       773.852382\n",
       "std        344.964055\n",
       "min         20.000000\n",
       "25%        480.000000\n",
       "50%        710.000000\n",
       "75%       1085.000000\n",
       "max       1435.000000\n",
       "Name: Dep_Time, dtype: float64"
      ]
     },
     "execution_count": 80,
     "metadata": {},
     "output_type": "execute_result"
    }
   ],
   "source": [
    "train['Dep_Time'].describe()"
   ]
  },
  {
   "cell_type": "code",
   "execution_count": 81,
   "metadata": {
    "collapsed": false
   },
   "outputs": [
    {
     "data": {
      "text/plain": [
       "count    10683.000000\n",
       "mean       825.617336\n",
       "std        409.324620\n",
       "min          5.000000\n",
       "25%        525.000000\n",
       "50%        845.000000\n",
       "75%       1155.000000\n",
       "max       1435.000000\n",
       "Name: Arrival_time, dtype: float64"
      ]
     },
     "execution_count": 81,
     "metadata": {},
     "output_type": "execute_result"
    }
   ],
   "source": [
    "train['Arrival_time'].describe()"
   ]
  },
  {
   "cell_type": "code",
   "execution_count": 82,
   "metadata": {
    "collapsed": false
   },
   "outputs": [
    {
     "data": {
      "text/plain": [
       "count    10683.000000\n",
       "mean       643.120846\n",
       "std        507.835322\n",
       "min         75.000000\n",
       "25%        170.000000\n",
       "50%        520.000000\n",
       "75%        930.000000\n",
       "max       2860.000000\n",
       "Name: duration, dtype: float64"
      ]
     },
     "execution_count": 82,
     "metadata": {},
     "output_type": "execute_result"
    }
   ],
   "source": [
    "train['duration'].describe()"
   ]
  },
  {
   "cell_type": "code",
   "execution_count": 83,
   "metadata": {
    "collapsed": false
   },
   "outputs": [],
   "source": [
    "def convert_time(tim):\n",
    "    if tim < 720:\n",
    "        return 'AM'\n",
    "    elif tim == 720:\n",
    "        return 'NOON'\n",
    "    else:\n",
    "        return 'PM'"
   ]
  },
  {
   "cell_type": "code",
   "execution_count": 84,
   "metadata": {
    "collapsed": true
   },
   "outputs": [],
   "source": [
    "def convert_dur(dur):\n",
    "    if dur < 1430:\n",
    "        return 'fast'\n",
    "    elif dur == 1430:\n",
    "        return 'middle'\n",
    "    else:\n",
    "        return 'slow'"
   ]
  },
  {
   "cell_type": "code",
   "execution_count": 85,
   "metadata": {
    "collapsed": false
   },
   "outputs": [],
   "source": [
    "train['Time_Zone_Dep'] = train['Dep_Time'].apply(convert_time)"
   ]
  },
  {
   "cell_type": "code",
   "execution_count": 86,
   "metadata": {
    "collapsed": true
   },
   "outputs": [],
   "source": [
    "test['Time_Zone_Dep'] = test['Dep_Time'].apply(convert_time)"
   ]
  },
  {
   "cell_type": "code",
   "execution_count": 87,
   "metadata": {
    "collapsed": false
   },
   "outputs": [],
   "source": [
    "train['Time_Zone_Arr'] = train['Arrival_time'].apply(convert_time)\n",
    "test['Time_Zone_Arr'] = test['Arrival_time'].apply(convert_time)"
   ]
  },
  {
   "cell_type": "code",
   "execution_count": 88,
   "metadata": {
    "collapsed": true
   },
   "outputs": [],
   "source": [
    "train['Time_Zone_Arr'] = train['Arrival_time'].apply(convert_time)\n",
    "test['Time_Zone_Arr'] = test['Arrival_time'].apply(convert_time)"
   ]
  },
  {
   "cell_type": "code",
   "execution_count": 89,
   "metadata": {
    "collapsed": false
   },
   "outputs": [],
   "source": [
    "train['duration_len'] = train['duration'].apply(convert_dur)\n",
    "test['duration_len'] = test['duration'].apply(convert_dur)"
   ]
  },
  {
   "cell_type": "code",
   "execution_count": 90,
   "metadata": {
    "collapsed": false
   },
   "outputs": [
    {
     "data": {
      "text/plain": [
       "<matplotlib.axes._subplots.AxesSubplot at 0x1c1ab54f5c0>"
      ]
     },
     "execution_count": 90,
     "metadata": {},
     "output_type": "execute_result"
    },
    {
     "data": {
      "image/png": "[encoded data removed]",
      "text/plain": [
       "<matplotlib.figure.Figure at 0x1c1ab5aa9b0>"
      ]
     },
     "metadata": {},
     "output_type": "display_data"
    }
   ],
   "source": [
    "train['duration_len'].value_counts().plot(kind='bar')"
   ]
  },
  {
   "cell_type": "code",
   "execution_count": 91,
   "metadata": {
    "collapsed": false
   },
   "outputs": [
    {
     "data": {
      "text/plain": [
       "<matplotlib.axes._subplots.AxesSubplot at 0x1c1ab6b3dd8>"
      ]
     },
     "execution_count": 91,
     "metadata": {},
     "output_type": "execute_result"
    },
    {
     "data": {
      "image/png": "[encoded data removed]",
      "text/plain": [
       "<matplotlib.figure.Figure at 0x1c1ab6c1438>"
      ]
     },
     "metadata": {},
     "output_type": "display_data"
    }
   ],
   "source": [
    "train.groupby('duration_len')['Price'].agg(np.mean).plot(kind='bar')"
   ]
  },
  {
   "cell_type": "code",
   "execution_count": 92,
   "metadata": {
    "collapsed": false
   },
   "outputs": [
    {
     "data": {
      "text/plain": [
       "(Cochin       4537\n",
       " Banglore     2871\n",
       " Delhi        1265\n",
       " New Delhi     932\n",
       " Hyderabad     697\n",
       " Kolkata       381\n",
       " Name: Destination, dtype: int64, Delhi       4537\n",
       " Kolkata     2871\n",
       " Banglore    2197\n",
       " Mumbai       697\n",
       " Chennai      381\n",
       " Name: Source, dtype: int64)"
      ]
     },
     "execution_count": 92,
     "metadata": {},
     "output_type": "execute_result"
    }
   ],
   "source": [
    "train.Destination.value_counts(), train.Source.value_counts()"
   ]
  },
  {
   "cell_type": "code",
   "execution_count": 93,
   "metadata": {
    "collapsed": false
   },
   "outputs": [],
   "source": [
    "#def SD(sou, des):\n",
    "    #if sou =='Banglore' and des == 'Delhi':\n",
    "        #return 'Banglore-Delhi'\n",
    "    #elif sou =='Banglore' and des == 'New Delhi':\n",
    "        #return 'Banglore-New_Delhi'\n",
    "    #elif sou == 'Chennai' and des == 'Kolkata':\n",
    "        #return 'Chennai-Kolkata'\n",
    "    #elif sou == 'Delhi' and des == 'Cochin':\n",
    "        #return 'Delhi-Cochin'\n",
    "    #elif sou == 'Kolkata' and des == 'Banglore':\n",
    "        #return 'Kolkata-Banglore'\n",
    "    #else:\n",
    "        #return 'Mumbai-Hyderabad'"
   ]
  },
  {
   "cell_type": "code",
   "execution_count": 94,
   "metadata": {
    "collapsed": false
   },
   "outputs": [],
   "source": [
    "train['sou_des'] = train['Source'] + ' ' + train['Destination']"
   ]
  },
  {
   "cell_type": "code",
   "execution_count": 95,
   "metadata": {
    "collapsed": true
   },
   "outputs": [],
   "source": [
    "test['sou_des'] = test['Source'] + ' ' + test['Destination']"
   ]
  },
  {
   "cell_type": "code",
   "execution_count": 96,
   "metadata": {
    "collapsed": false
   },
   "outputs": [
    {
     "data": {
      "text/html": [
       "<div>\n",
       "<table border=\"1\" class=\"dataframe\">\n",
       "  <thead>\n",
       "    <tr style=\"text-align: right;\">\n",
       "      <th></th>\n",
       "      <th>Airline</th>\n",
       "      <th>Date_of_Journey</th>\n",
       "      <th>Source</th>\n",
       "      <th>Destination</th>\n",
       "      <th>Route</th>\n",
       "      <th>Dep_Time</th>\n",
       "      <th>Total_Stops</th>\n",
       "      <th>Additional_Info</th>\n",
       "      <th>Price</th>\n",
       "      <th>year_of_journey</th>\n",
       "      <th>days_of_journey</th>\n",
       "      <th>month_of_journey</th>\n",
       "      <th>Arrival_time</th>\n",
       "      <th>duration</th>\n",
       "      <th>Time_Zone_Dep</th>\n",
       "      <th>Time_Zone_Arr</th>\n",
       "      <th>duration_len</th>\n",
       "      <th>sou_des</th>\n",
       "    </tr>\n",
       "  </thead>\n",
       "  <tbody>\n",
       "    <tr>\n",
       "      <th>0</th>\n",
       "      <td>3</td>\n",
       "      <td>2019-03-24</td>\n",
       "      <td>Banglore</td>\n",
       "      <td>New Delhi</td>\n",
       "      <td>BLR → DEL</td>\n",
       "      <td>1340</td>\n",
       "      <td>1</td>\n",
       "      <td>1</td>\n",
       "      <td>3897</td>\n",
       "      <td>2019</td>\n",
       "      <td>6</td>\n",
       "      <td>3</td>\n",
       "      <td>70</td>\n",
       "      <td>170</td>\n",
       "      <td>PM</td>\n",
       "      <td>AM</td>\n",
       "      <td>fast</td>\n",
       "      <td>Banglore New Delhi</td>\n",
       "    </tr>\n",
       "    <tr>\n",
       "      <th>1</th>\n",
       "      <td>1</td>\n",
       "      <td>2019-05-01</td>\n",
       "      <td>Kolkata</td>\n",
       "      <td>Banglore</td>\n",
       "      <td>CCU → IXR → BBI → BLR</td>\n",
       "      <td>350</td>\n",
       "      <td>0</td>\n",
       "      <td>1</td>\n",
       "      <td>7662</td>\n",
       "      <td>2019</td>\n",
       "      <td>2</td>\n",
       "      <td>5</td>\n",
       "      <td>795</td>\n",
       "      <td>445</td>\n",
       "      <td>AM</td>\n",
       "      <td>PM</td>\n",
       "      <td>fast</td>\n",
       "      <td>Kolkata Banglore</td>\n",
       "    </tr>\n",
       "    <tr>\n",
       "      <th>2</th>\n",
       "      <td>4</td>\n",
       "      <td>2019-06-09</td>\n",
       "      <td>Delhi</td>\n",
       "      <td>Cochin</td>\n",
       "      <td>DEL → LKO → BOM → COK</td>\n",
       "      <td>565</td>\n",
       "      <td>0</td>\n",
       "      <td>1</td>\n",
       "      <td>13882</td>\n",
       "      <td>2019</td>\n",
       "      <td>6</td>\n",
       "      <td>6</td>\n",
       "      <td>265</td>\n",
       "      <td>1140</td>\n",
       "      <td>AM</td>\n",
       "      <td>AM</td>\n",
       "      <td>fast</td>\n",
       "      <td>Delhi Cochin</td>\n",
       "    </tr>\n",
       "    <tr>\n",
       "      <th>3</th>\n",
       "      <td>3</td>\n",
       "      <td>2019-05-12</td>\n",
       "      <td>Kolkata</td>\n",
       "      <td>Banglore</td>\n",
       "      <td>CCU → NAG → BLR</td>\n",
       "      <td>1085</td>\n",
       "      <td>0</td>\n",
       "      <td>1</td>\n",
       "      <td>6218</td>\n",
       "      <td>2019</td>\n",
       "      <td>6</td>\n",
       "      <td>5</td>\n",
       "      <td>1410</td>\n",
       "      <td>325</td>\n",
       "      <td>PM</td>\n",
       "      <td>PM</td>\n",
       "      <td>fast</td>\n",
       "      <td>Kolkata Banglore</td>\n",
       "    </tr>\n",
       "    <tr>\n",
       "      <th>4</th>\n",
       "      <td>3</td>\n",
       "      <td>2019-03-01</td>\n",
       "      <td>Banglore</td>\n",
       "      <td>New Delhi</td>\n",
       "      <td>BLR → NAG → DEL</td>\n",
       "      <td>1010</td>\n",
       "      <td>0</td>\n",
       "      <td>1</td>\n",
       "      <td>13302</td>\n",
       "      <td>2019</td>\n",
       "      <td>4</td>\n",
       "      <td>3</td>\n",
       "      <td>1295</td>\n",
       "      <td>285</td>\n",
       "      <td>PM</td>\n",
       "      <td>PM</td>\n",
       "      <td>fast</td>\n",
       "      <td>Banglore New Delhi</td>\n",
       "    </tr>\n",
       "  </tbody>\n",
       "</table>\n",
       "</div>"
      ],
      "text/plain": [
       "   Airline Date_of_Journey    Source Destination                  Route  \\\n",
       "0        3      2019-03-24  Banglore   New Delhi              BLR → DEL   \n",
       "1        1      2019-05-01   Kolkata    Banglore  CCU → IXR → BBI → BLR   \n",
       "2        4      2019-06-09     Delhi      Cochin  DEL → LKO → BOM → COK   \n",
       "3        3      2019-05-12   Kolkata    Banglore        CCU → NAG → BLR   \n",
       "4        3      2019-03-01  Banglore   New Delhi        BLR → NAG → DEL   \n",
       "\n",
       "   Dep_Time  Total_Stops  Additional_Info  Price  year_of_journey  \\\n",
       "0      1340            1                1   3897             2019   \n",
       "1       350            0                1   7662             2019   \n",
       "2       565            0                1  13882             2019   \n",
       "3      1085            0                1   6218             2019   \n",
       "4      1010            0                1  13302             2019   \n",
       "\n",
       "   days_of_journey  month_of_journey  Arrival_time  duration Time_Zone_Dep  \\\n",
       "0                6                 3            70       170            PM   \n",
       "1                2                 5           795       445            AM   \n",
       "2                6                 6           265      1140            AM   \n",
       "3                6                 5          1410       325            PM   \n",
       "4                4                 3          1295       285            PM   \n",
       "\n",
       "  Time_Zone_Arr duration_len             sou_des  \n",
       "0            AM         fast  Banglore New Delhi  \n",
       "1            PM         fast    Kolkata Banglore  \n",
       "2            AM         fast        Delhi Cochin  \n",
       "3            PM         fast    Kolkata Banglore  \n",
       "4            PM         fast  Banglore New Delhi  "
      ]
     },
     "execution_count": 96,
     "metadata": {},
     "output_type": "execute_result"
    }
   ],
   "source": [
    "train.head()"
   ]
  },
  {
   "cell_type": "code",
   "execution_count": 97,
   "metadata": {
    "collapsed": false
   },
   "outputs": [
    {
     "data": {
      "text/plain": [
       "Delhi Cochin          4537\n",
       "Kolkata Banglore      2871\n",
       "Banglore Delhi        1265\n",
       "Banglore New Delhi     932\n",
       "Mumbai Hyderabad       697\n",
       "Chennai Kolkata        381\n",
       "Name: sou_des, dtype: int64"
      ]
     },
     "execution_count": 97,
     "metadata": {},
     "output_type": "execute_result"
    }
   ],
   "source": [
    "train.sou_des.value_counts()"
   ]
  },
  {
   "cell_type": "markdown",
   "metadata": {},
   "source": [
    "converting each source and destination by air to distance"
   ]
  },
  {
   "cell_type": "code",
   "execution_count": 98,
   "metadata": {
    "collapsed": true
   },
   "outputs": [],
   "source": [
    "distance = {'Delhi Cochin':2081.78, 'Kolkata Banglore':1559, 'Banglore Delhi':1700, 'Mumbai Hyderabad':622,\n",
    "      'Chennai Kolkata':1380, 'Banglore New Delhi':1700}"
   ]
  },
  {
   "cell_type": "code",
   "execution_count": 99,
   "metadata": {
    "collapsed": true
   },
   "outputs": [],
   "source": [
    "train['sou_des'] = train['sou_des'].map(distance)"
   ]
  },
  {
   "cell_type": "code",
   "execution_count": 100,
   "metadata": {
    "collapsed": true
   },
   "outputs": [],
   "source": [
    "test['sou_des'] = test['sou_des'].map(distance)"
   ]
  },
  {
   "cell_type": "code",
   "execution_count": 101,
   "metadata": {
    "collapsed": false
   },
   "outputs": [
    {
     "data": {
      "text/html": [
       "<div>\n",
       "<table border=\"1\" class=\"dataframe\">\n",
       "  <thead>\n",
       "    <tr style=\"text-align: right;\">\n",
       "      <th></th>\n",
       "      <th>Airline</th>\n",
       "      <th>Date_of_Journey</th>\n",
       "      <th>Source</th>\n",
       "      <th>Destination</th>\n",
       "      <th>Route</th>\n",
       "      <th>Dep_Time</th>\n",
       "      <th>Total_Stops</th>\n",
       "      <th>Additional_Info</th>\n",
       "      <th>Price</th>\n",
       "      <th>year_of_journey</th>\n",
       "      <th>days_of_journey</th>\n",
       "      <th>month_of_journey</th>\n",
       "      <th>Arrival_time</th>\n",
       "      <th>duration</th>\n",
       "      <th>Time_Zone_Dep</th>\n",
       "      <th>Time_Zone_Arr</th>\n",
       "      <th>duration_len</th>\n",
       "      <th>sou_des</th>\n",
       "    </tr>\n",
       "  </thead>\n",
       "  <tbody>\n",
       "    <tr>\n",
       "      <th>0</th>\n",
       "      <td>3</td>\n",
       "      <td>2019-03-24</td>\n",
       "      <td>Banglore</td>\n",
       "      <td>New Delhi</td>\n",
       "      <td>BLR → DEL</td>\n",
       "      <td>1340</td>\n",
       "      <td>1</td>\n",
       "      <td>1</td>\n",
       "      <td>3897</td>\n",
       "      <td>2019</td>\n",
       "      <td>6</td>\n",
       "      <td>3</td>\n",
       "      <td>70</td>\n",
       "      <td>170</td>\n",
       "      <td>PM</td>\n",
       "      <td>AM</td>\n",
       "      <td>fast</td>\n",
       "      <td>1700.00</td>\n",
       "    </tr>\n",
       "    <tr>\n",
       "      <th>1</th>\n",
       "      <td>1</td>\n",
       "      <td>2019-05-01</td>\n",
       "      <td>Kolkata</td>\n",
       "      <td>Banglore</td>\n",
       "      <td>CCU → IXR → BBI → BLR</td>\n",
       "      <td>350</td>\n",
       "      <td>0</td>\n",
       "      <td>1</td>\n",
       "      <td>7662</td>\n",
       "      <td>2019</td>\n",
       "      <td>2</td>\n",
       "      <td>5</td>\n",
       "      <td>795</td>\n",
       "      <td>445</td>\n",
       "      <td>AM</td>\n",
       "      <td>PM</td>\n",
       "      <td>fast</td>\n",
       "      <td>1559.00</td>\n",
       "    </tr>\n",
       "    <tr>\n",
       "      <th>2</th>\n",
       "      <td>4</td>\n",
       "      <td>2019-06-09</td>\n",
       "      <td>Delhi</td>\n",
       "      <td>Cochin</td>\n",
       "      <td>DEL → LKO → BOM → COK</td>\n",
       "      <td>565</td>\n",
       "      <td>0</td>\n",
       "      <td>1</td>\n",
       "      <td>13882</td>\n",
       "      <td>2019</td>\n",
       "      <td>6</td>\n",
       "      <td>6</td>\n",
       "      <td>265</td>\n",
       "      <td>1140</td>\n",
       "      <td>AM</td>\n",
       "      <td>AM</td>\n",
       "      <td>fast</td>\n",
       "      <td>2081.78</td>\n",
       "    </tr>\n",
       "    <tr>\n",
       "      <th>3</th>\n",
       "      <td>3</td>\n",
       "      <td>2019-05-12</td>\n",
       "      <td>Kolkata</td>\n",
       "      <td>Banglore</td>\n",
       "      <td>CCU → NAG → BLR</td>\n",
       "      <td>1085</td>\n",
       "      <td>0</td>\n",
       "      <td>1</td>\n",
       "      <td>6218</td>\n",
       "      <td>2019</td>\n",
       "      <td>6</td>\n",
       "      <td>5</td>\n",
       "      <td>1410</td>\n",
       "      <td>325</td>\n",
       "      <td>PM</td>\n",
       "      <td>PM</td>\n",
       "      <td>fast</td>\n",
       "      <td>1559.00</td>\n",
       "    </tr>\n",
       "    <tr>\n",
       "      <th>4</th>\n",
       "      <td>3</td>\n",
       "      <td>2019-03-01</td>\n",
       "      <td>Banglore</td>\n",
       "      <td>New Delhi</td>\n",
       "      <td>BLR → NAG → DEL</td>\n",
       "      <td>1010</td>\n",
       "      <td>0</td>\n",
       "      <td>1</td>\n",
       "      <td>13302</td>\n",
       "      <td>2019</td>\n",
       "      <td>4</td>\n",
       "      <td>3</td>\n",
       "      <td>1295</td>\n",
       "      <td>285</td>\n",
       "      <td>PM</td>\n",
       "      <td>PM</td>\n",
       "      <td>fast</td>\n",
       "      <td>1700.00</td>\n",
       "    </tr>\n",
       "  </tbody>\n",
       "</table>\n",
       "</div>"
      ],
      "text/plain": [
       "   Airline Date_of_Journey    Source Destination                  Route  \\\n",
       "0        3      2019-03-24  Banglore   New Delhi              BLR → DEL   \n",
       "1        1      2019-05-01   Kolkata    Banglore  CCU → IXR → BBI → BLR   \n",
       "2        4      2019-06-09     Delhi      Cochin  DEL → LKO → BOM → COK   \n",
       "3        3      2019-05-12   Kolkata    Banglore        CCU → NAG → BLR   \n",
       "4        3      2019-03-01  Banglore   New Delhi        BLR → NAG → DEL   \n",
       "\n",
       "   Dep_Time  Total_Stops  Additional_Info  Price  year_of_journey  \\\n",
       "0      1340            1                1   3897             2019   \n",
       "1       350            0                1   7662             2019   \n",
       "2       565            0                1  13882             2019   \n",
       "3      1085            0                1   6218             2019   \n",
       "4      1010            0                1  13302             2019   \n",
       "\n",
       "   days_of_journey  month_of_journey  Arrival_time  duration Time_Zone_Dep  \\\n",
       "0                6                 3            70       170            PM   \n",
       "1                2                 5           795       445            AM   \n",
       "2                6                 6           265      1140            AM   \n",
       "3                6                 5          1410       325            PM   \n",
       "4                4                 3          1295       285            PM   \n",
       "\n",
       "  Time_Zone_Arr duration_len  sou_des  \n",
       "0            AM         fast  1700.00  \n",
       "1            PM         fast  1559.00  \n",
       "2            AM         fast  2081.78  \n",
       "3            PM         fast  1559.00  \n",
       "4            PM         fast  1700.00  "
      ]
     },
     "execution_count": 101,
     "metadata": {},
     "output_type": "execute_result"
    }
   ],
   "source": [
    "train.head()"
   ]
  },
  {
   "cell_type": "code",
   "execution_count": 102,
   "metadata": {
    "collapsed": false
   },
   "outputs": [
    {
     "data": {
      "text/plain": [
       "Airline            -0.039520\n",
       "Dep_Time            0.005485\n",
       "Total_Stops        -0.613760\n",
       "Additional_Info     0.022086\n",
       "Price               1.000000\n",
       "year_of_journey          NaN\n",
       "days_of_journey     0.051613\n",
       "month_of_journey   -0.103651\n",
       "Arrival_time        0.020921\n",
       "duration            0.506495\n",
       "sou_des             0.321925\n",
       "Name: Price, dtype: float64"
      ]
     },
     "execution_count": 102,
     "metadata": {},
     "output_type": "execute_result"
    }
   ],
   "source": [
    "train.corr()['Price']"
   ]
  },
  {
   "cell_type": "code",
   "execution_count": 103,
   "metadata": {
    "collapsed": false
   },
   "outputs": [],
   "source": [
    "dur_len = {'fast':2, 'middle':1, 'slow':0}"
   ]
  },
  {
   "cell_type": "code",
   "execution_count": 104,
   "metadata": {
    "collapsed": true
   },
   "outputs": [],
   "source": [
    "train['duration_len'] = train['duration_len'].map(dur_len)\n",
    "test['duration_len'] = test['duration_len'].map(dur_len)"
   ]
  },
  {
   "cell_type": "code",
   "execution_count": 105,
   "metadata": {
    "collapsed": false
   },
   "outputs": [
    {
     "data": {
      "text/html": [
       "<div>\n",
       "<table border=\"1\" class=\"dataframe\">\n",
       "  <thead>\n",
       "    <tr style=\"text-align: right;\">\n",
       "      <th>Time_Zone_Arr</th>\n",
       "      <th>AM</th>\n",
       "      <th>NOON</th>\n",
       "      <th>PM</th>\n",
       "      <th>All</th>\n",
       "    </tr>\n",
       "    <tr>\n",
       "      <th>Time_Zone_Dep</th>\n",
       "      <th></th>\n",
       "      <th></th>\n",
       "      <th></th>\n",
       "      <th></th>\n",
       "    </tr>\n",
       "  </thead>\n",
       "  <tbody>\n",
       "    <tr>\n",
       "      <th>AM</th>\n",
       "      <td>2159</td>\n",
       "      <td>70</td>\n",
       "      <td>3148</td>\n",
       "      <td>5377</td>\n",
       "    </tr>\n",
       "    <tr>\n",
       "      <th>NOON</th>\n",
       "      <td>31</td>\n",
       "      <td>0</td>\n",
       "      <td>67</td>\n",
       "      <td>98</td>\n",
       "    </tr>\n",
       "    <tr>\n",
       "      <th>PM</th>\n",
       "      <td>1898</td>\n",
       "      <td>65</td>\n",
       "      <td>3245</td>\n",
       "      <td>5208</td>\n",
       "    </tr>\n",
       "    <tr>\n",
       "      <th>All</th>\n",
       "      <td>4088</td>\n",
       "      <td>135</td>\n",
       "      <td>6460</td>\n",
       "      <td>10683</td>\n",
       "    </tr>\n",
       "  </tbody>\n",
       "</table>\n",
       "</div>"
      ],
      "text/plain": [
       "Time_Zone_Arr    AM  NOON    PM    All\n",
       "Time_Zone_Dep                         \n",
       "AM             2159    70  3148   5377\n",
       "NOON             31     0    67     98\n",
       "PM             1898    65  3245   5208\n",
       "All            4088   135  6460  10683"
      ]
     },
     "execution_count": 105,
     "metadata": {},
     "output_type": "execute_result"
    }
   ],
   "source": [
    "pd.crosstab(train['Time_Zone_Dep'], train['Time_Zone_Arr'], margins=True)"
   ]
  },
  {
   "cell_type": "code",
   "execution_count": 106,
   "metadata": {
    "collapsed": true
   },
   "outputs": [],
   "source": [
    "train['time_zone'] = train['Time_Zone_Dep'] + ' ' + train['Time_Zone_Arr']\n",
    "test['time_zone'] = test['Time_Zone_Dep'] + ' ' + test['Time_Zone_Arr']"
   ]
  },
  {
   "cell_type": "code",
   "execution_count": 107,
   "metadata": {
    "collapsed": true
   },
   "outputs": [],
   "source": [
    "#train['Time_Zone_Dep'] = train['Time_Zone_Dep'].astype('category')\n",
    "#test['Time_Zone_Dep'] = test['Time_Zone_Dep'].astype('category')"
   ]
  },
  {
   "cell_type": "code",
   "execution_count": 108,
   "metadata": {
    "collapsed": true
   },
   "outputs": [],
   "source": [
    "#train['Time_Zone_Dep'] = train['Time_Zone_Dep'].cat.codes\n",
    "#test['Time_Zone_Dep'] = test['Time_Zone_Dep'].cat.codes"
   ]
  },
  {
   "cell_type": "code",
   "execution_count": 109,
   "metadata": {
    "collapsed": false
   },
   "outputs": [],
   "source": [
    "#train['time_zone'] = train['time_zone'].astype('category')\n",
    "#test['time_zone'] = test['time_zone'].astype('category')"
   ]
  },
  {
   "cell_type": "code",
   "execution_count": 110,
   "metadata": {
    "collapsed": true
   },
   "outputs": [],
   "source": [
    "#train['time_zone'] = train['time_zone'].cat.codes\n",
    "#test['time_zone'] = test['time_zone'].cat.codes"
   ]
  },
  {
   "cell_type": "code",
   "execution_count": 111,
   "metadata": {
    "collapsed": true
   },
   "outputs": [],
   "source": [
    "#arr = {'AM':1, 'NOON':2, 'PM':3}"
   ]
  },
  {
   "cell_type": "code",
   "execution_count": 112,
   "metadata": {
    "collapsed": true
   },
   "outputs": [],
   "source": [
    "#train['Time_Zone_Arr'] = train['Time_Zone_Arr'].map(arr)"
   ]
  },
  {
   "cell_type": "code",
   "execution_count": 113,
   "metadata": {
    "collapsed": true
   },
   "outputs": [],
   "source": [
    "#test['Time_Zone_Arr'] = test['Time_Zone_Arr'].map(arr)"
   ]
  },
  {
   "cell_type": "code",
   "execution_count": 114,
   "metadata": {
    "collapsed": true
   },
   "outputs": [],
   "source": [
    "train['Route'] = train['Route'].astype('category')\n",
    "test['Route'] = test['Route'].astype('category')"
   ]
  },
  {
   "cell_type": "code",
   "execution_count": 115,
   "metadata": {
    "collapsed": true
   },
   "outputs": [],
   "source": [
    "train['Route'] = train['Route'].cat.codes\n",
    "test['Route'] = test['Route'].cat.codes"
   ]
  },
  {
   "cell_type": "code",
   "execution_count": 164,
   "metadata": {
    "collapsed": false
   },
   "outputs": [],
   "source": [
    "train  = pd.get_dummies(data=train)"
   ]
  },
  {
   "cell_type": "code",
   "execution_count": 165,
   "metadata": {
    "collapsed": false
   },
   "outputs": [],
   "source": [
    "test = pd.get_dummies(data=test)"
   ]
  },
  {
   "cell_type": "code",
   "execution_count": 118,
   "metadata": {
    "collapsed": true
   },
   "outputs": [],
   "source": [
    "#train['Source'] = train['Source'].astype('category')\n",
    "#test['Source'] = test['Source'].astype('category')"
   ]
  },
  {
   "cell_type": "code",
   "execution_count": 119,
   "metadata": {
    "collapsed": true
   },
   "outputs": [],
   "source": [
    "#train['Source'] = train['Source'].cat.codes\n",
    "#test['Source'] = test['Source'].cat.codes"
   ]
  },
  {
   "cell_type": "code",
   "execution_count": 120,
   "metadata": {
    "collapsed": true
   },
   "outputs": [],
   "source": [
    "#train['Destination'] = train['Destination'].astype('category')\n",
    "#test['Destination'] = test['Destination'].astype('category')"
   ]
  },
  {
   "cell_type": "code",
   "execution_count": 121,
   "metadata": {
    "collapsed": true
   },
   "outputs": [],
   "source": [
    "#train['Destination'] = train['Destination'].cat.codes\n",
    "#test['Destination'] = test['Destination'].cat.codes"
   ]
  },
  {
   "cell_type": "markdown",
   "metadata": {},
   "source": [
    "## droping features "
   ]
  },
  {
   "cell_type": "code",
   "execution_count": 166,
   "metadata": {
    "collapsed": false
   },
   "outputs": [
    {
     "data": {
      "text/plain": [
       "(10683, 46)"
      ]
     },
     "execution_count": 166,
     "metadata": {},
     "output_type": "execute_result"
    }
   ],
   "source": [
    "train.shape"
   ]
  },
  {
   "cell_type": "code",
   "execution_count": 167,
   "metadata": {
    "collapsed": false
   },
   "outputs": [
    {
     "data": {
      "text/plain": [
       "(2671, 45)"
      ]
     },
     "execution_count": 167,
     "metadata": {},
     "output_type": "execute_result"
    }
   ],
   "source": [
    "test.shape"
   ]
  },
  {
   "cell_type": "code",
   "execution_count": 168,
   "metadata": {
    "collapsed": false
   },
   "outputs": [
    {
     "data": {
      "text/plain": [
       "Airline                 -0.039520\n",
       "Route                    0.164183\n",
       "Dep_Time                 0.005485\n",
       "Total_Stops             -0.613760\n",
       "Additional_Info          0.022086\n",
       "Price                    1.000000\n",
       "days_of_journey          0.051613\n",
       "month_of_journey        -0.103651\n",
       "Arrival_time             0.020921\n",
       "duration                 0.506495\n",
       "duration_len            -0.197802\n",
       "sou_des                  0.321925\n",
       "sd                       0.496832\n",
       "ro_mo_stop              -0.439029\n",
       "gr                       0.496832\n",
       "avg_dur_arr              0.381140\n",
       "arr_dep                  0.000850\n",
       "rou_mo                   0.132574\n",
       "d_m                      0.439614\n",
       "To_Re                   -0.472800\n",
       "r_i_m                    0.372806\n",
       "Source_Banglore         -0.118026\n",
       "Source_Chennai          -0.179216\n",
       "Source_Delhi             0.270619\n",
       "Source_Kolkata           0.009377\n",
       "Source_Mumbai           -0.230745\n",
       "Destination_Banglore     0.009377\n",
       "Destination_Cochin       0.270619\n",
       "Destination_Delhi       -0.313401\n",
       "Destination_Hyderabad   -0.230745\n",
       "Destination_Kolkata     -0.179216\n",
       "Destination_New Delhi    0.189785\n",
       "Time_Zone_Dep_AM        -0.003091\n",
       "Time_Zone_Dep_NOON      -0.014575\n",
       "Time_Zone_Dep_PM         0.005872\n",
       "Time_Zone_Arr_AM        -0.039788\n",
       "Time_Zone_Arr_NOON       0.005185\n",
       "Time_Zone_Arr_PM         0.038369\n",
       "time_zone_AM AM         -0.138300\n",
       "time_zone_AM NOON       -0.030727\n",
       "time_zone_AM PM          0.123866\n",
       "time_zone_NOON AM        0.012095\n",
       "time_zone_NOON PM       -0.025843\n",
       "time_zone_PM AM          0.092999\n",
       "time_zone_PM NOON        0.039327\n",
       "time_zone_PM PM         -0.077565\n",
       "Name: Price, dtype: float64"
      ]
     },
     "execution_count": 168,
     "metadata": {},
     "output_type": "execute_result"
    }
   ],
   "source": [
    "train.corr()['Price']"
   ]
  },
  {
   "cell_type": "code",
   "execution_count": 125,
   "metadata": {
    "collapsed": false
   },
   "outputs": [],
   "source": [
    "#train.drop(['Date_of_Journey','Source', 'Destination', 'year_of_journey', 'days_of_journey','Time_Zone_Dep', 'Time_Zone_Arr', 'time_zone'], axis=1, inplace=True)"
   ]
  },
  {
   "cell_type": "code",
   "execution_count": 126,
   "metadata": {
    "collapsed": false
   },
   "outputs": [],
   "source": [
    "train.drop(['Date_of_Journey','year_of_journey'], axis=1, inplace=True)\n",
    "test.drop(['Date_of_Journey','year_of_journey'], axis=1, inplace=True)"
   ]
  },
  {
   "cell_type": "code",
   "execution_count": 127,
   "metadata": {
    "collapsed": false
   },
   "outputs": [],
   "source": [
    "## for test set\n",
    "#test.drop(['Date_of_Journey','Source', 'Destination', 'year_of_journey', 'days_of_journey','Time_Zone_Dep', 'Time_Zone_Arr', 'time_zone'], axis=1, inplace=True)"
   ]
  },
  {
   "cell_type": "code",
   "execution_count": 169,
   "metadata": {
    "collapsed": false
   },
   "outputs": [
    {
     "data": {
      "text/html": [
       "<div>\n",
       "<table border=\"1\" class=\"dataframe\">\n",
       "  <thead>\n",
       "    <tr style=\"text-align: right;\">\n",
       "      <th></th>\n",
       "      <th>Airline</th>\n",
       "      <th>Route</th>\n",
       "      <th>Dep_Time</th>\n",
       "      <th>Total_Stops</th>\n",
       "      <th>Additional_Info</th>\n",
       "      <th>Price</th>\n",
       "      <th>days_of_journey</th>\n",
       "      <th>month_of_journey</th>\n",
       "      <th>Arrival_time</th>\n",
       "      <th>duration</th>\n",
       "      <th>...</th>\n",
       "      <th>Time_Zone_Arr_NOON</th>\n",
       "      <th>Time_Zone_Arr_PM</th>\n",
       "      <th>time_zone_AM AM</th>\n",
       "      <th>time_zone_AM NOON</th>\n",
       "      <th>time_zone_AM PM</th>\n",
       "      <th>time_zone_NOON AM</th>\n",
       "      <th>time_zone_NOON PM</th>\n",
       "      <th>time_zone_PM AM</th>\n",
       "      <th>time_zone_PM NOON</th>\n",
       "      <th>time_zone_PM PM</th>\n",
       "    </tr>\n",
       "  </thead>\n",
       "  <tbody>\n",
       "    <tr>\n",
       "      <th>0</th>\n",
       "      <td>3</td>\n",
       "      <td>18</td>\n",
       "      <td>1.641255</td>\n",
       "      <td>1</td>\n",
       "      <td>1</td>\n",
       "      <td>3897</td>\n",
       "      <td>6</td>\n",
       "      <td>3</td>\n",
       "      <td>-1.846096</td>\n",
       "      <td>170</td>\n",
       "      <td>...</td>\n",
       "      <td>0</td>\n",
       "      <td>0</td>\n",
       "      <td>0</td>\n",
       "      <td>0</td>\n",
       "      <td>0</td>\n",
       "      <td>0</td>\n",
       "      <td>0</td>\n",
       "      <td>1</td>\n",
       "      <td>0</td>\n",
       "      <td>0</td>\n",
       "    </tr>\n",
       "    <tr>\n",
       "      <th>1</th>\n",
       "      <td>1</td>\n",
       "      <td>84</td>\n",
       "      <td>-1.228743</td>\n",
       "      <td>0</td>\n",
       "      <td>1</td>\n",
       "      <td>7662</td>\n",
       "      <td>2</td>\n",
       "      <td>5</td>\n",
       "      <td>-0.074803</td>\n",
       "      <td>445</td>\n",
       "      <td>...</td>\n",
       "      <td>0</td>\n",
       "      <td>1</td>\n",
       "      <td>0</td>\n",
       "      <td>0</td>\n",
       "      <td>1</td>\n",
       "      <td>0</td>\n",
       "      <td>0</td>\n",
       "      <td>0</td>\n",
       "      <td>0</td>\n",
       "      <td>0</td>\n",
       "    </tr>\n",
       "    <tr>\n",
       "      <th>2</th>\n",
       "      <td>4</td>\n",
       "      <td>118</td>\n",
       "      <td>-0.605461</td>\n",
       "      <td>0</td>\n",
       "      <td>1</td>\n",
       "      <td>13882</td>\n",
       "      <td>6</td>\n",
       "      <td>6</td>\n",
       "      <td>-1.369680</td>\n",
       "      <td>1140</td>\n",
       "      <td>...</td>\n",
       "      <td>0</td>\n",
       "      <td>0</td>\n",
       "      <td>1</td>\n",
       "      <td>0</td>\n",
       "      <td>0</td>\n",
       "      <td>0</td>\n",
       "      <td>0</td>\n",
       "      <td>0</td>\n",
       "      <td>0</td>\n",
       "      <td>0</td>\n",
       "    </tr>\n",
       "    <tr>\n",
       "      <th>3</th>\n",
       "      <td>3</td>\n",
       "      <td>91</td>\n",
       "      <td>0.902013</td>\n",
       "      <td>0</td>\n",
       "      <td>1</td>\n",
       "      <td>6218</td>\n",
       "      <td>6</td>\n",
       "      <td>5</td>\n",
       "      <td>1.427742</td>\n",
       "      <td>325</td>\n",
       "      <td>...</td>\n",
       "      <td>0</td>\n",
       "      <td>1</td>\n",
       "      <td>0</td>\n",
       "      <td>0</td>\n",
       "      <td>0</td>\n",
       "      <td>0</td>\n",
       "      <td>0</td>\n",
       "      <td>0</td>\n",
       "      <td>0</td>\n",
       "      <td>1</td>\n",
       "    </tr>\n",
       "    <tr>\n",
       "      <th>4</th>\n",
       "      <td>3</td>\n",
       "      <td>29</td>\n",
       "      <td>0.684589</td>\n",
       "      <td>0</td>\n",
       "      <td>1</td>\n",
       "      <td>13302</td>\n",
       "      <td>4</td>\n",
       "      <td>3</td>\n",
       "      <td>1.146778</td>\n",
       "      <td>285</td>\n",
       "      <td>...</td>\n",
       "      <td>0</td>\n",
       "      <td>1</td>\n",
       "      <td>0</td>\n",
       "      <td>0</td>\n",
       "      <td>0</td>\n",
       "      <td>0</td>\n",
       "      <td>0</td>\n",
       "      <td>0</td>\n",
       "      <td>0</td>\n",
       "      <td>1</td>\n",
       "    </tr>\n",
       "  </tbody>\n",
       "</table>\n",
       "<p>5 rows × 46 columns</p>\n",
       "</div>"
      ],
      "text/plain": [
       "   Airline  Route  Dep_Time  Total_Stops  Additional_Info  Price  \\\n",
       "0        3     18  1.641255            1                1   3897   \n",
       "1        1     84 -1.228743            0                1   7662   \n",
       "2        4    118 -0.605461            0                1  13882   \n",
       "3        3     91  0.902013            0                1   6218   \n",
       "4        3     29  0.684589            0                1  13302   \n",
       "\n",
       "   days_of_journey  month_of_journey  Arrival_time  duration       ...         \\\n",
       "0                6                 3     -1.846096       170       ...          \n",
       "1                2                 5     -0.074803       445       ...          \n",
       "2                6                 6     -1.369680      1140       ...          \n",
       "3                6                 5      1.427742       325       ...          \n",
       "4                4                 3      1.146778       285       ...          \n",
       "\n",
       "   Time_Zone_Arr_NOON  Time_Zone_Arr_PM  time_zone_AM AM  time_zone_AM NOON  \\\n",
       "0                   0                 0                0                  0   \n",
       "1                   0                 1                0                  0   \n",
       "2                   0                 0                1                  0   \n",
       "3                   0                 1                0                  0   \n",
       "4                   0                 1                0                  0   \n",
       "\n",
       "   time_zone_AM PM  time_zone_NOON AM  time_zone_NOON PM  time_zone_PM AM  \\\n",
       "0                0                  0                  0                1   \n",
       "1                1                  0                  0                0   \n",
       "2                0                  0                  0                0   \n",
       "3                0                  0                  0                0   \n",
       "4                0                  0                  0                0   \n",
       "\n",
       "   time_zone_PM NOON  time_zone_PM PM  \n",
       "0                  0                0  \n",
       "1                  0                0  \n",
       "2                  0                0  \n",
       "3                  0                1  \n",
       "4                  0                1  \n",
       "\n",
       "[5 rows x 46 columns]"
      ]
     },
     "execution_count": 169,
     "metadata": {},
     "output_type": "execute_result"
    }
   ],
   "source": [
    "train.head()"
   ]
  },
  {
   "cell_type": "code",
   "execution_count": 170,
   "metadata": {
    "collapsed": false
   },
   "outputs": [
    {
     "data": {
      "text/html": [
       "<div>\n",
       "<table border=\"1\" class=\"dataframe\">\n",
       "  <thead>\n",
       "    <tr style=\"text-align: right;\">\n",
       "      <th></th>\n",
       "      <th>Airline</th>\n",
       "      <th>Route</th>\n",
       "      <th>Dep_Time</th>\n",
       "      <th>Total_Stops</th>\n",
       "      <th>Additional_Info</th>\n",
       "      <th>days_of_journey</th>\n",
       "      <th>month_of_journey</th>\n",
       "      <th>Arrival_time</th>\n",
       "      <th>duration</th>\n",
       "      <th>duration_len</th>\n",
       "      <th>...</th>\n",
       "      <th>Time_Zone_Arr_NOON</th>\n",
       "      <th>Time_Zone_Arr_PM</th>\n",
       "      <th>time_zone_AM AM</th>\n",
       "      <th>time_zone_AM NOON</th>\n",
       "      <th>time_zone_AM PM</th>\n",
       "      <th>time_zone_NOON AM</th>\n",
       "      <th>time_zone_NOON PM</th>\n",
       "      <th>time_zone_PM AM</th>\n",
       "      <th>time_zone_PM NOON</th>\n",
       "      <th>time_zone_PM PM</th>\n",
       "    </tr>\n",
       "  </thead>\n",
       "  <tbody>\n",
       "    <tr>\n",
       "      <th>0</th>\n",
       "      <td>4</td>\n",
       "      <td>76</td>\n",
       "      <td>0.788529</td>\n",
       "      <td>0</td>\n",
       "      <td>1</td>\n",
       "      <td>3</td>\n",
       "      <td>6</td>\n",
       "      <td>-1.366994</td>\n",
       "      <td>655</td>\n",
       "      <td>2</td>\n",
       "      <td>...</td>\n",
       "      <td>0</td>\n",
       "      <td>0</td>\n",
       "      <td>0</td>\n",
       "      <td>0</td>\n",
       "      <td>0</td>\n",
       "      <td>0</td>\n",
       "      <td>0</td>\n",
       "      <td>1</td>\n",
       "      <td>0</td>\n",
       "      <td>0</td>\n",
       "    </tr>\n",
       "    <tr>\n",
       "      <th>1</th>\n",
       "      <td>3</td>\n",
       "      <td>65</td>\n",
       "      <td>-1.176215</td>\n",
       "      <td>0</td>\n",
       "      <td>1</td>\n",
       "      <td>3</td>\n",
       "      <td>12</td>\n",
       "      <td>-0.522537</td>\n",
       "      <td>240</td>\n",
       "      <td>2</td>\n",
       "      <td>...</td>\n",
       "      <td>0</td>\n",
       "      <td>0</td>\n",
       "      <td>1</td>\n",
       "      <td>0</td>\n",
       "      <td>0</td>\n",
       "      <td>0</td>\n",
       "      <td>0</td>\n",
       "      <td>0</td>\n",
       "      <td>0</td>\n",
       "      <td>0</td>\n",
       "    </tr>\n",
       "    <tr>\n",
       "      <th>2</th>\n",
       "      <td>4</td>\n",
       "      <td>76</td>\n",
       "      <td>1.096437</td>\n",
       "      <td>0</td>\n",
       "      <td>0</td>\n",
       "      <td>1</td>\n",
       "      <td>5</td>\n",
       "      <td>0.714414</td>\n",
       "      <td>1425</td>\n",
       "      <td>2</td>\n",
       "      <td>...</td>\n",
       "      <td>0</td>\n",
       "      <td>1</td>\n",
       "      <td>0</td>\n",
       "      <td>0</td>\n",
       "      <td>0</td>\n",
       "      <td>0</td>\n",
       "      <td>0</td>\n",
       "      <td>0</td>\n",
       "      <td>0</td>\n",
       "      <td>1</td>\n",
       "    </tr>\n",
       "    <tr>\n",
       "      <th>3</th>\n",
       "      <td>6</td>\n",
       "      <td>76</td>\n",
       "      <td>-0.882969</td>\n",
       "      <td>0</td>\n",
       "      <td>1</td>\n",
       "      <td>1</td>\n",
       "      <td>5</td>\n",
       "      <td>0.999864</td>\n",
       "      <td>780</td>\n",
       "      <td>2</td>\n",
       "      <td>...</td>\n",
       "      <td>0</td>\n",
       "      <td>1</td>\n",
       "      <td>0</td>\n",
       "      <td>0</td>\n",
       "      <td>1</td>\n",
       "      <td>0</td>\n",
       "      <td>0</td>\n",
       "      <td>0</td>\n",
       "      <td>0</td>\n",
       "      <td>0</td>\n",
       "    </tr>\n",
       "    <tr>\n",
       "      <th>4</th>\n",
       "      <td>0</td>\n",
       "      <td>16</td>\n",
       "      <td>1.917524</td>\n",
       "      <td>1</td>\n",
       "      <td>1</td>\n",
       "      <td>0</td>\n",
       "      <td>6</td>\n",
       "      <td>-1.604869</td>\n",
       "      <td>170</td>\n",
       "      <td>2</td>\n",
       "      <td>...</td>\n",
       "      <td>0</td>\n",
       "      <td>0</td>\n",
       "      <td>0</td>\n",
       "      <td>0</td>\n",
       "      <td>0</td>\n",
       "      <td>0</td>\n",
       "      <td>0</td>\n",
       "      <td>1</td>\n",
       "      <td>0</td>\n",
       "      <td>0</td>\n",
       "    </tr>\n",
       "  </tbody>\n",
       "</table>\n",
       "<p>5 rows × 45 columns</p>\n",
       "</div>"
      ],
      "text/plain": [
       "   Airline  Route  Dep_Time  Total_Stops  Additional_Info  days_of_journey  \\\n",
       "0        4     76  0.788529            0                1                3   \n",
       "1        3     65 -1.176215            0                1                3   \n",
       "2        4     76  1.096437            0                0                1   \n",
       "3        6     76 -0.882969            0                1                1   \n",
       "4        0     16  1.917524            1                1                0   \n",
       "\n",
       "   month_of_journey  Arrival_time  duration  duration_len       ...         \\\n",
       "0                 6     -1.366994       655             2       ...          \n",
       "1                12     -0.522537       240             2       ...          \n",
       "2                 5      0.714414      1425             2       ...          \n",
       "3                 5      0.999864       780             2       ...          \n",
       "4                 6     -1.604869       170             2       ...          \n",
       "\n",
       "   Time_Zone_Arr_NOON  Time_Zone_Arr_PM  time_zone_AM AM  time_zone_AM NOON  \\\n",
       "0                   0                 0                0                  0   \n",
       "1                   0                 0                1                  0   \n",
       "2                   0                 1                0                  0   \n",
       "3                   0                 1                0                  0   \n",
       "4                   0                 0                0                  0   \n",
       "\n",
       "   time_zone_AM PM  time_zone_NOON AM  time_zone_NOON PM  time_zone_PM AM  \\\n",
       "0                0                  0                  0                1   \n",
       "1                0                  0                  0                0   \n",
       "2                0                  0                  0                0   \n",
       "3                1                  0                  0                0   \n",
       "4                0                  0                  0                1   \n",
       "\n",
       "   time_zone_PM NOON  time_zone_PM PM  \n",
       "0                  0                0  \n",
       "1                  0                0  \n",
       "2                  0                1  \n",
       "3                  0                0  \n",
       "4                  0                0  \n",
       "\n",
       "[5 rows x 45 columns]"
      ]
     },
     "execution_count": 170,
     "metadata": {},
     "output_type": "execute_result"
    }
   ],
   "source": [
    "test.head()"
   ]
  },
  {
   "cell_type": "code",
   "execution_count": 171,
   "metadata": {
    "collapsed": false
   },
   "outputs": [],
   "source": [
    "train['sd'] = train['sou_des'] * train['duration']"
   ]
  },
  {
   "cell_type": "code",
   "execution_count": 172,
   "metadata": {
    "collapsed": true
   },
   "outputs": [],
   "source": [
    "test['sd'] = test['sou_des'] * train['duration']"
   ]
  },
  {
   "cell_type": "code",
   "execution_count": 173,
   "metadata": {
    "collapsed": true
   },
   "outputs": [],
   "source": [
    "train['ro_mo_stop'] = (train['Route'] * train['Total_Stops']) / train['month_of_journey']"
   ]
  },
  {
   "cell_type": "code",
   "execution_count": 174,
   "metadata": {
    "collapsed": true
   },
   "outputs": [],
   "source": [
    "test['ro_mo_stop'] = (test['Route'] * test['Total_Stops']) / test['month_of_journey']"
   ]
  },
  {
   "cell_type": "code",
   "execution_count": null,
   "metadata": {
    "collapsed": true
   },
   "outputs": [],
   "source": []
  },
  {
   "cell_type": "markdown",
   "metadata": {},
   "source": [
    "droping low correlation features and unneccesary object datatype"
   ]
  },
  {
   "cell_type": "code",
   "execution_count": 175,
   "metadata": {
    "collapsed": true
   },
   "outputs": [],
   "source": [
    "## increasing figure \n",
    "sns.set(rc={'figure.figsize':(10,5)})"
   ]
  },
  {
   "cell_type": "code",
   "execution_count": 135,
   "metadata": {
    "collapsed": true
   },
   "outputs": [],
   "source": [
    "train['gr'] = train['sou_des'] * train['duration']\n",
    "test['gr'] = test['sou_des'] * test['duration']"
   ]
  },
  {
   "cell_type": "code",
   "execution_count": 136,
   "metadata": {
    "collapsed": true
   },
   "outputs": [],
   "source": [
    "train['avg_dur_arr'] = (train['Arrival_time'] * train['duration']) *100\n",
    "test['avg_dur_arr'] = (test['Arrival_time'] * test['duration']) *100"
   ]
  },
  {
   "cell_type": "code",
   "execution_count": 137,
   "metadata": {
    "collapsed": true
   },
   "outputs": [],
   "source": [
    "train['arr_dep'] = (train['Arrival_time'] - train['Dep_Time']) * train['duration_len']\n",
    "test['arr_dep'] = (test['Arrival_time'] - test['Dep_Time']) * test['duration_len']"
   ]
  },
  {
   "cell_type": "code",
   "execution_count": 138,
   "metadata": {
    "collapsed": true
   },
   "outputs": [],
   "source": [
    "train['rou_mo'] = train['month_of_journey'] * train['Route']\n",
    "test['rou_mo'] = test['month_of_journey'] * test['Route']"
   ]
  },
  {
   "cell_type": "code",
   "execution_count": 139,
   "metadata": {
    "collapsed": true
   },
   "outputs": [],
   "source": [
    "train['d_m'] = train['duration'] * train['month_of_journey']\n",
    "test['d_m'] = test['duration'] * test['month_of_journey']"
   ]
  },
  {
   "cell_type": "code",
   "execution_count": 140,
   "metadata": {
    "collapsed": true
   },
   "outputs": [],
   "source": [
    "train['To_Re'] = train['Total_Stops'] * train['Route']\n",
    "test['To_Re'] = test['Total_Stops'] * test['Route']"
   ]
  },
  {
   "cell_type": "code",
   "execution_count": 141,
   "metadata": {
    "collapsed": false
   },
   "outputs": [
    {
     "data": {
      "text/html": [
       "<div>\n",
       "<table border=\"1\" class=\"dataframe\">\n",
       "  <thead>\n",
       "    <tr style=\"text-align: right;\">\n",
       "      <th></th>\n",
       "      <th>Airline</th>\n",
       "      <th>Source</th>\n",
       "      <th>Destination</th>\n",
       "      <th>Route</th>\n",
       "      <th>Dep_Time</th>\n",
       "      <th>Total_Stops</th>\n",
       "      <th>Additional_Info</th>\n",
       "      <th>Price</th>\n",
       "      <th>days_of_journey</th>\n",
       "      <th>month_of_journey</th>\n",
       "      <th>...</th>\n",
       "      <th>sou_des</th>\n",
       "      <th>time_zone</th>\n",
       "      <th>sd</th>\n",
       "      <th>ro_mo_stop</th>\n",
       "      <th>gr</th>\n",
       "      <th>avg_dur_arr</th>\n",
       "      <th>arr_dep</th>\n",
       "      <th>rou_mo</th>\n",
       "      <th>d_m</th>\n",
       "      <th>To_Re</th>\n",
       "    </tr>\n",
       "  </thead>\n",
       "  <tbody>\n",
       "    <tr>\n",
       "      <th>0</th>\n",
       "      <td>3</td>\n",
       "      <td>Banglore</td>\n",
       "      <td>New Delhi</td>\n",
       "      <td>18</td>\n",
       "      <td>1340</td>\n",
       "      <td>1</td>\n",
       "      <td>1</td>\n",
       "      <td>3897</td>\n",
       "      <td>6</td>\n",
       "      <td>3</td>\n",
       "      <td>...</td>\n",
       "      <td>1700.00</td>\n",
       "      <td>PM AM</td>\n",
       "      <td>289000.0</td>\n",
       "      <td>6.0</td>\n",
       "      <td>289000.0</td>\n",
       "      <td>1190000</td>\n",
       "      <td>-2540</td>\n",
       "      <td>54</td>\n",
       "      <td>510</td>\n",
       "      <td>18</td>\n",
       "    </tr>\n",
       "    <tr>\n",
       "      <th>1</th>\n",
       "      <td>1</td>\n",
       "      <td>Kolkata</td>\n",
       "      <td>Banglore</td>\n",
       "      <td>84</td>\n",
       "      <td>350</td>\n",
       "      <td>0</td>\n",
       "      <td>1</td>\n",
       "      <td>7662</td>\n",
       "      <td>2</td>\n",
       "      <td>5</td>\n",
       "      <td>...</td>\n",
       "      <td>1559.00</td>\n",
       "      <td>AM PM</td>\n",
       "      <td>693755.0</td>\n",
       "      <td>0.0</td>\n",
       "      <td>693755.0</td>\n",
       "      <td>35377500</td>\n",
       "      <td>890</td>\n",
       "      <td>420</td>\n",
       "      <td>2225</td>\n",
       "      <td>0</td>\n",
       "    </tr>\n",
       "    <tr>\n",
       "      <th>2</th>\n",
       "      <td>4</td>\n",
       "      <td>Delhi</td>\n",
       "      <td>Cochin</td>\n",
       "      <td>118</td>\n",
       "      <td>565</td>\n",
       "      <td>0</td>\n",
       "      <td>1</td>\n",
       "      <td>13882</td>\n",
       "      <td>6</td>\n",
       "      <td>6</td>\n",
       "      <td>...</td>\n",
       "      <td>2081.78</td>\n",
       "      <td>AM AM</td>\n",
       "      <td>2373229.2</td>\n",
       "      <td>0.0</td>\n",
       "      <td>2373229.2</td>\n",
       "      <td>30210000</td>\n",
       "      <td>-600</td>\n",
       "      <td>708</td>\n",
       "      <td>6840</td>\n",
       "      <td>0</td>\n",
       "    </tr>\n",
       "    <tr>\n",
       "      <th>3</th>\n",
       "      <td>3</td>\n",
       "      <td>Kolkata</td>\n",
       "      <td>Banglore</td>\n",
       "      <td>91</td>\n",
       "      <td>1085</td>\n",
       "      <td>0</td>\n",
       "      <td>1</td>\n",
       "      <td>6218</td>\n",
       "      <td>6</td>\n",
       "      <td>5</td>\n",
       "      <td>...</td>\n",
       "      <td>1559.00</td>\n",
       "      <td>PM PM</td>\n",
       "      <td>506675.0</td>\n",
       "      <td>0.0</td>\n",
       "      <td>506675.0</td>\n",
       "      <td>45825000</td>\n",
       "      <td>650</td>\n",
       "      <td>455</td>\n",
       "      <td>1625</td>\n",
       "      <td>0</td>\n",
       "    </tr>\n",
       "    <tr>\n",
       "      <th>4</th>\n",
       "      <td>3</td>\n",
       "      <td>Banglore</td>\n",
       "      <td>New Delhi</td>\n",
       "      <td>29</td>\n",
       "      <td>1010</td>\n",
       "      <td>0</td>\n",
       "      <td>1</td>\n",
       "      <td>13302</td>\n",
       "      <td>4</td>\n",
       "      <td>3</td>\n",
       "      <td>...</td>\n",
       "      <td>1700.00</td>\n",
       "      <td>PM PM</td>\n",
       "      <td>484500.0</td>\n",
       "      <td>0.0</td>\n",
       "      <td>484500.0</td>\n",
       "      <td>36907500</td>\n",
       "      <td>570</td>\n",
       "      <td>87</td>\n",
       "      <td>855</td>\n",
       "      <td>0</td>\n",
       "    </tr>\n",
       "  </tbody>\n",
       "</table>\n",
       "<p>5 rows × 25 columns</p>\n",
       "</div>"
      ],
      "text/plain": [
       "   Airline    Source Destination  Route  Dep_Time  Total_Stops  \\\n",
       "0        3  Banglore   New Delhi     18      1340            1   \n",
       "1        1   Kolkata    Banglore     84       350            0   \n",
       "2        4     Delhi      Cochin    118       565            0   \n",
       "3        3   Kolkata    Banglore     91      1085            0   \n",
       "4        3  Banglore   New Delhi     29      1010            0   \n",
       "\n",
       "   Additional_Info  Price  days_of_journey  month_of_journey  ...    sou_des  \\\n",
       "0                1   3897                6                 3  ...    1700.00   \n",
       "1                1   7662                2                 5  ...    1559.00   \n",
       "2                1  13882                6                 6  ...    2081.78   \n",
       "3                1   6218                6                 5  ...    1559.00   \n",
       "4                1  13302                4                 3  ...    1700.00   \n",
       "\n",
       "   time_zone         sd ro_mo_stop         gr  avg_dur_arr arr_dep  rou_mo  \\\n",
       "0      PM AM   289000.0        6.0   289000.0      1190000   -2540      54   \n",
       "1      AM PM   693755.0        0.0   693755.0     35377500     890     420   \n",
       "2      AM AM  2373229.2        0.0  2373229.2     30210000    -600     708   \n",
       "3      PM PM   506675.0        0.0   506675.0     45825000     650     455   \n",
       "4      PM PM   484500.0        0.0   484500.0     36907500     570      87   \n",
       "\n",
       "    d_m  To_Re  \n",
       "0   510     18  \n",
       "1  2225      0  \n",
       "2  6840      0  \n",
       "3  1625      0  \n",
       "4   855      0  \n",
       "\n",
       "[5 rows x 25 columns]"
      ]
     },
     "execution_count": 141,
     "metadata": {},
     "output_type": "execute_result"
    }
   ],
   "source": [
    "train.head()"
   ]
  },
  {
   "cell_type": "code",
   "execution_count": 142,
   "metadata": {
    "collapsed": false
   },
   "outputs": [
    {
     "name": "stdout",
     "output_type": "stream",
     "text": [
      "<class 'pandas.core.frame.DataFrame'>\n",
      "RangeIndex: 2671 entries, 0 to 2670\n",
      "Data columns (total 24 columns):\n",
      "Airline             2671 non-null int8\n",
      "Source              2671 non-null object\n",
      "Destination         2671 non-null object\n",
      "Route               2671 non-null int8\n",
      "Dep_Time            2671 non-null int64\n",
      "Total_Stops         2671 non-null int64\n",
      "Additional_Info     2671 non-null int64\n",
      "days_of_journey     2671 non-null int64\n",
      "month_of_journey    2671 non-null int64\n",
      "Arrival_time        2671 non-null int64\n",
      "duration            2671 non-null int64\n",
      "Time_Zone_Dep       2671 non-null object\n",
      "Time_Zone_Arr       2671 non-null object\n",
      "duration_len        2671 non-null int64\n",
      "sou_des             2671 non-null float64\n",
      "time_zone           2671 non-null object\n",
      "sd                  2671 non-null float64\n",
      "ro_mo_stop          2671 non-null float64\n",
      "gr                  2671 non-null float64\n",
      "avg_dur_arr         2671 non-null int64\n",
      "arr_dep             2671 non-null int64\n",
      "rou_mo              2671 non-null int64\n",
      "d_m                 2671 non-null int64\n",
      "To_Re               2671 non-null int64\n",
      "dtypes: float64(4), int64(13), int8(2), object(5)\n",
      "memory usage: 464.4+ KB\n"
     ]
    }
   ],
   "source": [
    "test.info()"
   ]
  },
  {
   "cell_type": "code",
   "execution_count": 143,
   "metadata": {
    "collapsed": true
   },
   "outputs": [],
   "source": [
    "train['r_i_m'] = (train['Route'] * train['month_of_journey'] * train['duration'])\n",
    "test['r_i_m'] = (test['Route'] * test['month_of_journey'] * test['duration'])"
   ]
  },
  {
   "cell_type": "code",
   "execution_count": null,
   "metadata": {
    "collapsed": true
   },
   "outputs": [],
   "source": []
  },
  {
   "cell_type": "code",
   "execution_count": 176,
   "metadata": {
    "collapsed": false
   },
   "outputs": [
    {
     "data": {
      "text/plain": [
       "<matplotlib.axes._subplots.AxesSubplot at 0x1c1acab5860>"
      ]
     },
     "execution_count": 176,
     "metadata": {},
     "output_type": "execute_result"
    },
    {
     "data": {
      "image/png": "[encoded data removed]",
      "text/plain": [
       "<matplotlib.figure.Figure at 0x1c1acab5080>"
      ]
     },
     "metadata": {},
     "output_type": "display_data"
    }
   ],
   "source": [
    "sns.heatmap(train.corr(), annot=True)"
   ]
  },
  {
   "cell_type": "markdown",
   "metadata": {},
   "source": [
    "## importing data for modelling on kaggle"
   ]
  },
  {
   "cell_type": "code",
   "execution_count": 177,
   "metadata": {
    "collapsed": false
   },
   "outputs": [
    {
     "data": {
      "text/plain": [
       "(10683, 46)"
      ]
     },
     "execution_count": 177,
     "metadata": {},
     "output_type": "execute_result"
    }
   ],
   "source": [
    "train.shape"
   ]
  },
  {
   "cell_type": "code",
   "execution_count": 178,
   "metadata": {
    "collapsed": false
   },
   "outputs": [
    {
     "data": {
      "text/plain": [
       "(2671, 45)"
      ]
     },
     "execution_count": 178,
     "metadata": {},
     "output_type": "execute_result"
    }
   ],
   "source": [
    "test.shape"
   ]
  },
  {
   "cell_type": "code",
   "execution_count": 179,
   "metadata": {
    "collapsed": false
   },
   "outputs": [
    {
     "data": {
      "text/html": [
       "<div>\n",
       "<table border=\"1\" class=\"dataframe\">\n",
       "  <thead>\n",
       "    <tr style=\"text-align: right;\">\n",
       "      <th></th>\n",
       "      <th>Airline</th>\n",
       "      <th>Route</th>\n",
       "      <th>Dep_Time</th>\n",
       "      <th>Total_Stops</th>\n",
       "      <th>Additional_Info</th>\n",
       "      <th>Price</th>\n",
       "      <th>days_of_journey</th>\n",
       "      <th>month_of_journey</th>\n",
       "      <th>Arrival_time</th>\n",
       "      <th>duration</th>\n",
       "      <th>...</th>\n",
       "      <th>Time_Zone_Arr_NOON</th>\n",
       "      <th>Time_Zone_Arr_PM</th>\n",
       "      <th>time_zone_AM AM</th>\n",
       "      <th>time_zone_AM NOON</th>\n",
       "      <th>time_zone_AM PM</th>\n",
       "      <th>time_zone_NOON AM</th>\n",
       "      <th>time_zone_NOON PM</th>\n",
       "      <th>time_zone_PM AM</th>\n",
       "      <th>time_zone_PM NOON</th>\n",
       "      <th>time_zone_PM PM</th>\n",
       "    </tr>\n",
       "  </thead>\n",
       "  <tbody>\n",
       "    <tr>\n",
       "      <th>count</th>\n",
       "      <td>10683.000000</td>\n",
       "      <td>10683.000000</td>\n",
       "      <td>1.068300e+04</td>\n",
       "      <td>10683.000000</td>\n",
       "      <td>10683.000000</td>\n",
       "      <td>10683.000000</td>\n",
       "      <td>10683.000000</td>\n",
       "      <td>10683.000000</td>\n",
       "      <td>1.068300e+04</td>\n",
       "      <td>10683.000000</td>\n",
       "      <td>...</td>\n",
       "      <td>10683.000000</td>\n",
       "      <td>10683.000000</td>\n",
       "      <td>10683.000000</td>\n",
       "      <td>10683.000000</td>\n",
       "      <td>10683.000000</td>\n",
       "      <td>10683.000000</td>\n",
       "      <td>10683.000000</td>\n",
       "      <td>10683.000000</td>\n",
       "      <td>10683.000000</td>\n",
       "      <td>10683.000000</td>\n",
       "    </tr>\n",
       "    <tr>\n",
       "      <th>mean</th>\n",
       "      <td>3.965927</td>\n",
       "      <td>74.813067</td>\n",
       "      <td>-2.001010e-16</td>\n",
       "      <td>0.326781</td>\n",
       "      <td>0.781428</td>\n",
       "      <td>9087.064121</td>\n",
       "      <td>2.934850</td>\n",
       "      <td>4.708602</td>\n",
       "      <td>2.817699e-16</td>\n",
       "      <td>643.120846</td>\n",
       "      <td>...</td>\n",
       "      <td>0.012637</td>\n",
       "      <td>0.604699</td>\n",
       "      <td>0.202097</td>\n",
       "      <td>0.006552</td>\n",
       "      <td>0.294674</td>\n",
       "      <td>0.002902</td>\n",
       "      <td>0.006272</td>\n",
       "      <td>0.177665</td>\n",
       "      <td>0.006084</td>\n",
       "      <td>0.303754</td>\n",
       "    </tr>\n",
       "    <tr>\n",
       "      <th>std</th>\n",
       "      <td>2.352155</td>\n",
       "      <td>36.734645</td>\n",
       "      <td>1.000047e+00</td>\n",
       "      <td>0.469058</td>\n",
       "      <td>0.413297</td>\n",
       "      <td>4611.359167</td>\n",
       "      <td>2.006698</td>\n",
       "      <td>1.164357</td>\n",
       "      <td>1.000047e+00</td>\n",
       "      <td>507.835322</td>\n",
       "      <td>...</td>\n",
       "      <td>0.111707</td>\n",
       "      <td>0.488938</td>\n",
       "      <td>0.401583</td>\n",
       "      <td>0.080685</td>\n",
       "      <td>0.455917</td>\n",
       "      <td>0.053793</td>\n",
       "      <td>0.078949</td>\n",
       "      <td>0.382249</td>\n",
       "      <td>0.077769</td>\n",
       "      <td>0.459899</td>\n",
       "    </tr>\n",
       "    <tr>\n",
       "      <th>min</th>\n",
       "      <td>0.000000</td>\n",
       "      <td>-1.000000</td>\n",
       "      <td>-2.185409e+00</td>\n",
       "      <td>0.000000</td>\n",
       "      <td>0.000000</td>\n",
       "      <td>1759.000000</td>\n",
       "      <td>0.000000</td>\n",
       "      <td>3.000000</td>\n",
       "      <td>-2.004902e+00</td>\n",
       "      <td>75.000000</td>\n",
       "      <td>...</td>\n",
       "      <td>0.000000</td>\n",
       "      <td>0.000000</td>\n",
       "      <td>0.000000</td>\n",
       "      <td>0.000000</td>\n",
       "      <td>0.000000</td>\n",
       "      <td>0.000000</td>\n",
       "      <td>0.000000</td>\n",
       "      <td>0.000000</td>\n",
       "      <td>0.000000</td>\n",
       "      <td>0.000000</td>\n",
       "    </tr>\n",
       "    <tr>\n",
       "      <th>25%</th>\n",
       "      <td>3.000000</td>\n",
       "      <td>48.000000</td>\n",
       "      <td>-8.518747e-01</td>\n",
       "      <td>0.000000</td>\n",
       "      <td>1.000000</td>\n",
       "      <td>5277.000000</td>\n",
       "      <td>1.000000</td>\n",
       "      <td>3.000000</td>\n",
       "      <td>-7.344572e-01</td>\n",
       "      <td>170.000000</td>\n",
       "      <td>...</td>\n",
       "      <td>0.000000</td>\n",
       "      <td>0.000000</td>\n",
       "      <td>0.000000</td>\n",
       "      <td>0.000000</td>\n",
       "      <td>0.000000</td>\n",
       "      <td>0.000000</td>\n",
       "      <td>0.000000</td>\n",
       "      <td>0.000000</td>\n",
       "      <td>0.000000</td>\n",
       "      <td>0.000000</td>\n",
       "    </tr>\n",
       "    <tr>\n",
       "      <th>50%</th>\n",
       "      <td>4.000000</td>\n",
       "      <td>73.000000</td>\n",
       "      <td>-1.851073e-01</td>\n",
       "      <td>0.000000</td>\n",
       "      <td>1.000000</td>\n",
       "      <td>8372.000000</td>\n",
       "      <td>3.000000</td>\n",
       "      <td>5.000000</td>\n",
       "      <td>4.735501e-02</td>\n",
       "      <td>520.000000</td>\n",
       "      <td>...</td>\n",
       "      <td>0.000000</td>\n",
       "      <td>1.000000</td>\n",
       "      <td>0.000000</td>\n",
       "      <td>0.000000</td>\n",
       "      <td>0.000000</td>\n",
       "      <td>0.000000</td>\n",
       "      <td>0.000000</td>\n",
       "      <td>0.000000</td>\n",
       "      <td>0.000000</td>\n",
       "      <td>0.000000</td>\n",
       "    </tr>\n",
       "    <tr>\n",
       "      <th>75%</th>\n",
       "      <td>4.000000</td>\n",
       "      <td>104.000000</td>\n",
       "      <td>9.020133e-01</td>\n",
       "      <td>1.000000</td>\n",
       "      <td>1.000000</td>\n",
       "      <td>12373.000000</td>\n",
       "      <td>5.000000</td>\n",
       "      <td>6.000000</td>\n",
       "      <td>8.047356e-01</td>\n",
       "      <td>930.000000</td>\n",
       "      <td>...</td>\n",
       "      <td>0.000000</td>\n",
       "      <td>1.000000</td>\n",
       "      <td>0.000000</td>\n",
       "      <td>0.000000</td>\n",
       "      <td>1.000000</td>\n",
       "      <td>0.000000</td>\n",
       "      <td>0.000000</td>\n",
       "      <td>0.000000</td>\n",
       "      <td>0.000000</td>\n",
       "      <td>1.000000</td>\n",
       "    </tr>\n",
       "    <tr>\n",
       "      <th>max</th>\n",
       "      <td>11.000000</td>\n",
       "      <td>127.000000</td>\n",
       "      <td>1.916659e+00</td>\n",
       "      <td>1.000000</td>\n",
       "      <td>1.000000</td>\n",
       "      <td>79512.000000</td>\n",
       "      <td>6.000000</td>\n",
       "      <td>6.000000</td>\n",
       "      <td>1.488821e+00</td>\n",
       "      <td>2860.000000</td>\n",
       "      <td>...</td>\n",
       "      <td>1.000000</td>\n",
       "      <td>1.000000</td>\n",
       "      <td>1.000000</td>\n",
       "      <td>1.000000</td>\n",
       "      <td>1.000000</td>\n",
       "      <td>1.000000</td>\n",
       "      <td>1.000000</td>\n",
       "      <td>1.000000</td>\n",
       "      <td>1.000000</td>\n",
       "      <td>1.000000</td>\n",
       "    </tr>\n",
       "  </tbody>\n",
       "</table>\n",
       "<p>8 rows × 46 columns</p>\n",
       "</div>"
      ],
      "text/plain": [
       "            Airline         Route      Dep_Time   Total_Stops  \\\n",
       "count  10683.000000  10683.000000  1.068300e+04  10683.000000   \n",
       "mean       3.965927     74.813067 -2.001010e-16      0.326781   \n",
       "std        2.352155     36.734645  1.000047e+00      0.469058   \n",
       "min        0.000000     -1.000000 -2.185409e+00      0.000000   \n",
       "25%        3.000000     48.000000 -8.518747e-01      0.000000   \n",
       "50%        4.000000     73.000000 -1.851073e-01      0.000000   \n",
       "75%        4.000000    104.000000  9.020133e-01      1.000000   \n",
       "max       11.000000    127.000000  1.916659e+00      1.000000   \n",
       "\n",
       "       Additional_Info         Price  days_of_journey  month_of_journey  \\\n",
       "count     10683.000000  10683.000000     10683.000000      10683.000000   \n",
       "mean          0.781428   9087.064121         2.934850          4.708602   \n",
       "std           0.413297   4611.359167         2.006698          1.164357   \n",
       "min           0.000000   1759.000000         0.000000          3.000000   \n",
       "25%           1.000000   5277.000000         1.000000          3.000000   \n",
       "50%           1.000000   8372.000000         3.000000          5.000000   \n",
       "75%           1.000000  12373.000000         5.000000          6.000000   \n",
       "max           1.000000  79512.000000         6.000000          6.000000   \n",
       "\n",
       "       Arrival_time      duration       ...         Time_Zone_Arr_NOON  \\\n",
       "count  1.068300e+04  10683.000000       ...               10683.000000   \n",
       "mean   2.817699e-16    643.120846       ...                   0.012637   \n",
       "std    1.000047e+00    507.835322       ...                   0.111707   \n",
       "min   -2.004902e+00     75.000000       ...                   0.000000   \n",
       "25%   -7.344572e-01    170.000000       ...                   0.000000   \n",
       "50%    4.735501e-02    520.000000       ...                   0.000000   \n",
       "75%    8.047356e-01    930.000000       ...                   0.000000   \n",
       "max    1.488821e+00   2860.000000       ...                   1.000000   \n",
       "\n",
       "       Time_Zone_Arr_PM  time_zone_AM AM  time_zone_AM NOON  time_zone_AM PM  \\\n",
       "count      10683.000000     10683.000000       10683.000000     10683.000000   \n",
       "mean           0.604699         0.202097           0.006552         0.294674   \n",
       "std            0.488938         0.401583           0.080685         0.455917   \n",
       "min            0.000000         0.000000           0.000000         0.000000   \n",
       "25%            0.000000         0.000000           0.000000         0.000000   \n",
       "50%            1.000000         0.000000           0.000000         0.000000   \n",
       "75%            1.000000         0.000000           0.000000         1.000000   \n",
       "max            1.000000         1.000000           1.000000         1.000000   \n",
       "\n",
       "       time_zone_NOON AM  time_zone_NOON PM  time_zone_PM AM  \\\n",
       "count       10683.000000       10683.000000     10683.000000   \n",
       "mean            0.002902           0.006272         0.177665   \n",
       "std             0.053793           0.078949         0.382249   \n",
       "min             0.000000           0.000000         0.000000   \n",
       "25%             0.000000           0.000000         0.000000   \n",
       "50%             0.000000           0.000000         0.000000   \n",
       "75%             0.000000           0.000000         0.000000   \n",
       "max             1.000000           1.000000         1.000000   \n",
       "\n",
       "       time_zone_PM NOON  time_zone_PM PM  \n",
       "count       10683.000000     10683.000000  \n",
       "mean            0.006084         0.303754  \n",
       "std             0.077769         0.459899  \n",
       "min             0.000000         0.000000  \n",
       "25%             0.000000         0.000000  \n",
       "50%             0.000000         0.000000  \n",
       "75%             0.000000         1.000000  \n",
       "max             1.000000         1.000000  \n",
       "\n",
       "[8 rows x 46 columns]"
      ]
     },
     "execution_count": 179,
     "metadata": {},
     "output_type": "execute_result"
    }
   ],
   "source": [
    "train.describe()"
   ]
  },
  {
   "cell_type": "code",
   "execution_count": 148,
   "metadata": {
    "collapsed": true
   },
   "outputs": [],
   "source": [
    "scale = StandardScaler()"
   ]
  },
  {
   "cell_type": "code",
   "execution_count": 149,
   "metadata": {
    "collapsed": true
   },
   "outputs": [],
   "source": [
    "import warnings\n",
    "warnings.filterwarnings(\"ignore\")"
   ]
  },
  {
   "cell_type": "code",
   "execution_count": 150,
   "metadata": {
    "collapsed": false
   },
   "outputs": [],
   "source": []
  },
  {
   "cell_type": "code",
   "execution_count": 151,
   "metadata": {
    "collapsed": false
   },
   "outputs": [],
   "source": []
  },
  {
   "cell_type": "code",
   "execution_count": 152,
   "metadata": {
    "collapsed": false
   },
   "outputs": [],
   "source": []
  },
  {
   "cell_type": "code",
   "execution_count": 153,
   "metadata": {
    "collapsed": true
   },
   "outputs": [],
   "source": []
  },
  {
   "cell_type": "code",
   "execution_count": 154,
   "metadata": {
    "collapsed": true
   },
   "outputs": [],
   "source": [
    "from scipy.stats import boxcox"
   ]
  },
  {
   "cell_type": "code",
   "execution_count": 180,
   "metadata": {
    "collapsed": false
   },
   "outputs": [
    {
     "data": {
      "text/plain": [
       "Airline                 -0.039520\n",
       "Route                    0.164183\n",
       "Dep_Time                 0.005485\n",
       "Total_Stops             -0.613760\n",
       "Additional_Info          0.022086\n",
       "Price                    1.000000\n",
       "days_of_journey          0.051613\n",
       "month_of_journey        -0.103651\n",
       "Arrival_time             0.020921\n",
       "duration                 0.506495\n",
       "duration_len            -0.197802\n",
       "sou_des                  0.321925\n",
       "sd                       0.151535\n",
       "ro_mo_stop              -0.439029\n",
       "gr                       0.496832\n",
       "avg_dur_arr              0.381140\n",
       "arr_dep                  0.000850\n",
       "rou_mo                   0.132574\n",
       "d_m                      0.439614\n",
       "To_Re                   -0.472800\n",
       "r_i_m                    0.372806\n",
       "Source_Banglore         -0.118026\n",
       "Source_Chennai          -0.179216\n",
       "Source_Delhi             0.270619\n",
       "Source_Kolkata           0.009377\n",
       "Source_Mumbai           -0.230745\n",
       "Destination_Banglore     0.009377\n",
       "Destination_Cochin       0.270619\n",
       "Destination_Delhi       -0.313401\n",
       "Destination_Hyderabad   -0.230745\n",
       "Destination_Kolkata     -0.179216\n",
       "Destination_New Delhi    0.189785\n",
       "Time_Zone_Dep_AM        -0.003091\n",
       "Time_Zone_Dep_NOON      -0.014575\n",
       "Time_Zone_Dep_PM         0.005872\n",
       "Time_Zone_Arr_AM        -0.039788\n",
       "Time_Zone_Arr_NOON       0.005185\n",
       "Time_Zone_Arr_PM         0.038369\n",
       "time_zone_AM AM         -0.138300\n",
       "time_zone_AM NOON       -0.030727\n",
       "time_zone_AM PM          0.123866\n",
       "time_zone_NOON AM        0.012095\n",
       "time_zone_NOON PM       -0.025843\n",
       "time_zone_PM AM          0.092999\n",
       "time_zone_PM NOON        0.039327\n",
       "time_zone_PM PM         -0.077565\n",
       "Name: Price, dtype: float64"
      ]
     },
     "execution_count": 180,
     "metadata": {},
     "output_type": "execute_result"
    }
   ],
   "source": [
    "train.corr()['Price']"
   ]
  },
  {
   "cell_type": "markdown",
   "metadata": {},
   "source": [
    "## modelling"
   ]
  },
  {
   "cell_type": "code",
   "execution_count": 181,
   "metadata": {
    "collapsed": false
   },
   "outputs": [],
   "source": [
    "X = train.drop('Price', axis=1)\n",
    "y = train['Price']"
   ]
  },
  {
   "cell_type": "code",
   "execution_count": 182,
   "metadata": {
    "collapsed": true
   },
   "outputs": [],
   "source": [
    "from sklearn.linear_model import Ridge"
   ]
  },
  {
   "cell_type": "code",
   "execution_count": 183,
   "metadata": {
    "collapsed": true
   },
   "outputs": [],
   "source": [
    "from sklearn.tree import DecisionTreeRegressor"
   ]
  },
  {
   "cell_type": "code",
   "execution_count": 184,
   "metadata": {
    "collapsed": true
   },
   "outputs": [],
   "source": [
    "from sklearn.ensemble import RandomForestRegressor, GradientBoostingRegressor, BaggingRegressor"
   ]
  },
  {
   "cell_type": "code",
   "execution_count": 160,
   "metadata": {
    "collapsed": true
   },
   "outputs": [],
   "source": [
    "#train.to_csv('wedT.csv', index=False)\n",
    "#test.to_csv('wedTe.csv', index=False)"
   ]
  },
  {
   "cell_type": "code",
   "execution_count": 227,
   "metadata": {
    "collapsed": false
   },
   "outputs": [],
   "source": [
    "model = RandomForestRegressor(n_estimators=390, criterion='mse', max_depth=20, min_samples_split=2,min_samples_leaf=1 ,max_features='auto',bootstrap=True, oob_score=True, n_jobs=-1, random_state=42)"
   ]
  },
  {
   "cell_type": "code",
   "execution_count": 228,
   "metadata": {
    "collapsed": true
   },
   "outputs": [],
   "source": [
    "model1 = DecisionTreeRegressor(random_state=42)"
   ]
  },
  {
   "cell_type": "markdown",
   "metadata": {},
   "source": [
    "## max voting Stacking"
   ]
  },
  {
   "cell_type": "code",
   "execution_count": 186,
   "metadata": {
    "collapsed": false
   },
   "outputs": [],
   "source": [
    "#model = BaggingRegressor(GradientBoostingRegressor())"
   ]
  },
  {
   "cell_type": "code",
   "execution_count": 232,
   "metadata": {
    "collapsed": false
   },
   "outputs": [
    {
     "data": {
      "text/plain": [
       "DecisionTreeRegressor(criterion='mse', max_depth=None, max_features=None,\n",
       "           max_leaf_nodes=None, min_impurity_split=1e-07,\n",
       "           min_samples_leaf=1, min_samples_split=2,\n",
       "           min_weight_fraction_leaf=0.0, presort=False, random_state=42,\n",
       "           splitter='best')"
      ]
     },
     "execution_count": 232,
     "metadata": {},
     "output_type": "execute_result"
    }
   ],
   "source": [
    "model.fit(X,y)\n",
    "model1.fit(X, y)"
   ]
  },
  {
   "cell_type": "code",
   "execution_count": 233,
   "metadata": {
    "collapsed": true
   },
   "outputs": [],
   "source": [
    "pred1=model.predict(X)\n",
    "pred2=model1.predict(X)"
   ]
  },
  {
   "cell_type": "code",
   "execution_count": 237,
   "metadata": {
    "collapsed": false
   },
   "outputs": [],
   "source": [
    "final_pred = np.array([])\n",
    "for i in range(0,len(X)):\n",
    "    final_pred = np.append(final_pred, ([pred1[i], pred2[i]]))"
   ]
  },
  {
   "cell_type": "code",
   "execution_count": 238,
   "metadata": {
    "collapsed": false
   },
   "outputs": [
    {
     "data": {
      "text/plain": [
       "array([  5768.60164937,   5806.25      ,   7811.23959702, ...,\n",
       "        12648.        ,  11800.66070649,  11753.        ])"
      ]
     },
     "execution_count": 238,
     "metadata": {},
     "output_type": "execute_result"
    }
   ],
   "source": [
    "final_pred"
   ]
  },
  {
   "cell_type": "markdown",
   "metadata": {},
   "source": [
    "Using Sklearn Voting"
   ]
  },
  {
   "cell_type": "code",
   "execution_count": null,
   "metadata": {
    "collapsed": true
   },
   "outputs": [],
   "source": [
    "from sklearn.ensemble import VotingClassifier\n",
    "model1 = LogisticRegression(random_state=1)\n",
    "model2 = tree.DecisionTreeClassifier(random_state=1)\n",
    "model = VotingClassifier(estimators=[('lr', model1), ('dt', model2)], voting='hard')\n",
    "model.fit(x_train,y_train)\n",
    "model.score(x_test,y_test)"
   ]
  },
  {
   "cell_type": "markdown",
   "metadata": {},
   "source": [
    "## averaging model"
   ]
  },
  {
   "cell_type": "code",
   "execution_count": 240,
   "metadata": {
    "collapsed": false
   },
   "outputs": [],
   "source": [
    "finalpred=(pred1+pred2)/2"
   ]
  },
  {
   "cell_type": "code",
   "execution_count": 247,
   "metadata": {
    "collapsed": false
   },
   "outputs": [
    {
     "data": {
      "text/plain": [
       "10683"
      ]
     },
     "execution_count": 247,
     "metadata": {},
     "output_type": "execute_result"
    }
   ],
   "source": [
    "len(finalpred)"
   ]
  },
  {
   "cell_type": "markdown",
   "metadata": {},
   "source": [
    "## Stacking"
   ]
  },
  {
   "cell_type": "code",
   "execution_count": 246,
   "metadata": {
    "collapsed": false
   },
   "outputs": [
    {
     "data": {
      "text/plain": [
       "21366"
      ]
     },
     "execution_count": 246,
     "metadata": {},
     "output_type": "execute_result"
    }
   ],
   "source": [
    "len(final_pred)"
   ]
  },
  {
   "cell_type": "code",
   "execution_count": 244,
   "metadata": {
    "collapsed": false
   },
   "outputs": [
    {
     "data": {
      "text/plain": [
       "10683"
      ]
     },
     "execution_count": 244,
     "metadata": {},
     "output_type": "execute_result"
    }
   ],
   "source": []
  },
  {
   "cell_type": "code",
   "execution_count": 248,
   "metadata": {
    "collapsed": false
   },
   "outputs": [
    {
     "name": "stdout",
     "output_type": "stream",
     "text": [
      "327.488837991\n",
      "738492.767485\n",
      "859.356019055\n"
     ]
    }
   ],
   "source": [
    "print (mean_absolute_error(finalpred,y))\n",
    "print (mean_squared_error(finalpred,y))\n",
    "print (np.sqrt(mean_squared_error(finalpred,y)))"
   ]
  },
  {
   "cell_type": "code",
   "execution_count": null,
   "metadata": {
    "collapsed": true
   },
   "outputs": [],
   "source": []
  },
  {
   "cell_type": "code",
   "execution_count": null,
   "metadata": {
    "collapsed": true
   },
   "outputs": [],
   "source": []
  },
  {
   "cell_type": "code",
   "execution_count": null,
   "metadata": {
    "collapsed": true
   },
   "outputs": [],
   "source": []
  },
  {
   "cell_type": "code",
   "execution_count": null,
   "metadata": {
    "collapsed": true
   },
   "outputs": [],
   "source": []
  },
  {
   "cell_type": "code",
   "execution_count": null,
   "metadata": {
    "collapsed": true
   },
   "outputs": [],
   "source": []
  },
  {
   "cell_type": "code",
   "execution_count": null,
   "metadata": {
    "collapsed": true
   },
   "outputs": [],
   "source": []
  },
  {
   "cell_type": "code",
   "execution_count": null,
   "metadata": {
    "collapsed": true
   },
   "outputs": [],
   "source": []
  },
  {
   "cell_type": "code",
   "execution_count": 212,
   "metadata": {
    "collapsed": false
   },
   "outputs": [],
   "source": [
    "from sklearn.metrics import mean_absolute_error, mean_squared_error, explained_variance_score"
   ]
  },
  {
   "cell_type": "code",
   "execution_count": 213,
   "metadata": {
    "collapsed": false
   },
   "outputs": [],
   "source": [
    "pred_train_set = model.predict(X)"
   ]
  },
  {
   "cell_type": "code",
   "execution_count": 214,
   "metadata": {
    "collapsed": false
   },
   "outputs": [
    {
     "name": "stdout",
     "output_type": "stream",
     "text": [
      "439.14539625\n",
      "1071641.52464\n",
      "1035.20120008\n"
     ]
    }
   ],
   "source": [
    "print (mean_absolute_error(pred_train_set,y))\n",
    "print (mean_squared_error(pred_train_set,y))\n",
    "print (np.sqrt(mean_squared_error(pred_train_set,y)))"
   ]
  },
  {
   "cell_type": "code",
   "execution_count": 249,
   "metadata": {
    "collapsed": false
   },
   "outputs": [
    {
     "name": "stdout",
     "output_type": "stream",
     "text": [
      "0.962187222042\n"
     ]
    }
   ],
   "source": [
    "print(explained_variance_score(finalpred,y))"
   ]
  },
  {
   "cell_type": "code",
   "execution_count": 251,
   "metadata": {
    "collapsed": false
   },
   "outputs": [
    {
     "data": {
      "text/plain": [
       "<matplotlib.collections.PathCollection at 0x1c1af90b710>"
      ]
     },
     "execution_count": 251,
     "metadata": {},
     "output_type": "execute_result"
    },
    {
     "data": {
      "image/png": "[encoded data removed]",
      "text/plain": [
       "<matplotlib.figure.Figure at 0x1c1af68e7b8>"
      ]
     },
     "metadata": {},
     "output_type": "display_data"
    }
   ],
   "source": [
    "plt.scatter(finalpred,y)"
   ]
  },
  {
   "cell_type": "code",
   "execution_count": 252,
   "metadata": {
    "collapsed": false
   },
   "outputs": [],
   "source": [
    "X_test = test"
   ]
  },
  {
   "cell_type": "code",
   "execution_count": 255,
   "metadata": {
    "collapsed": false
   },
   "outputs": [
    {
     "data": {
      "text/plain": [
       "numpy.ndarray"
      ]
     },
     "execution_count": 255,
     "metadata": {},
     "output_type": "execute_result"
    }
   ],
   "source": [
    "type(finalpred) "
   ]
  },
  {
   "cell_type": "code",
   "execution_count": 219,
   "metadata": {
    "collapsed": false
   },
   "outputs": [
    {
     "data": {
      "text/plain": [
       "array([ 13384.4409862 ,   6320.97692308,   8694.38621862, ...,\n",
       "        13012.1235622 ,  10309.06471475,  10034.50495777])"
      ]
     },
     "execution_count": 219,
     "metadata": {},
     "output_type": "execute_result"
    }
   ],
   "source": [
    "test_set_predictions"
   ]
  },
  {
   "cell_type": "code",
   "execution_count": 220,
   "metadata": {
    "collapsed": true
   },
   "outputs": [],
   "source": [
    "d = {'Price': test_set_predictions.round()}\n",
    "df_predictions = pd.DataFrame(data=d)\n",
    "df_predictions = df_predictions['Price']"
   ]
  },
  {
   "cell_type": "code",
   "execution_count": 221,
   "metadata": {
    "collapsed": false
   },
   "outputs": [
    {
     "data": {
      "text/plain": [
       "0    13384.0\n",
       "1     6321.0\n",
       "2     8694.0\n",
       "3    10128.0\n",
       "4     5053.0\n",
       "Name: Price, dtype: float64"
      ]
     },
     "execution_count": 221,
     "metadata": {},
     "output_type": "execute_result"
    }
   ],
   "source": [
    "df_predictions.head()"
   ]
  },
  {
   "cell_type": "code",
   "execution_count": 223,
   "metadata": {
    "collapsed": false
   },
   "outputs": [],
   "source": [
    "df_predictions.to_csv('w23.csv', index=False)"
   ]
  },
  {
   "cell_type": "code",
   "execution_count": 224,
   "metadata": {
    "collapsed": true
   },
   "outputs": [],
   "source": [
    "#train.to_csv('flight_Td.csv', index=False)\n",
    "#test.to_csv('flight_Ted.csv', index=False)"
   ]
  },
  {
   "cell_type": "code",
   "execution_count": null,
   "metadata": {
    "collapsed": false
   },
   "outputs": [],
   "source": []
  },
  {
   "cell_type": "code",
   "execution_count": null,
   "metadata": {
    "collapsed": true
   },
   "outputs": [],
   "source": []
  }
 ],
 "metadata": {
  "kernelspec": {
   "display_name": "Python 3",
   "language": "python",
   "name": "python3"
  },
  "language_info": {
   "codemirror_mode": {
    "name": "ipython",
    "version": 3
   },
   "file_extension": ".py",
   "mimetype": "text/x-python",
   "name": "python",
   "nbconvert_exporter": "python",
   "pygments_lexer": "ipython3",
   "version": "3.6.0"
  }
 },
 "nbformat": 4,
 "nbformat_minor": 2
}
